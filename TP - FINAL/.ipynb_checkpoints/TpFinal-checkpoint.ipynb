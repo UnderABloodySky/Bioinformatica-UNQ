{
 "cells": [
  {
   "cell_type": "code",
   "execution_count": 1,
   "metadata": {},
   "outputs": [
    {
     "ename": "ModuleNotFoundError",
     "evalue": "No module named 'PySimpleGUI'",
     "output_type": "error",
     "traceback": [
      "\u001b[0;31m---------------------------------------------------------------------------\u001b[0m",
      "\u001b[0;31mModuleNotFoundError\u001b[0m                       Traceback (most recent call last)",
      "\u001b[0;32m<ipython-input-1-0075c092be14>\u001b[0m in \u001b[0;36m<module>\u001b[0;34m\u001b[0m\n\u001b[0;32m----> 1\u001b[0;31m \u001b[0;32mimport\u001b[0m \u001b[0mPySimpleGUI\u001b[0m \u001b[0;32mas\u001b[0m \u001b[0msg\u001b[0m\u001b[0;34m\u001b[0m\u001b[0;34m\u001b[0m\u001b[0m\n\u001b[0m\u001b[1;32m      2\u001b[0m \u001b[0;34m\u001b[0m\u001b[0m\n\u001b[1;32m      3\u001b[0m \u001b[0;32mimport\u001b[0m \u001b[0mclases\u001b[0m\u001b[0;34m.\u001b[0m\u001b[0mMapa\u001b[0m\u001b[0;34m\u001b[0m\u001b[0;34m\u001b[0m\u001b[0m\n\u001b[1;32m      4\u001b[0m \u001b[0;32mimport\u001b[0m \u001b[0mclases\u001b[0m\u001b[0;34m.\u001b[0m\u001b[0mAlineador\u001b[0m\u001b[0;34m\u001b[0m\u001b[0;34m\u001b[0m\u001b[0m\n\u001b[1;32m      5\u001b[0m \u001b[0;32mimport\u001b[0m \u001b[0mclases\u001b[0m\u001b[0;34m.\u001b[0m\u001b[0mArbol\u001b[0m\u001b[0;34m\u001b[0m\u001b[0;34m\u001b[0m\u001b[0m\n",
      "\u001b[0;31mModuleNotFoundError\u001b[0m: No module named 'PySimpleGUI'"
     ]
    }
   ],
   "source": [
    "import PySimpleGUI as sg\n",
    "\n",
    "import clases.Mapa\n",
    "import clases.Alineador\n",
    "import clases.Arbol\n",
    "\n",
    "arbol = Arbol()\n",
    "Alineacion = Alineador()\n",
    "mapa = Mapa()\n",
    "newick = ''\n",
    "fasta = ''\n",
    "\n",
    "layoutSubirArchivo = [  [sg.Text('Filename')],\n",
    "            [sg.Input(), sg.FileBrowse()], \n",
    "            [sg.OK(), sg.Cancel()]]\n",
    "\n",
    "sg.theme('DarkAmber')   # Add a touch of color\n",
    "# All the stuff inside your window.\n",
    "layout = [  [sg.Text('MENU Pongamosle un lindo mensaje')],\n",
    "            [sg.Button('Subir Fasta')],\n",
    "            [sg.Text('O ingrese manualmente la secuencia.')],\n",
    "            [sg.InputText()],\n",
    "            [sg.Button('Cargar')],\n",
    "            [sg.Button('Alinear Secuencias')],\n",
    "            [sg.Button('Armar Arbol')],\n",
    "            [sg.Button('Mostrar Mapa')],\n",
    "         ]\n",
    "\n",
    "# Create the Window\n",
    "window = sg.Window('Trabajo Final Bioinformatica', layout)\n",
    "# Event Loop to process \"events\" and get the \"values\" of the inputs\n",
    "while True:\n",
    "    event, values = window.read()\n",
    "    if event == sg.WIN_CLOSED: # if user closes window or clicks cancel\n",
    "        break\n",
    "    elif event == 'Subir Fasta':\n",
    "        event, values = sg.Window('Seleccione un archivo tipo Fasta', layoutSubirArchivo).read(close=True)\n",
    "    elif event == 'Alinear Secuencias':\n",
    "        self.alineacion.alinear()\n",
    "    elif event == 'Armar Arbol':\n",
    "        self.arbol.armarArbol()\n",
    "    elif event == 'Mostrar Mapa':\n",
    "        self.mapa.mostrarMapa()\n",
    "    print('You entered ', values[0])\n",
    "\n",
    "window.close()\n",
    "\n"
   ]
  },
  {
   "cell_type": "code",
   "execution_count": null,
   "metadata": {},
   "outputs": [],
   "source": [
    "pip install PySimpleGUI\n",
    "\n"
   ]
  },
  {
   "cell_type": "code",
   "execution_count": null,
   "metadata": {},
   "outputs": [],
   "source": []
  }
 ],
 "metadata": {
  "kernelspec": {
   "display_name": "Python 3",
   "language": "python",
   "name": "python3"
  },
  "language_info": {
   "codemirror_mode": {
    "name": "ipython",
    "version": 3
   },
   "file_extension": ".py",
   "mimetype": "text/x-python",
   "name": "python",
   "nbconvert_exporter": "python",
   "pygments_lexer": "ipython3",
   "version": "3.7.3"
  }
 },
 "nbformat": 4,
 "nbformat_minor": 4
}
