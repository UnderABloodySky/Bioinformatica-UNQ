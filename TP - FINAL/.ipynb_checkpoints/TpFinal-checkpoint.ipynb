{
 "cells": [
  {
   "cell_type": "code",
   "execution_count": 30,
   "metadata": {},
   "outputs": [
    {
     "name": "stdout",
     "output_type": "stream",
     "text": [
      "Requirement already satisfied: PySimpleGUI in /home/chesire/anaconda3/lib/python3.7/site-packages (4.22.0)\r\n"
     ]
    }
   ],
   "source": [
    "#Interfaz\n",
    "!pip install PySimpleGUI"
   ]
  },
  {
   "cell_type": "code",
   "execution_count": 4,
   "metadata": {},
   "outputs": [],
   "source": [
    "#Arbol - Librerias\n",
    "conda install -c etetoolkit ete3\n",
    "\n",
    "export PATH=~/anaconda_ete/bin:$PATH\n",
    "\n",
    "IQTREE - conda install -c bioconda iqtree\n"
   ]
  },
  {
   "cell_type": "code",
   "execution_count": 2,
   "metadata": {},
   "outputs": [],
   "source": [
    "from ete3 import PhyloTree, faces, TreeStyle, NodeStyle\n",
    "import subprocess\n",
    "\n",
    "class Arbol:\n",
    "    def __init__(self):\n",
    "        test = subprocess.Popen([\"iqtree\",\"-s\",\"./temp/fasta.fasta\"], stdout=subprocess.PIPE)\n",
    "        test.communicate()[0]\n",
    "        self.alg = open(\"./temp/fasta.fasta\", \"r\").read()\n",
    "        self.newick = open(\"./temp/fasta.fasta.treefile\", \"r\").read()\n",
    "    \n",
    "    def getPhyloTree(self):\n",
    "        # Performs a tree reconciliation analysis \n",
    "        gene_tree_nw = self.newick\n",
    "        genetree = PhyloTree(gene_tree_nw)\n",
    "        genetree.link_to_alignment(self.alg)\n",
    "        return genetree, TreeStyle()\n",
    "\n",
    "    def armarArbol(self):\n",
    "        # Visualize the reconciled tree\n",
    "        t, ts = self.getPhyloTree()\n",
    "        ts.scale = 20\n",
    "        ts.show_leaf_name = True\n",
    "        ts.show_branch_length = True\n",
    "        ts.show_branch_support = True\n",
    "        #ts.layout_fn = master_ly\n",
    "        t.show(tree_style=ts)\n",
    "\n",
    "arbol = Arbol()"
   ]
  },
  {
   "cell_type": "code",
   "execution_count": 5,
   "metadata": {},
   "outputs": [
    {
     "name": "stdout",
     "output_type": "stream",
     "text": [
      "Requirement already satisfied: geopy in /home/kvc4/anaconda3/lib/python3.7/site-packages (2.0.0)\n",
      "Requirement already satisfied: geographiclib<2,>=1.49 in /home/kvc4/anaconda3/lib/python3.7/site-packages (from geopy) (1.50)\n",
      "Requirement already satisfied: folium in /home/kvc4/anaconda3/lib/python3.7/site-packages (0.11.0)\n",
      "Requirement already satisfied: requests in /home/kvc4/anaconda3/lib/python3.7/site-packages (from folium) (2.22.0)\n",
      "Requirement already satisfied: numpy in /home/kvc4/anaconda3/lib/python3.7/site-packages (from folium) (1.18.1)\n",
      "Requirement already satisfied: jinja2>=2.9 in /home/kvc4/anaconda3/lib/python3.7/site-packages (from folium) (2.11.1)\n",
      "Requirement already satisfied: branca>=0.3.0 in /home/kvc4/anaconda3/lib/python3.7/site-packages (from folium) (0.4.1)\n",
      "Requirement already satisfied: chardet<3.1.0,>=3.0.2 in /home/kvc4/anaconda3/lib/python3.7/site-packages (from requests->folium) (3.0.4)\n",
      "Requirement already satisfied: certifi>=2017.4.17 in /home/kvc4/anaconda3/lib/python3.7/site-packages (from requests->folium) (2019.11.28)\n",
      "Requirement already satisfied: urllib3!=1.25.0,!=1.25.1,<1.26,>=1.21.1 in /home/kvc4/anaconda3/lib/python3.7/site-packages (from requests->folium) (1.25.8)\n",
      "Requirement already satisfied: idna<2.9,>=2.5 in /home/kvc4/anaconda3/lib/python3.7/site-packages (from requests->folium) (2.8)\n",
      "Requirement already satisfied: MarkupSafe>=0.23 in /home/kvc4/anaconda3/lib/python3.7/site-packages (from jinja2>=2.9->folium) (1.1.1)\n",
      "Requirement already satisfied: selenium in /home/kvc4/anaconda3/lib/python3.7/site-packages (3.141.0)\n",
      "Requirement already satisfied: urllib3 in /home/kvc4/anaconda3/lib/python3.7/site-packages (from selenium) (1.25.8)\n"
     ]
    }
   ],
   "source": [
    "#Mapa - libreria\n",
    "!pip install geopy\n",
    "!pip install folium\n",
    "!pip install selenium\n",
    "\n",
    "from geopy.geocoders import Nominatim\n",
    "geolocator = Nominatim(user_agent=\"TP FINAL Bioinformatica\")"
   ]
  },
  {
   "cell_type": "code",
   "execution_count": 6,
   "metadata": {},
   "outputs": [],
   "source": [
    "#Mapa - Modelo\n",
    "import folium\n",
    "from folium.plugins import MiniMap\n",
    "from folium.plugins import MousePosition\n",
    "import PySimpleGUI as sg\n",
    "import io\n",
    "from PIL import Image\n",
    "\n",
    "class UbicacionNotFound(Exception):\n",
    "    def __init__(self, nombre_ubicacion):\n",
    "        super().__init__(f\"La ubicación {nombre_ubicacion} no es válida\")\n",
    "\n",
    "\n",
    "class Mapa:\n",
    "    def __init__(self):\n",
    "        self.points = []\n",
    "        self.my_map = folium.Map(\n",
    "            zoom_start = 12,\n",
    "            control_scale=True,\n",
    "            world_copy_jump=False,\n",
    "            no_wrap=False\n",
    "        )\n",
    "        \n",
    "       \n",
    "    def armar_mapa(self, nombres_de_ubicaciones):\n",
    "        n = 1\n",
    "        for nombre_ubicacion in nombres_de_ubicaciones:\n",
    "            ubicacion = geolocator.geocode(nombre_ubicacion)\n",
    "            if ubicacion == None:\n",
    "                raise UbicacionNotFound(nombre_ubicacion)\n",
    "            point = (ubicacion.latitude, ubicacion.longitude)\n",
    "            self.points.append(point)\n",
    "            folium.Marker(\n",
    "                location = [point[0], point[1]],\n",
    "                icon = folium.Icon(color='red', icon='cloud'),\n",
    "                popup= f'Ubicacion: {nombre_ubicacion}',\n",
    "                tooltip = n\n",
    "            ).add_to(self.my_map)\n",
    "            n = n + 1\n",
    "        return self\n",
    "    \n",
    "    def render_mapa(self):\n",
    "        MousePosition().add_to(self.my_map)\n",
    "        folium.PolyLine(self.points).add_to(self.my_map)\n",
    "        minimap = MiniMap()\n",
    "        self.my_map.add_child(minimap)\n",
    "        display(self.my_map)\n",
    "            \n",
    "mapa = Mapa()"
   ]
  },
  {
   "cell_type": "code",
   "execution_count": 5,
   "metadata": {},
   "outputs": [
    {
     "ename": "NewickError",
     "evalue": "Unexisting tree file or Malformed newick tree structure.\nYou may want to check other newick loading flags like 'format' or 'quoted_node_names'.",
     "output_type": "error",
     "traceback": [
      "\u001b[0;31m---------------------------------------------------------------------------\u001b[0m",
      "\u001b[0;31mNewickError\u001b[0m                               Traceback (most recent call last)",
      "\u001b[0;32m<ipython-input-5-4e573ee41d29>\u001b[0m in \u001b[0;36m<module>\u001b[0;34m\u001b[0m\n\u001b[1;32m     29\u001b[0m         \u001b[0malineacion\u001b[0m\u001b[0;34m.\u001b[0m\u001b[0malinear\u001b[0m\u001b[0;34m(\u001b[0m\u001b[0;34m)\u001b[0m\u001b[0;34m\u001b[0m\u001b[0;34m\u001b[0m\u001b[0m\n\u001b[1;32m     30\u001b[0m     \u001b[0;32melif\u001b[0m \u001b[0mevent\u001b[0m \u001b[0;34m==\u001b[0m \u001b[0;34m'Armar Arbol'\u001b[0m\u001b[0;34m:\u001b[0m\u001b[0;34m\u001b[0m\u001b[0;34m\u001b[0m\u001b[0m\n\u001b[0;32m---> 31\u001b[0;31m         \u001b[0marbol\u001b[0m\u001b[0;34m.\u001b[0m\u001b[0marmarArbol\u001b[0m\u001b[0;34m(\u001b[0m\u001b[0;34m)\u001b[0m\u001b[0;34m\u001b[0m\u001b[0;34m\u001b[0m\u001b[0m\n\u001b[0m\u001b[1;32m     32\u001b[0m     \u001b[0;32melif\u001b[0m \u001b[0mevent\u001b[0m \u001b[0;34m==\u001b[0m \u001b[0;34m'Mostrar Mapa'\u001b[0m\u001b[0;34m:\u001b[0m\u001b[0;34m\u001b[0m\u001b[0;34m\u001b[0m\u001b[0m\n\u001b[1;32m     33\u001b[0m         \u001b[0mmapa\u001b[0m\u001b[0;34m.\u001b[0m\u001b[0marmar_mapa\u001b[0m\u001b[0;34m(\u001b[0m\u001b[0mlista_de_nombre_de_ubicaciones\u001b[0m\u001b[0;34m)\u001b[0m\u001b[0;34m.\u001b[0m\u001b[0mrender_mapa\u001b[0m\u001b[0;34m(\u001b[0m\u001b[0;34m)\u001b[0m\u001b[0;34m\u001b[0m\u001b[0;34m\u001b[0m\u001b[0m\n",
      "\u001b[0;32m<ipython-input-2-b30b49eb445f>\u001b[0m in \u001b[0;36marmarArbol\u001b[0;34m(self)\u001b[0m\n\u001b[1;32m     18\u001b[0m     \u001b[0;32mdef\u001b[0m \u001b[0marmarArbol\u001b[0m\u001b[0;34m(\u001b[0m\u001b[0mself\u001b[0m\u001b[0;34m)\u001b[0m\u001b[0;34m:\u001b[0m\u001b[0;34m\u001b[0m\u001b[0;34m\u001b[0m\u001b[0m\n\u001b[1;32m     19\u001b[0m         \u001b[0;31m# Visualize the reconciled tree\u001b[0m\u001b[0;34m\u001b[0m\u001b[0;34m\u001b[0m\u001b[0;34m\u001b[0m\u001b[0m\n\u001b[0;32m---> 20\u001b[0;31m         \u001b[0mt\u001b[0m\u001b[0;34m,\u001b[0m \u001b[0mts\u001b[0m \u001b[0;34m=\u001b[0m \u001b[0mself\u001b[0m\u001b[0;34m.\u001b[0m\u001b[0mgetPhyloTree\u001b[0m\u001b[0;34m(\u001b[0m\u001b[0;34m)\u001b[0m\u001b[0;34m\u001b[0m\u001b[0;34m\u001b[0m\u001b[0m\n\u001b[0m\u001b[1;32m     21\u001b[0m         \u001b[0mts\u001b[0m\u001b[0;34m.\u001b[0m\u001b[0mscale\u001b[0m \u001b[0;34m=\u001b[0m \u001b[0;36m20\u001b[0m\u001b[0;34m\u001b[0m\u001b[0;34m\u001b[0m\u001b[0m\n\u001b[1;32m     22\u001b[0m         \u001b[0mts\u001b[0m\u001b[0;34m.\u001b[0m\u001b[0mshow_leaf_name\u001b[0m \u001b[0;34m=\u001b[0m \u001b[0;32mTrue\u001b[0m\u001b[0;34m\u001b[0m\u001b[0;34m\u001b[0m\u001b[0m\n",
      "\u001b[0;32m<ipython-input-2-b30b49eb445f>\u001b[0m in \u001b[0;36mgetPhyloTree\u001b[0;34m(self)\u001b[0m\n\u001b[1;32m     12\u001b[0m         \u001b[0;31m# Performs a tree reconciliation analysis\u001b[0m\u001b[0;34m\u001b[0m\u001b[0;34m\u001b[0m\u001b[0;34m\u001b[0m\u001b[0m\n\u001b[1;32m     13\u001b[0m         \u001b[0mgene_tree_nw\u001b[0m \u001b[0;34m=\u001b[0m \u001b[0mself\u001b[0m\u001b[0;34m.\u001b[0m\u001b[0mnewick\u001b[0m\u001b[0;34m\u001b[0m\u001b[0;34m\u001b[0m\u001b[0m\n\u001b[0;32m---> 14\u001b[0;31m         \u001b[0mgenetree\u001b[0m \u001b[0;34m=\u001b[0m \u001b[0mPhyloTree\u001b[0m\u001b[0;34m(\u001b[0m\u001b[0mgene_tree_nw\u001b[0m\u001b[0;34m)\u001b[0m\u001b[0;34m\u001b[0m\u001b[0;34m\u001b[0m\u001b[0m\n\u001b[0m\u001b[1;32m     15\u001b[0m         \u001b[0mgenetree\u001b[0m\u001b[0;34m.\u001b[0m\u001b[0mlink_to_alignment\u001b[0m\u001b[0;34m(\u001b[0m\u001b[0mself\u001b[0m\u001b[0;34m.\u001b[0m\u001b[0malg\u001b[0m\u001b[0;34m)\u001b[0m\u001b[0;34m\u001b[0m\u001b[0;34m\u001b[0m\u001b[0m\n\u001b[1;32m     16\u001b[0m         \u001b[0;32mreturn\u001b[0m \u001b[0mgenetree\u001b[0m\u001b[0;34m,\u001b[0m \u001b[0mTreeStyle\u001b[0m\u001b[0;34m(\u001b[0m\u001b[0;34m)\u001b[0m\u001b[0;34m\u001b[0m\u001b[0;34m\u001b[0m\u001b[0m\n",
      "\u001b[0;32m~/anaconda3/lib/python3.7/site-packages/ete3/phylo/phylotree.py\u001b[0m in \u001b[0;36m__init__\u001b[0;34m(self, newick, alignment, alg_format, sp_naming_function, format, **kargs)\u001b[0m\n\u001b[1;32m    389\u001b[0m         \u001b[0;31m# Caution! native __init__ has to be called after setting\u001b[0m\u001b[0;34m\u001b[0m\u001b[0;34m\u001b[0m\u001b[0;34m\u001b[0m\u001b[0m\n\u001b[1;32m    390\u001b[0m         \u001b[0;31m# _speciesFunction to None!!\u001b[0m\u001b[0;34m\u001b[0m\u001b[0;34m\u001b[0m\u001b[0;34m\u001b[0m\u001b[0m\n\u001b[0;32m--> 391\u001b[0;31m         \u001b[0mTreeNode\u001b[0m\u001b[0;34m.\u001b[0m\u001b[0m__init__\u001b[0m\u001b[0;34m(\u001b[0m\u001b[0mself\u001b[0m\u001b[0;34m,\u001b[0m \u001b[0mnewick\u001b[0m\u001b[0;34m=\u001b[0m\u001b[0mnewick\u001b[0m\u001b[0;34m,\u001b[0m \u001b[0mformat\u001b[0m\u001b[0;34m=\u001b[0m\u001b[0mformat\u001b[0m\u001b[0;34m,\u001b[0m \u001b[0;34m**\u001b[0m\u001b[0mkargs\u001b[0m\u001b[0;34m)\u001b[0m\u001b[0;34m\u001b[0m\u001b[0;34m\u001b[0m\u001b[0m\n\u001b[0m\u001b[1;32m    392\u001b[0m \u001b[0;34m\u001b[0m\u001b[0m\n\u001b[1;32m    393\u001b[0m         \u001b[0;31m# This will be only executed after reading the whole tree,\u001b[0m\u001b[0;34m\u001b[0m\u001b[0;34m\u001b[0m\u001b[0;34m\u001b[0m\u001b[0m\n",
      "\u001b[0;32m~/anaconda3/lib/python3.7/site-packages/ete3/coretype/tree.py\u001b[0m in \u001b[0;36m__init__\u001b[0;34m(self, newick, format, dist, support, name, quoted_node_names)\u001b[0m\n\u001b[1;32m    209\u001b[0m             \u001b[0mself\u001b[0m\u001b[0;34m.\u001b[0m\u001b[0m_dist\u001b[0m \u001b[0;34m=\u001b[0m \u001b[0;36m0.0\u001b[0m\u001b[0;34m\u001b[0m\u001b[0;34m\u001b[0m\u001b[0m\n\u001b[1;32m    210\u001b[0m             read_newick(newick, root_node = self, format=format,\n\u001b[0;32m--> 211\u001b[0;31m                         quoted_names=quoted_node_names)\n\u001b[0m\u001b[1;32m    212\u001b[0m \u001b[0;34m\u001b[0m\u001b[0m\n\u001b[1;32m    213\u001b[0m \u001b[0;34m\u001b[0m\u001b[0m\n",
      "\u001b[0;32m~/anaconda3/lib/python3.7/site-packages/ete3/parser/newick.py\u001b[0m in \u001b[0;36mread_newick\u001b[0;34m(newick, root_node, format, quoted_names)\u001b[0m\n\u001b[1;32m    247\u001b[0m             \u001b[0;32mreturn\u001b[0m \u001b[0m_read_newick_from_string\u001b[0m\u001b[0;34m(\u001b[0m\u001b[0mnw\u001b[0m\u001b[0;34m,\u001b[0m \u001b[0mroot_node\u001b[0m\u001b[0;34m,\u001b[0m \u001b[0mmatcher\u001b[0m\u001b[0;34m,\u001b[0m \u001b[0mformat\u001b[0m\u001b[0;34m,\u001b[0m \u001b[0mquoted_names\u001b[0m\u001b[0;34m)\u001b[0m\u001b[0;34m\u001b[0m\u001b[0;34m\u001b[0m\u001b[0m\n\u001b[1;32m    248\u001b[0m         \u001b[0;32melif\u001b[0m \u001b[0;32mnot\u001b[0m \u001b[0mnw\u001b[0m\u001b[0;34m.\u001b[0m\u001b[0mstartswith\u001b[0m\u001b[0;34m(\u001b[0m\u001b[0;34m'('\u001b[0m\u001b[0;34m)\u001b[0m \u001b[0;32mor\u001b[0m \u001b[0;32mnot\u001b[0m \u001b[0mnw\u001b[0m\u001b[0;34m.\u001b[0m\u001b[0mendswith\u001b[0m\u001b[0;34m(\u001b[0m\u001b[0;34m';'\u001b[0m\u001b[0;34m)\u001b[0m\u001b[0;34m:\u001b[0m\u001b[0;34m\u001b[0m\u001b[0;34m\u001b[0m\u001b[0m\n\u001b[0;32m--> 249\u001b[0;31m             \u001b[0;32mraise\u001b[0m \u001b[0mNewickError\u001b[0m\u001b[0;34m(\u001b[0m\u001b[0;34m'Unexisting tree file or Malformed newick tree structure.'\u001b[0m\u001b[0;34m)\u001b[0m\u001b[0;34m\u001b[0m\u001b[0;34m\u001b[0m\u001b[0m\n\u001b[0m\u001b[1;32m    250\u001b[0m         \u001b[0;32melse\u001b[0m\u001b[0;34m:\u001b[0m\u001b[0;34m\u001b[0m\u001b[0;34m\u001b[0m\u001b[0m\n\u001b[1;32m    251\u001b[0m             \u001b[0;32mreturn\u001b[0m \u001b[0m_read_newick_from_string\u001b[0m\u001b[0;34m(\u001b[0m\u001b[0mnw\u001b[0m\u001b[0;34m,\u001b[0m \u001b[0mroot_node\u001b[0m\u001b[0;34m,\u001b[0m \u001b[0mmatcher\u001b[0m\u001b[0;34m,\u001b[0m \u001b[0mformat\u001b[0m\u001b[0;34m,\u001b[0m \u001b[0mquoted_names\u001b[0m\u001b[0;34m)\u001b[0m\u001b[0;34m\u001b[0m\u001b[0;34m\u001b[0m\u001b[0m\n",
      "\u001b[0;31mNewickError\u001b[0m: Unexisting tree file or Malformed newick tree structure.\nYou may want to check other newick loading flags like 'format' or 'quoted_node_names'."
     ]
    }
   ],
   "source": [
    "import PySimpleGUI as sg\n",
    "\n",
    "lista_de_nombre_de_ubicaciones = [\"Londres\", \"Paris\", \"Amsterdam\", \"Las Vegas\", \"Tokyo\", \"Buenos Aires\", \"San Pablo\", \"Tijuana\", \"Medellin\", \"Texas\", \"Nueva Orleans\"]\n",
    "\n",
    "layoutSubirArchivo = [  [sg.Text('Filename')],\n",
    "            [sg.Input(), sg.FileBrowse()], \n",
    "            [sg.OK(), sg.Cancel()]]\n",
    "\n",
    "sg.theme('DarkAmber')   # Add a touch of color\n",
    "# All the stuff inside your window.\n",
    "layout = [  [sg.Text('MENU Pongamosle un lindo mensaje')],\n",
    "            [sg.Button('Subir Fasta')],\n",
    "            [sg.Text('O ingrese manualmente la secuencia.')],\n",
    "            [sg.InputText()],\n",
    "            [sg.Button('Cargar')],\n",
    "            [sg.Button('Alinear Secuencias')],\n",
    "            [sg.Button('Armar Arbol')],\n",
    "            [sg.Button('Mostrar Mapa')],\n",
    "         ]\n",
    "\n",
    "window = sg.Window('Trabajo Final Bioinformatica', layout)\n",
    "while True:\n",
    "    event, values = window.read()\n",
    "    if event == sg.WIN_CLOSED: \n",
    "        break\n",
    "    elif event == 'Subir Fasta':\n",
    "        event, values = sg.Window('Seleccione un archivo tipo Fasta', layoutSubirArchivo).read(close=True)\n",
    "    elif event == 'Alinear Secuencias':\n",
    "        alineacion.alinear()\n",
    "    elif event == 'Armar Arbol':\n",
    "        arbol.armarArbol()\n",
    "    elif event == 'Mostrar Mapa':\n",
    "        mapa.armar_mapa(lista_de_nombre_de_ubicaciones).render_mapa()\n",
    "\n",
    "window.close()\n",
    "\n"
   ]
  },
  {
   "cell_type": "code",
   "execution_count": null,
   "metadata": {},
   "outputs": [],
   "source": []
  }
 ],
 "metadata": {
  "kernelspec": {
   "display_name": "Python 3",
   "language": "python",
   "name": "python3"
  },
  "language_info": {
   "codemirror_mode": {
    "name": "ipython",
    "version": 3
   },
   "file_extension": ".py",
   "mimetype": "text/x-python",
   "name": "python",
   "nbconvert_exporter": "python",
   "pygments_lexer": "ipython3",
   "version": "3.7.6"
  }
 },
 "nbformat": 4,
 "nbformat_minor": 4
}
