{
 "cells": [
  {
   "cell_type": "code",
   "execution_count": 1,
   "metadata": {},
   "outputs": [
    {
     "name": "stdout",
     "output_type": "stream",
     "text": [
      "Collecting package metadata (current_repodata.json): done\n",
      "Solving environment: \\ \n",
      "Warning: >10 possible package resolutions (only showing differing packages):\n",
      "  - anaconda/linux-64::ca-certificates-2020.6.24-0, anaconda/linux-64::certifi-2020.6.20-py37_0, anaconda/linux-64::conda-4.8.3-py37_0, anaconda/linux-64::openssl-1.1.1g-h7b6447c_0\n",
      "  - anaconda/linux-64::ca-certificates-2020.6.24-0, anaconda/linux-64::certifi-2020.6.20-py37_0, anaconda/linux-64::openssl-1.1.1g-h7b6447c_0, defaults/linux-64::conda-4.8.3-py37_0\n",
      "  - anaconda/linux-64::certifi-2020.6.20-py37_0, anaconda/linux-64::conda-4.8.3-py37_0, anaconda/linux-64::openssl-1.1.1g-h7b6447c_0, defaults/linux-64::ca-certificates-2020.6.24-0\n",
      "  - anaconda/linux-64::certifi-2020.6.20-py37_0, anaconda/linux-64::openssl-1.1.1g-h7b6447c_0, defaults/linux-64::ca-certificates-2020.6.24-0, defaults/linux-64::conda-4.8.3-py37_0\n",
      "  - anaconda/linux-64::certifi-2020.6.20-py37_0, anaconda/linux-64::conda-4.8.3-py37_0, defaults/linux-64::ca-certificates-2020.6.24-0, defaults/linux-64::openssl-1.1.1g-h7b6447c_0\n",
      "  - anaconda/linux-64::certifi-2020.6.20-py37_0, defaults/linux-64::ca-certificates-2020.6.24-0, defaults/linux-64::conda-4.8.3-py37_0, defaults/linux-64::openssl-1.1.1g-h7b6447c_0\n",
      "  - anaconda/linux-64::ca-certificates-2020.6.24-0, anaconda/linux-64::certifi-2020.6.20-py37_0, anaconda/linux-64::conda-4.8.3-py37_0, defaults/linux-64::openssl-1.1.1g-h7b6447c_0\n",
      "  - anaconda/linux-64::ca-certificates-2020.6.24-0, anaconda/linux-64::certifi-2020.6.20-py37_0, defaults/linux-64::conda-4.8.3-py37_0, defaults/linux-64::openssl-1.1.1g-h7b6447c_0\n",
      "  - anaconda/linux-64::ca-certificates-2020.6.24-0, anaconda/linux-64::conda-4.8.3-py37_0, defaults/linux-64::certifi-2020.6.20-py37_0, defaults/linux-64::openssl-1.1.1g-h7b6447c_0\n",
      "  - anaconda/linux-64::ca-certificates-2020.6.24-0, anaconda/linux-64::conda-4.8.3-py37_0, anaconda/linux-64::openssl-1.1.1g-h7b6447c_0, defaults/linux-64::certifi-2020.6.20-py37_0\n",
      "  ... and othedone\n",
      "\n",
      "# All requested packages already installed.\n",
      "\n",
      "Collecting package metadata (current_repodata.json): done\n",
      "Solving environment: \\ \n",
      "Warning: >10 possible package resolutions (only showing differing packages):\n",
      "  - anaconda/linux-64::ca-certificates-2020.6.24-0, anaconda/linux-64::certifi-2020.6.20-py37_0, anaconda/linux-64::conda-4.8.3-py37_0, anaconda/linux-64::openssl-1.1.1g-h7b6447c_0\n",
      "  - anaconda/linux-64::ca-certificates-2020.6.24-0, anaconda/linux-64::certifi-2020.6.20-py37_0, anaconda/linux-64::openssl-1.1.1g-h7b6447c_0, defaults/linux-64::conda-4.8.3-py37_0\n",
      "  - anaconda/linux-64::certifi-2020.6.20-py37_0, anaconda/linux-64::conda-4.8.3-py37_0, anaconda/linux-64::openssl-1.1.1g-h7b6447c_0, defaults/linux-64::ca-certificates-2020.6.24-0\n",
      "  - anaconda/linux-64::certifi-2020.6.20-py37_0, anaconda/linux-64::openssl-1.1.1g-h7b6447c_0, defaults/linux-64::ca-certificates-2020.6.24-0, defaults/linux-64::conda-4.8.3-py37_0\n",
      "  - anaconda/linux-64::conda-4.8.3-py37_0, anaconda/linux-64::openssl-1.1.1g-h7b6447c_0, defaults/linux-64::ca-certificates-2020.6.24-0, defaults/linux-64::certifi-2020.6.20-py37_0\n",
      "  - anaconda/linux-64::openssl-1.1.1g-h7b6447c_0, defaults/linux-64::ca-certificates-2020.6.24-0, defaults/linux-64::certifi-2020.6.20-py37_0, defaults/linux-64::conda-4.8.3-py37_0\n",
      "  - anaconda/linux-64::ca-certificates-2020.6.24-0, anaconda/linux-64::conda-4.8.3-py37_0, anaconda/linux-64::openssl-1.1.1g-h7b6447c_0, defaults/linux-64::certifi-2020.6.20-py37_0\n",
      "  - anaconda/linux-64::ca-certificates-2020.6.24-0, anaconda/linux-64::openssl-1.1.1g-h7b6447c_0, defaults/linux-64::certifi-2020.6.20-py37_0, defaults/linux-64::conda-4.8.3-py37_0\n",
      "  - anaconda/linux-64::ca-certificates-2020.6.24-0, anaconda/linux-64::conda-4.8.3-py37_0, defaults/linux-64::certifi-2020.6.20-py37_0, defaults/linux-64::openssl-1.1.1g-h7b6447c_0\n",
      "  - anaconda/linux-64::ca-certificates-2020.6.24-0, anaconda/linux-64::certifi-2020.6.20-py37_0, anaconda/linux-64::conda-4.8.3-py37_0, defaults/linux-64::openssl-1.1.1g-h7b6447c_0\n",
      "  ... and othedone\n",
      "\n",
      "# All requested packages already installed.\n",
      "\n"
     ]
    }
   ],
   "source": [
    "#Arbol - Librerias\n",
    "!conda install -c etetoolkit ete3\n",
    "\n",
    "!export PATH=~/anaconda_ete/bin:$PATH\n",
    "\n",
    "!conda install -c bioconda iqtree\n"
   ]
  },
  {
   "cell_type": "code",
   "execution_count": 2,
   "metadata": {},
   "outputs": [
    {
     "name": "stdout",
     "output_type": "stream",
     "text": [
      "Requirement already satisfied: geopy in /home/chesire/anaconda3/lib/python3.7/site-packages (2.0.0)\n",
      "Requirement already satisfied: geographiclib<2,>=1.49 in /home/chesire/anaconda3/lib/python3.7/site-packages (from geopy) (1.50)\n",
      "Requirement already satisfied: folium in /home/chesire/anaconda3/lib/python3.7/site-packages (0.11.0)\n",
      "Requirement already satisfied: requests in /home/chesire/anaconda3/lib/python3.7/site-packages (from folium) (2.24.0)\n",
      "Requirement already satisfied: branca>=0.3.0 in /home/chesire/anaconda3/lib/python3.7/site-packages (from folium) (0.4.1)\n",
      "Requirement already satisfied: numpy in /home/chesire/anaconda3/lib/python3.7/site-packages (from folium) (1.18.5)\n",
      "Requirement already satisfied: jinja2>=2.9 in /home/chesire/anaconda3/lib/python3.7/site-packages (from folium) (2.11.2)\n",
      "Requirement already satisfied: certifi>=2017.4.17 in /home/chesire/anaconda3/lib/python3.7/site-packages (from requests->folium) (2020.6.20)\n",
      "Requirement already satisfied: idna<3,>=2.5 in /home/chesire/anaconda3/lib/python3.7/site-packages (from requests->folium) (2.10)\n",
      "Requirement already satisfied: chardet<4,>=3.0.2 in /home/chesire/anaconda3/lib/python3.7/site-packages (from requests->folium) (3.0.4)\n",
      "Requirement already satisfied: urllib3!=1.25.0,!=1.25.1,<1.26,>=1.21.1 in /home/chesire/anaconda3/lib/python3.7/site-packages (from requests->folium) (1.25.9)\n",
      "Requirement already satisfied: MarkupSafe>=0.23 in /home/chesire/anaconda3/lib/python3.7/site-packages (from jinja2>=2.9->folium) (1.1.1)\n",
      "Requirement already satisfied: selenium in /home/chesire/anaconda3/lib/python3.7/site-packages (3.141.0)\n",
      "Requirement already satisfied: urllib3 in /home/chesire/anaconda3/lib/python3.7/site-packages (from selenium) (1.25.9)\n"
     ]
    }
   ],
   "source": [
    "#Mapa - libreria\n",
    "!pip install geopy\n",
    "!pip install folium\n",
    "!pip install selenium\n",
    "\n",
    "from geopy.geocoders import Nominatim\n",
    "geolocator = Nominatim(user_agent=\"TP FINAL Bioinformatica\")"
   ]
  },
  {
   "cell_type": "code",
   "execution_count": 3,
   "metadata": {},
   "outputs": [
    {
     "name": "stdout",
     "output_type": "stream",
     "text": [
      "Collecting package metadata (current_repodata.json): done\n",
      "Solving environment: done\n",
      "\n",
      "# All requested packages already installed.\n",
      "\n",
      "E: No se pudo abrir el fichero de bloqueo «/var/lib/dpkg/lock-frontend» - open (13: Permiso denegado)\n",
      "E: Unable to acquire the dpkg frontend lock (/var/lib/dpkg/lock-frontend), are you root?\n",
      "E: No se pudo abrir el fichero de bloqueo «/var/lib/dpkg/lock-frontend» - open (13: Permiso denegado)\n",
      "E: Unable to acquire the dpkg frontend lock (/var/lib/dpkg/lock-frontend), are you root?\n",
      "Requirement already satisfied: tkinterhtml in /home/chesire/anaconda3/lib/python3.7/site-packages (0.7)\n"
     ]
    }
   ],
   "source": [
    "! conda install -c anaconda pillow\n",
    "! apt-get install -y python-tk\n",
    "! apt-get install -y clustalo\n",
    "!pip install tkinterhtml"
   ]
  },
  {
   "cell_type": "code",
   "execution_count": null,
   "metadata": {
    "scrolled": true
   },
   "outputs": [
    {
     "data": {
      "text/html": [
       "<div style=\"width:100%;\"><div style=\"position:relative;width:100%;height:0;padding-bottom:60%;\"><span style=\"color:#565656\">Make this Notebook Trusted to load map: File -> Trust Notebook</span><iframe src=\"about:blank\" style=\"position:absolute;width:100%;height:100%;left:0;top:0;border:none !important;\" data-html=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 onload=\"this.contentDocument.open();this.contentDocument.write(atob(this.getAttribute('data-html')));this.contentDocument.close();\" allowfullscreen webkitallowfullscreen mozallowfullscreen></iframe></div></div>"
      ],
      "text/plain": [
       "<folium.folium.Map at 0x7f827634d810>"
      ]
     },
     "metadata": {},
     "output_type": "display_data"
    },
    {
     "name": "stdout",
     "output_type": "stream",
     "text": [
      "<class 'folium.folium.Map'>\n"
     ]
    },
    {
     "name": "stderr",
     "output_type": "stream",
     "text": [
      "Exception in Tkinter callback\n",
      "Traceback (most recent call last):\n",
      "  File \"/home/chesire/anaconda3/lib/python3.7/tkinter/__init__.py\", line 1705, in __call__\n",
      "    return self.func(*args)\n",
      "  File \"<ipython-input-4-428b2cd5415b>\", line 40, in make_map\n",
      "    print(type(self.my_map.save(\"Mapa final\")))\n",
      "AttributeError: 'Handler' object has no attribute 'my_map'\n"
     ]
    }
   ],
   "source": [
    "from PIL import Image, ImageTk\n",
    "from tkinter import PhotoImage, messagebox\n",
    "from clases.Arbol import Arbol\n",
    "from clases.Mapa import Mapa, UbicacionNotFound\n",
    "from clases.Uploader import Uploader\n",
    "from clases.Alineador import Alineador\n",
    "from tkinterhtml import HtmlFrame\n",
    "\n",
    "import tkinter as tk\n",
    "\n",
    "lista_de_nombre_de_ubicaciones = [\"Londres\", \"Paris\", \"Amsterdam\", \"Las Vegas\", \"Tokyo\", \"Buenos Aires\", \"San Pablo\", \"Tijuana\", \"Medellin\", \"Texas\", \"Nueva Orleans\"]\n",
    "\n",
    "class Handler():        \n",
    "    \n",
    "    def client_exit(self):\n",
    "        root.destroy()\n",
    "        \n",
    "    def upload_fasta(self):        \n",
    "        uploader = Uploader()\n",
    "        if uploader.loadFasta():\n",
    "            messagebox.showinfo(message=\"Se cargó el FASTA correctamente!\", title=\"\")\n",
    "        else:\n",
    "            messagebox.showinfo(message=\"No se cargó el FASTA\", title=\"\")\n",
    "            \n",
    "    def align_secuences(self):\n",
    "        alineador = Alineador()\n",
    "        alineador.alinear()\n",
    "        \n",
    "    def make_tree(self):\n",
    "        arbol = Arbol()\n",
    "        arbol.armarArbol()\n",
    "        \n",
    "    def make_map(self):\n",
    "        mapa = Mapa()\n",
    "        try:\n",
    "            root = tk.Tk()\n",
    "            frame = HtmlFrame(root, horizontal_scrollbar=\"auto\")\n",
    "            mapita = mapa.armar_mapa(lista_de_nombre_de_ubicaciones).render_mapa()\n",
    "            print(type(mapita))\n",
    "            print(type(mapa.guardar_mapa()))\n",
    "            #frame.set_content(mapita)\n",
    "        except UbicacionNotFound as e:\n",
    "            messagebox.showinfo(\"Ojo al piojo\", str(e))\n",
    "            \n",
    "\n",
    "class BkgrFrame(tk.Frame):\n",
    "    def __init__(self, parent, file_path, width, height):\n",
    "        super(BkgrFrame, self).__init__(parent, borderwidth=0, highlightthickness=0)\n",
    "\n",
    "        self.canvas = tk.Canvas(self, width=width, height=height)\n",
    "        self.canvas.pack()\n",
    "\n",
    "        pil_img = Image.open(file_path)\n",
    "        self.img = ImageTk.PhotoImage(pil_img.resize((width, height), Image.ANTIALIAS))\n",
    "        self.bg = self.canvas.create_image(0, 0, anchor=tk.NW, image=self.img)\n",
    "\n",
    "    def add(self, widget, x, y):\n",
    "        canvas_window = self.canvas.create_window(x, y, anchor=tk.NW, window=widget)\n",
    "        return widget\n",
    "\n",
    "\n",
    "if __name__ == '__main__':\n",
    "\n",
    "    IMAGE_PATH = './img/MenuHerramientaBio.png'\n",
    "    WIDTH, HEIGTH = 800, 600\n",
    "\n",
    "    root = tk.Tk()\n",
    "    root.geometry('{}x{}'.format(WIDTH, HEIGTH))\n",
    "    \n",
    "    handler = Handler()\n",
    "\n",
    "    bkrgframe = BkgrFrame(root, IMAGE_PATH, WIDTH, HEIGTH)\n",
    "    bkrgframe.pack()\n",
    "    \n",
    "    exitPhot = PhotoImage(file = r\"./img/BotonSalir.png\")\n",
    "    fastaPhot = PhotoImage(file = r\"./img/BotonFasta.png\")\n",
    "    alignPhot = PhotoImage(file = r\"./img/BotonAlinear.png\")\n",
    "    treePhot = PhotoImage(file = r\"./img/BotonArbolear.png\")\n",
    "    mapPhot = PhotoImage(file = r\"./img/BotonMapear.png\")\n",
    "\n",
    "    button1 = bkrgframe.add(tk.Button(root, image=exitPhot, command= handler.client_exit), 650, 8)\n",
    "    button2 = bkrgframe.add(tk.Button(root, image=fastaPhot, command= handler.upload_fasta), 310, 180)\n",
    "    button3 = bkrgframe.add(tk.Button(root, image=alignPhot, command= handler.align_secuences), 65, 340)\n",
    "    button4 = bkrgframe.add(tk.Button(root, image=treePhot, command= handler.make_tree), 65, 430)\n",
    "    button5 = bkrgframe.add(tk.Button(root, image=mapPhot, command= handler.make_map), 60, 520)\n",
    "\n",
    "    root.resizable(width=False, height=False)\n",
    "    root.wm_attributes('-type', 'splash')\n",
    "    root.mainloop()\n"
   ]
  },
  {
   "cell_type": "code",
   "execution_count": null,
   "metadata": {},
   "outputs": [],
   "source": [
    "import os\n",
    "from Bio.Seq import Seq\n",
    "from Bio.SeqRecord import SeqRecord\n",
    "from Bio.Alphabet import IUPAC\n",
    "import Bio.SeqIO as SeqIO\n",
    "from Bio.Align.Applications import ClustalOmegaCommandline\n",
    "\n",
    "ref_seq = \"ERVVIGSKPFNEQYILANMIAILLEENGYKA\"\n",
    "target_seq = \"ERVVIGSKPFNEQYILANMINGYKA\"\n",
    "\n",
    "if os.path.exists(\"./temp\"):\n",
    "    # Change the current working Directory\n",
    "    owd = os.getcwd()\n",
    "    os.chdir(\"./temp\")\n",
    "else:\n",
    "    print(\"Can't change the Current Working Directory\")    \n",
    "\n",
    "in_file = \"fasta.fasta\"\n",
    "out_file = \"aligned.fasta\"\n",
    "\n",
    "clustalomega_cline = ClustalOmegaCommandline(infile=in_file, outfile=out_file, verbose=True, auto=True, force=True)\n",
    "clustalomega_cline()\n",
    "\n",
    "os.chdir(owd)\n"
   ]
  },
  {
   "cell_type": "code",
   "execution_count": null,
   "metadata": {},
   "outputs": [],
   "source": []
  },
  {
   "cell_type": "code",
   "execution_count": null,
   "metadata": {},
   "outputs": [],
   "source": []
  }
 ],
 "metadata": {
  "kernelspec": {
   "display_name": "Python 3",
   "language": "python",
   "name": "python3"
  },
  "language_info": {
   "codemirror_mode": {
    "name": "ipython",
    "version": 3
   },
   "file_extension": ".py",
   "mimetype": "text/x-python",
   "name": "python",
   "nbconvert_exporter": "python",
   "pygments_lexer": "ipython3",
   "version": "3.7.6"
  }
 },
 "nbformat": 4,
 "nbformat_minor": 4
}
