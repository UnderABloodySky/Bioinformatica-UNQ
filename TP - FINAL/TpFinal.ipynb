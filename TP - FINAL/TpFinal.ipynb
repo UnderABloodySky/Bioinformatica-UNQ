{
 "cells": [
  {
   "cell_type": "code",
   "execution_count": 30,
   "metadata": {},
   "outputs": [
    {
     "name": "stdout",
     "output_type": "stream",
     "text": [
      "Requirement already satisfied: PySimpleGUI in /home/chesire/anaconda3/lib/python3.7/site-packages (4.22.0)\r\n"
     ]
    }
   ],
   "source": [
    "#Interfaz\n",
    "!pip install PySimpleGUI"
   ]
  },
  {
   "cell_type": "code",
   "execution_count": null,
   "metadata": {},
   "outputs": [
    {
     "name": "stdout",
     "output_type": "stream",
     "text": [
      "Collecting package metadata (current_repodata.json): / "
     ]
    }
   ],
   "source": [
    "#Arbol - Librerias\n",
    "!conda install -c etetoolkit ete3\n",
    "\n",
    "!export PATH=~/anaconda_ete/bin:$PATH\n",
    "\n",
    "!conda install -c bioconda iqtree\n"
   ]
  },
  {
   "cell_type": "code",
   "execution_count": 9,
   "metadata": {},
   "outputs": [],
   "source": [
    "from ete3 import PhyloTree, faces, TreeStyle, NodeStyle\n",
    "import subprocess\n",
    "\n",
    "class Arbol:\n",
    "    def __init__(self):\n",
    "        test = subprocess.Popen([\"iqtree\",\"-s\",\"./temp/fasta.fasta\"], stdout=subprocess.PIPE)\n",
    "        test.communicate()[0]\n",
    "        self.alg = open(\"./temp/fasta.fasta\", \"r\").read()\n",
    "        self.newick = open(\"./temp/fasta.fasta.treefile\", \"r\").read()\n",
    "    \n",
    "    def getPhyloTree(self):\n",
    "        # Performs a tree reconciliation analysis \n",
    "        gene_tree_nw = self.newick\n",
    "        genetree = PhyloTree(gene_tree_nw)\n",
    "        genetree.link_to_alignment(self.alg)\n",
    "        return genetree, TreeStyle()\n",
    "\n",
    "    def armarArbol(self):\n",
    "        # Visualize the reconciled tree\n",
    "        t, ts = self.getPhyloTree()\n",
    "        ts.scale = 20\n",
    "        ts.show_leaf_name = True\n",
    "        ts.show_branch_length = True\n",
    "        ts.show_branch_support = True\n",
    "        #ts.layout_fn = master_ly\n",
    "        t.show(tree_style=ts)\n",
    "\n",
    "arbol = Arbol()"
   ]
  },
  {
   "cell_type": "code",
   "execution_count": 5,
   "metadata": {},
   "outputs": [
    {
     "name": "stdout",
     "output_type": "stream",
     "text": [
      "Requirement already satisfied: geopy in /home/kvc4/anaconda3/lib/python3.7/site-packages (2.0.0)\n",
      "Requirement already satisfied: geographiclib<2,>=1.49 in /home/kvc4/anaconda3/lib/python3.7/site-packages (from geopy) (1.50)\n",
      "Requirement already satisfied: folium in /home/kvc4/anaconda3/lib/python3.7/site-packages (0.11.0)\n",
      "Requirement already satisfied: requests in /home/kvc4/anaconda3/lib/python3.7/site-packages (from folium) (2.22.0)\n",
      "Requirement already satisfied: numpy in /home/kvc4/anaconda3/lib/python3.7/site-packages (from folium) (1.18.1)\n",
      "Requirement already satisfied: jinja2>=2.9 in /home/kvc4/anaconda3/lib/python3.7/site-packages (from folium) (2.11.1)\n",
      "Requirement already satisfied: branca>=0.3.0 in /home/kvc4/anaconda3/lib/python3.7/site-packages (from folium) (0.4.1)\n",
      "Requirement already satisfied: chardet<3.1.0,>=3.0.2 in /home/kvc4/anaconda3/lib/python3.7/site-packages (from requests->folium) (3.0.4)\n",
      "Requirement already satisfied: certifi>=2017.4.17 in /home/kvc4/anaconda3/lib/python3.7/site-packages (from requests->folium) (2019.11.28)\n",
      "Requirement already satisfied: urllib3!=1.25.0,!=1.25.1,<1.26,>=1.21.1 in /home/kvc4/anaconda3/lib/python3.7/site-packages (from requests->folium) (1.25.8)\n",
      "Requirement already satisfied: idna<2.9,>=2.5 in /home/kvc4/anaconda3/lib/python3.7/site-packages (from requests->folium) (2.8)\n",
      "Requirement already satisfied: MarkupSafe>=0.23 in /home/kvc4/anaconda3/lib/python3.7/site-packages (from jinja2>=2.9->folium) (1.1.1)\n",
      "Requirement already satisfied: selenium in /home/kvc4/anaconda3/lib/python3.7/site-packages (3.141.0)\n",
      "Requirement already satisfied: urllib3 in /home/kvc4/anaconda3/lib/python3.7/site-packages (from selenium) (1.25.8)\n"
     ]
    }
   ],
   "source": [
    "#Mapa - libreria\n",
    "!pip install geopy\n",
    "!pip install folium\n",
    "!pip install selenium\n",
    "\n",
    "from geopy.geocoders import Nominatim\n",
    "geolocator = Nominatim(user_agent=\"TP FINAL Bioinformatica\")"
   ]
  },
  {
   "cell_type": "code",
   "execution_count": 6,
   "metadata": {},
   "outputs": [],
   "source": [
    "#Mapa - Modelo\n",
    "import folium\n",
    "from folium.plugins import MiniMap\n",
    "from folium.plugins import MousePosition\n",
    "import PySimpleGUI as sg\n",
    "import io\n",
    "from PIL import Image\n",
    "\n",
    "class UbicacionNotFound(Exception):\n",
    "    def __init__(self, nombre_ubicacion):\n",
    "        super().__init__(f\"La ubicación {nombre_ubicacion} no es válida\")\n",
    "\n",
    "\n",
    "class Mapa:\n",
    "    def __init__(self):\n",
    "        self.points = []\n",
    "        self.my_map = folium.Map(\n",
    "            zoom_start = 12,\n",
    "            control_scale=True,\n",
    "            world_copy_jump=False,\n",
    "            no_wrap=False\n",
    "        )\n",
    "        \n",
    "       \n",
    "    def armar_mapa(self, nombres_de_ubicaciones):\n",
    "        n = 1\n",
    "        for nombre_ubicacion in nombres_de_ubicaciones:\n",
    "            ubicacion = geolocator.geocode(nombre_ubicacion)\n",
    "            if ubicacion == None:\n",
    "                raise UbicacionNotFound(nombre_ubicacion)\n",
    "            point = (ubicacion.latitude, ubicacion.longitude)\n",
    "            self.points.append(point)\n",
    "            folium.Marker(\n",
    "                location = [point[0], point[1]],\n",
    "                icon = folium.Icon(color='red', icon='cloud'),\n",
    "                popup= f'Ubicacion: {nombre_ubicacion}',\n",
    "                tooltip = n\n",
    "            ).add_to(self.my_map)\n",
    "            n = n + 1\n",
    "        return self\n",
    "    \n",
    "    def render_mapa(self):\n",
    "        MousePosition().add_to(self.my_map)\n",
    "        folium.PolyLine(self.points).add_to(self.my_map)\n",
    "        minimap = MiniMap()\n",
    "        self.my_map.add_child(minimap)\n",
    "        display(self.my_map)\n",
    "            \n",
    "mapa = Mapa()"
   ]
  },
  {
   "cell_type": "code",
   "execution_count": 10,
   "metadata": {},
   "outputs": [],
   "source": [
    "import PySimpleGUI as sg\n",
    "\n",
    "lista_de_nombre_de_ubicaciones = [\"Londres\", \"Paris\", \"Amsterdam\", \"Las Vegas\", \"Tokyo\", \"Buenos Aires\", \"San Pablo\", \"Tijuana\", \"Medellin\", \"Texas\", \"Nueva Orleans\"]\n",
    "\n",
    "layoutSubirArchivo = [  [sg.Text('Filename')],\n",
    "            [sg.Input(), sg.FileBrowse()], \n",
    "            [sg.OK(), sg.Cancel()]]\n",
    "\n",
    "sg.theme('DarkAmber')   # Add a touch of color\n",
    "# All the stuff inside your window.\n",
    "layout = [  [sg.Text('MENU Pongamosle un lindo mensaje')],\n",
    "            [sg.Button('Subir Fasta')],\n",
    "            [sg.Text('O ingrese manualmente la secuencia.')],\n",
    "            [sg.InputText()],\n",
    "            [sg.Button('Cargar')],\n",
    "            [sg.Button('Alinear Secuencias')],\n",
    "            [sg.Button('Armar Arbol')],\n",
    "            [sg.Button('Mostrar Mapa')],\n",
    "         ]\n",
    "\n",
    "window = sg.Window('Trabajo Final Bioinformatica', layout)\n",
    "while True:\n",
    "    event, values = window.read()\n",
    "    if event == sg.WIN_CLOSED: \n",
    "        break\n",
    "    elif event == 'Subir Fasta':\n",
    "        event, values = sg.Window('Seleccione un archivo tipo Fasta', layoutSubirArchivo).read(close=True)\n",
    "    elif event == 'Alinear Secuencias':\n",
    "        alineacion.alinear()\n",
    "    elif event == 'Armar Arbol':\n",
    "        arbol.armarArbol()\n",
    "    elif event == 'Mostrar Mapa':\n",
    "        mapa.armar_mapa(lista_de_nombre_de_ubicaciones).render_mapa()\n",
    "\n",
    "window.close()\n",
    "\n"
   ]
  },
  {
   "cell_type": "code",
   "execution_count": null,
   "metadata": {},
   "outputs": [],
   "source": []
  }
 ],
 "metadata": {
  "kernelspec": {
   "display_name": "Python 3",
   "language": "python",
   "name": "python3"
  },
  "language_info": {
   "codemirror_mode": {
    "name": "ipython",
    "version": 3
   },
   "file_extension": ".py",
   "mimetype": "text/x-python",
   "name": "python",
   "nbconvert_exporter": "python",
   "pygments_lexer": "ipython3",
   "version": "3.7.6"
  }
 },
 "nbformat": 4,
 "nbformat_minor": 4
}
