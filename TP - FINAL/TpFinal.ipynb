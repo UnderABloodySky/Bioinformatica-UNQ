{
 "cells": [
  {
   "cell_type": "code",
   "execution_count": 6,
   "metadata": {},
   "outputs": [
    {
     "name": "stdout",
     "output_type": "stream",
     "text": [
      "Collecting package metadata (current_repodata.json): done\n",
      "Solving environment: | \n",
      "Warning: >10 possible package resolutions (only showing differing packages):\n",
      "  - anaconda/linux-64::ca-certificates-2020.6.24-0, anaconda/linux-64::certifi-2020.6.20-py37_0, anaconda/linux-64::conda-4.8.3-py37_0, anaconda/linux-64::openssl-1.1.1g-h7b6447c_0\n",
      "  - anaconda/linux-64::ca-certificates-2020.6.24-0, anaconda/linux-64::certifi-2020.6.20-py37_0, anaconda/linux-64::openssl-1.1.1g-h7b6447c_0, defaults/linux-64::conda-4.8.3-py37_0\n",
      "  - anaconda/linux-64::ca-certificates-2020.6.24-0, anaconda/linux-64::conda-4.8.3-py37_0, anaconda/linux-64::openssl-1.1.1g-h7b6447c_0, defaults/linux-64::certifi-2020.6.20-py37_0\n",
      "  - anaconda/linux-64::ca-certificates-2020.6.24-0, anaconda/linux-64::openssl-1.1.1g-h7b6447c_0, defaults/linux-64::certifi-2020.6.20-py37_0, defaults/linux-64::conda-4.8.3-py37_0\n",
      "  - anaconda/linux-64::ca-certificates-2020.6.24-0, anaconda/linux-64::conda-4.8.3-py37_0, defaults/linux-64::certifi-2020.6.20-py37_0, defaults/linux-64::openssl-1.1.1g-h7b6447c_0\n",
      "  - anaconda/linux-64::ca-certificates-2020.6.24-0, defaults/linux-64::certifi-2020.6.20-py37_0, defaults/linux-64::conda-4.8.3-py37_0, defaults/linux-64::openssl-1.1.1g-h7b6447c_0\n",
      "  - anaconda/linux-64::ca-certificates-2020.6.24-0, anaconda/linux-64::certifi-2020.6.20-py37_0, anaconda/linux-64::conda-4.8.3-py37_0, defaults/linux-64::openssl-1.1.1g-h7b6447c_0\n",
      "  - anaconda/linux-64::ca-certificates-2020.6.24-0, anaconda/linux-64::certifi-2020.6.20-py37_0, defaults/linux-64::conda-4.8.3-py37_0, defaults/linux-64::openssl-1.1.1g-h7b6447c_0\n",
      "  - anaconda/linux-64::certifi-2020.6.20-py37_0, anaconda/linux-64::conda-4.8.3-py37_0, defaults/linux-64::ca-certificates-2020.6.24-0, defaults/linux-64::openssl-1.1.1g-h7b6447c_0\n",
      "  - anaconda/linux-64::certifi-2020.6.20-py37_0, anaconda/linux-64::conda-4.8.3-py37_0, anaconda/linux-64::openssl-1.1.1g-h7b6447c_0, defaults/linux-64::ca-certificates-2020.6.24-0\n",
      "  ... and othedone\n",
      "\n",
      "# All requested packages already installed.\n",
      "\n",
      "Collecting package metadata (current_repodata.json): done\n",
      "Solving environment: / \n",
      "Warning: >10 possible package resolutions (only showing differing packages):\n",
      "  - anaconda/linux-64::ca-certificates-2020.6.24-0, anaconda/linux-64::certifi-2020.6.20-py37_0, anaconda/linux-64::conda-4.8.3-py37_0, anaconda/linux-64::openssl-1.1.1g-h7b6447c_0\n",
      "  - anaconda/linux-64::ca-certificates-2020.6.24-0, anaconda/linux-64::certifi-2020.6.20-py37_0, anaconda/linux-64::openssl-1.1.1g-h7b6447c_0, defaults/linux-64::conda-4.8.3-py37_0\n",
      "  - anaconda/linux-64::ca-certificates-2020.6.24-0, anaconda/linux-64::conda-4.8.3-py37_0, anaconda/linux-64::openssl-1.1.1g-h7b6447c_0, defaults/linux-64::certifi-2020.6.20-py37_0\n",
      "  - anaconda/linux-64::ca-certificates-2020.6.24-0, anaconda/linux-64::openssl-1.1.1g-h7b6447c_0, defaults/linux-64::certifi-2020.6.20-py37_0, defaults/linux-64::conda-4.8.3-py37_0\n",
      "  - anaconda/linux-64::ca-certificates-2020.6.24-0, anaconda/linux-64::conda-4.8.3-py37_0, defaults/linux-64::certifi-2020.6.20-py37_0, defaults/linux-64::openssl-1.1.1g-h7b6447c_0\n",
      "  - anaconda/linux-64::ca-certificates-2020.6.24-0, defaults/linux-64::certifi-2020.6.20-py37_0, defaults/linux-64::conda-4.8.3-py37_0, defaults/linux-64::openssl-1.1.1g-h7b6447c_0\n",
      "  - anaconda/linux-64::ca-certificates-2020.6.24-0, anaconda/linux-64::certifi-2020.6.20-py37_0, anaconda/linux-64::conda-4.8.3-py37_0, defaults/linux-64::openssl-1.1.1g-h7b6447c_0\n",
      "  - anaconda/linux-64::ca-certificates-2020.6.24-0, anaconda/linux-64::certifi-2020.6.20-py37_0, defaults/linux-64::conda-4.8.3-py37_0, defaults/linux-64::openssl-1.1.1g-h7b6447c_0\n",
      "  - anaconda/linux-64::certifi-2020.6.20-py37_0, anaconda/linux-64::conda-4.8.3-py37_0, defaults/linux-64::ca-certificates-2020.6.24-0, defaults/linux-64::openssl-1.1.1g-h7b6447c_0\n",
      "  - anaconda/linux-64::certifi-2020.6.20-py37_0, anaconda/linux-64::conda-4.8.3-py37_0, anaconda/linux-64::openssl-1.1.1g-h7b6447c_0, defaults/linux-64::ca-certificates-2020.6.24-0\n",
      "  ... and othedone\n",
      "\n",
      "# All requested packages already installed.\n",
      "\n"
     ]
    }
   ],
   "source": [
    "#Arbol - Librerias\n",
    "!conda install -c etetoolkit ete3\n",
    "\n",
    "!export PATH=~/anaconda_ete/bin:$PATH\n",
    "\n",
    "!conda install -c bioconda iqtree\n"
   ]
  },
  {
   "cell_type": "code",
   "execution_count": 7,
   "metadata": {},
   "outputs": [
    {
     "name": "stdout",
     "output_type": "stream",
     "text": [
      "Requirement already satisfied: geopy in /home/chesire/anaconda3/lib/python3.7/site-packages (2.0.0)\n",
      "Requirement already satisfied: geographiclib<2,>=1.49 in /home/chesire/anaconda3/lib/python3.7/site-packages (from geopy) (1.50)\n",
      "Requirement already satisfied: folium in /home/chesire/anaconda3/lib/python3.7/site-packages (0.11.0)\n",
      "Requirement already satisfied: branca>=0.3.0 in /home/chesire/anaconda3/lib/python3.7/site-packages (from folium) (0.4.1)\n",
      "Requirement already satisfied: jinja2>=2.9 in /home/chesire/anaconda3/lib/python3.7/site-packages (from folium) (2.11.2)\n",
      "Requirement already satisfied: numpy in /home/chesire/anaconda3/lib/python3.7/site-packages (from folium) (1.18.5)\n",
      "Requirement already satisfied: requests in /home/chesire/anaconda3/lib/python3.7/site-packages (from folium) (2.24.0)\n",
      "Requirement already satisfied: MarkupSafe>=0.23 in /home/chesire/anaconda3/lib/python3.7/site-packages (from jinja2>=2.9->folium) (1.1.1)\n",
      "Requirement already satisfied: urllib3!=1.25.0,!=1.25.1,<1.26,>=1.21.1 in /home/chesire/anaconda3/lib/python3.7/site-packages (from requests->folium) (1.25.9)\n",
      "Requirement already satisfied: idna<3,>=2.5 in /home/chesire/anaconda3/lib/python3.7/site-packages (from requests->folium) (2.10)\n",
      "Requirement already satisfied: chardet<4,>=3.0.2 in /home/chesire/anaconda3/lib/python3.7/site-packages (from requests->folium) (3.0.4)\n",
      "Requirement already satisfied: certifi>=2017.4.17 in /home/chesire/anaconda3/lib/python3.7/site-packages (from requests->folium) (2020.6.20)\n",
      "Requirement already satisfied: selenium in /home/chesire/anaconda3/lib/python3.7/site-packages (3.141.0)\n",
      "Requirement already satisfied: urllib3 in /home/chesire/anaconda3/lib/python3.7/site-packages (from selenium) (1.25.9)\n"
     ]
    }
   ],
   "source": [
    "#Mapa - libreria\n",
    "!pip install geopy\n",
    "!pip install folium\n",
    "!pip install selenium\n",
    "\n",
    "from geopy.geocoders import Nominatim\n",
    "geolocator = Nominatim(user_agent=\"TP FINAL Bioinformatica\")"
   ]
  },
  {
   "cell_type": "code",
   "execution_count": 8,
   "metadata": {},
   "outputs": [
    {
     "name": "stdout",
     "output_type": "stream",
     "text": [
      "Collecting package metadata (current_repodata.json): done\n",
      "Solving environment: done\n",
      "\n",
      "# All requested packages already installed.\n",
      "\n",
      "E: No se pudo abrir el fichero de bloqueo «/var/lib/dpkg/lock-frontend» - open (13: Permiso denegado)\n",
      "E: Unable to acquire the dpkg frontend lock (/var/lib/dpkg/lock-frontend), are you root?\n",
      "E: No se pudo abrir el fichero de bloqueo «/var/lib/dpkg/lock-frontend» - open (13: Permiso denegado)\n",
      "E: Unable to acquire the dpkg frontend lock (/var/lib/dpkg/lock-frontend), are you root?\n"
     ]
    }
   ],
   "source": [
    "! conda install -c anaconda pillow\n",
    "! apt-get install -y python-tk\n",
    "! apt-get install -y clustalo\n"
   ]
  },
  {
   "cell_type": "code",
   "execution_count": 9,
   "metadata": {
    "scrolled": true
   },
   "outputs": [
    {
     "ename": "TclError",
     "evalue": "image \"pyimage8\" doesn't exist",
     "output_type": "error",
     "traceback": [
      "\u001b[0;31m---------------------------------------------------------------------------\u001b[0m",
      "\u001b[0;31mTclError\u001b[0m                                  Traceback (most recent call last)",
      "\u001b[0;32m<ipython-input-9-272a947a52d9>\u001b[0m in \u001b[0;36m<module>\u001b[0;34m\u001b[0m\n\u001b[1;32m     64\u001b[0m     \u001b[0mhandler\u001b[0m \u001b[0;34m=\u001b[0m \u001b[0mHandler\u001b[0m\u001b[0;34m(\u001b[0m\u001b[0;34m)\u001b[0m\u001b[0;34m\u001b[0m\u001b[0;34m\u001b[0m\u001b[0m\n\u001b[1;32m     65\u001b[0m \u001b[0;34m\u001b[0m\u001b[0m\n\u001b[0;32m---> 66\u001b[0;31m     \u001b[0mbkrgframe\u001b[0m \u001b[0;34m=\u001b[0m \u001b[0mBkgrFrame\u001b[0m\u001b[0;34m(\u001b[0m\u001b[0mroot\u001b[0m\u001b[0;34m,\u001b[0m \u001b[0mIMAGE_PATH\u001b[0m\u001b[0;34m,\u001b[0m \u001b[0mWIDTH\u001b[0m\u001b[0;34m,\u001b[0m \u001b[0mHEIGTH\u001b[0m\u001b[0;34m)\u001b[0m\u001b[0;34m\u001b[0m\u001b[0;34m\u001b[0m\u001b[0m\n\u001b[0m\u001b[1;32m     67\u001b[0m     \u001b[0mbkrgframe\u001b[0m\u001b[0;34m.\u001b[0m\u001b[0mpack\u001b[0m\u001b[0;34m(\u001b[0m\u001b[0;34m)\u001b[0m\u001b[0;34m\u001b[0m\u001b[0;34m\u001b[0m\u001b[0m\n\u001b[1;32m     68\u001b[0m \u001b[0;34m\u001b[0m\u001b[0m\n",
      "\u001b[0;32m<ipython-input-9-272a947a52d9>\u001b[0m in \u001b[0;36m__init__\u001b[0;34m(self, parent, file_path, width, height)\u001b[0m\n\u001b[1;32m     47\u001b[0m         \u001b[0mpil_img\u001b[0m \u001b[0;34m=\u001b[0m \u001b[0mImage\u001b[0m\u001b[0;34m.\u001b[0m\u001b[0mopen\u001b[0m\u001b[0;34m(\u001b[0m\u001b[0mfile_path\u001b[0m\u001b[0;34m)\u001b[0m\u001b[0;34m\u001b[0m\u001b[0;34m\u001b[0m\u001b[0m\n\u001b[1;32m     48\u001b[0m         \u001b[0mself\u001b[0m\u001b[0;34m.\u001b[0m\u001b[0mimg\u001b[0m \u001b[0;34m=\u001b[0m \u001b[0mImageTk\u001b[0m\u001b[0;34m.\u001b[0m\u001b[0mPhotoImage\u001b[0m\u001b[0;34m(\u001b[0m\u001b[0mpil_img\u001b[0m\u001b[0;34m.\u001b[0m\u001b[0mresize\u001b[0m\u001b[0;34m(\u001b[0m\u001b[0;34m(\u001b[0m\u001b[0mwidth\u001b[0m\u001b[0;34m,\u001b[0m \u001b[0mheight\u001b[0m\u001b[0;34m)\u001b[0m\u001b[0;34m,\u001b[0m \u001b[0mImage\u001b[0m\u001b[0;34m.\u001b[0m\u001b[0mANTIALIAS\u001b[0m\u001b[0;34m)\u001b[0m\u001b[0;34m)\u001b[0m\u001b[0;34m\u001b[0m\u001b[0;34m\u001b[0m\u001b[0m\n\u001b[0;32m---> 49\u001b[0;31m         \u001b[0mself\u001b[0m\u001b[0;34m.\u001b[0m\u001b[0mbg\u001b[0m \u001b[0;34m=\u001b[0m \u001b[0mself\u001b[0m\u001b[0;34m.\u001b[0m\u001b[0mcanvas\u001b[0m\u001b[0;34m.\u001b[0m\u001b[0mcreate_image\u001b[0m\u001b[0;34m(\u001b[0m\u001b[0;36m0\u001b[0m\u001b[0;34m,\u001b[0m \u001b[0;36m0\u001b[0m\u001b[0;34m,\u001b[0m \u001b[0manchor\u001b[0m\u001b[0;34m=\u001b[0m\u001b[0mtk\u001b[0m\u001b[0;34m.\u001b[0m\u001b[0mNW\u001b[0m\u001b[0;34m,\u001b[0m \u001b[0mimage\u001b[0m\u001b[0;34m=\u001b[0m\u001b[0mself\u001b[0m\u001b[0;34m.\u001b[0m\u001b[0mimg\u001b[0m\u001b[0;34m)\u001b[0m\u001b[0;34m\u001b[0m\u001b[0;34m\u001b[0m\u001b[0m\n\u001b[0m\u001b[1;32m     50\u001b[0m \u001b[0;34m\u001b[0m\u001b[0m\n\u001b[1;32m     51\u001b[0m     \u001b[0;32mdef\u001b[0m \u001b[0madd\u001b[0m\u001b[0;34m(\u001b[0m\u001b[0mself\u001b[0m\u001b[0;34m,\u001b[0m \u001b[0mwidget\u001b[0m\u001b[0;34m,\u001b[0m \u001b[0mx\u001b[0m\u001b[0;34m,\u001b[0m \u001b[0my\u001b[0m\u001b[0;34m)\u001b[0m\u001b[0;34m:\u001b[0m\u001b[0;34m\u001b[0m\u001b[0;34m\u001b[0m\u001b[0m\n",
      "\u001b[0;32m~/anaconda3/lib/python3.7/tkinter/__init__.py\u001b[0m in \u001b[0;36mcreate_image\u001b[0;34m(self, *args, **kw)\u001b[0m\n\u001b[1;32m   2487\u001b[0m     \u001b[0;32mdef\u001b[0m \u001b[0mcreate_image\u001b[0m\u001b[0;34m(\u001b[0m\u001b[0mself\u001b[0m\u001b[0;34m,\u001b[0m \u001b[0;34m*\u001b[0m\u001b[0margs\u001b[0m\u001b[0;34m,\u001b[0m \u001b[0;34m**\u001b[0m\u001b[0mkw\u001b[0m\u001b[0;34m)\u001b[0m\u001b[0;34m:\u001b[0m\u001b[0;34m\u001b[0m\u001b[0;34m\u001b[0m\u001b[0m\n\u001b[1;32m   2488\u001b[0m         \u001b[0;34m\"\"\"Create image item with coordinates x1,y1.\"\"\"\u001b[0m\u001b[0;34m\u001b[0m\u001b[0;34m\u001b[0m\u001b[0m\n\u001b[0;32m-> 2489\u001b[0;31m         \u001b[0;32mreturn\u001b[0m \u001b[0mself\u001b[0m\u001b[0;34m.\u001b[0m\u001b[0m_create\u001b[0m\u001b[0;34m(\u001b[0m\u001b[0;34m'image'\u001b[0m\u001b[0;34m,\u001b[0m \u001b[0margs\u001b[0m\u001b[0;34m,\u001b[0m \u001b[0mkw\u001b[0m\u001b[0;34m)\u001b[0m\u001b[0;34m\u001b[0m\u001b[0;34m\u001b[0m\u001b[0m\n\u001b[0m\u001b[1;32m   2490\u001b[0m     \u001b[0;32mdef\u001b[0m \u001b[0mcreate_line\u001b[0m\u001b[0;34m(\u001b[0m\u001b[0mself\u001b[0m\u001b[0;34m,\u001b[0m \u001b[0;34m*\u001b[0m\u001b[0margs\u001b[0m\u001b[0;34m,\u001b[0m \u001b[0;34m**\u001b[0m\u001b[0mkw\u001b[0m\u001b[0;34m)\u001b[0m\u001b[0;34m:\u001b[0m\u001b[0;34m\u001b[0m\u001b[0;34m\u001b[0m\u001b[0m\n\u001b[1;32m   2491\u001b[0m         \u001b[0;34m\"\"\"Create line with coordinates x1,y1,...,xn,yn.\"\"\"\u001b[0m\u001b[0;34m\u001b[0m\u001b[0;34m\u001b[0m\u001b[0m\n",
      "\u001b[0;32m~/anaconda3/lib/python3.7/tkinter/__init__.py\u001b[0m in \u001b[0;36m_create\u001b[0;34m(self, itemType, args, kw)\u001b[0m\n\u001b[1;32m   2478\u001b[0m         return self.tk.getint(self.tk.call(\n\u001b[1;32m   2479\u001b[0m             \u001b[0mself\u001b[0m\u001b[0;34m.\u001b[0m\u001b[0m_w\u001b[0m\u001b[0;34m,\u001b[0m \u001b[0;34m'create'\u001b[0m\u001b[0;34m,\u001b[0m \u001b[0mitemType\u001b[0m\u001b[0;34m,\u001b[0m\u001b[0;34m\u001b[0m\u001b[0;34m\u001b[0m\u001b[0m\n\u001b[0;32m-> 2480\u001b[0;31m             *(args + self._options(cnf, kw))))\n\u001b[0m\u001b[1;32m   2481\u001b[0m     \u001b[0;32mdef\u001b[0m \u001b[0mcreate_arc\u001b[0m\u001b[0;34m(\u001b[0m\u001b[0mself\u001b[0m\u001b[0;34m,\u001b[0m \u001b[0;34m*\u001b[0m\u001b[0margs\u001b[0m\u001b[0;34m,\u001b[0m \u001b[0;34m**\u001b[0m\u001b[0mkw\u001b[0m\u001b[0;34m)\u001b[0m\u001b[0;34m:\u001b[0m\u001b[0;34m\u001b[0m\u001b[0;34m\u001b[0m\u001b[0m\n\u001b[1;32m   2482\u001b[0m         \u001b[0;34m\"\"\"Create arc shaped region with coordinates x1,y1,x2,y2.\"\"\"\u001b[0m\u001b[0;34m\u001b[0m\u001b[0;34m\u001b[0m\u001b[0m\n",
      "\u001b[0;31mTclError\u001b[0m: image \"pyimage8\" doesn't exist"
     ]
    }
   ],
   "source": [
    "from PIL import Image, ImageTk\n",
    "from tkinter import PhotoImage, messagebox\n",
    "from clases.Arbol import Arbol\n",
    "from clases.Mapa import Mapa, UbicacionNotFound\n",
    "from clases.Uploader import Uploader\n",
    "from clases.Alineador import Alineador\n",
    "\n",
    "import tkinter as tk\n",
    "\n",
    "lista_de_nombre_de_ubicaciones = [\"ASDASDASDF\",\"Londres\", \"Paris\", \"Amsterdam\", \"Las Vegas\", \"Tokyo\", \"Buenos Aires\", \"San Pablo\", \"Tijuana\", \"Medellin\", \"Texas\", \"Nueva Orleans\"]\n",
    "\n",
    "class Handler():        \n",
    "    \n",
    "    def client_exit(self):\n",
    "        root.destroy()\n",
    "        \n",
    "    def upload_fasta(self):        \n",
    "        uploader = Uploader()\n",
    "        if uploader.loadFasta():\n",
    "            messagebox.showinfo(message=\"Se cargó el FASTA correctamente!\", title=\"\")\n",
    "        else:\n",
    "            messagebox.showinfo(message=\"No se cargó el FASTA\", title=\"\")\n",
    "            \n",
    "    def align_secuences(self):\n",
    "        alineador = Alineador()\n",
    "        alineador.alinear()\n",
    "        \n",
    "    def make_tree(self):\n",
    "        arbol = Arbol()\n",
    "        arbol.armarArbol()\n",
    "        \n",
    "    def make_map(self):\n",
    "        mapa = Mapa()\n",
    "        try:\n",
    "            mapa.armar_mapa(lista_de_nombre_de_ubicaciones).render_mapa()\n",
    "        except UbicacionNotFound as e:\n",
    "            messagebox.showinfo(\"Ojo al piojo\", str(e))\n",
    "            \n",
    "\n",
    "class BkgrFrame(tk.Frame):\n",
    "    def __init__(self, parent, file_path, width, height):\n",
    "        super(BkgrFrame, self).__init__(parent, borderwidth=0, highlightthickness=0)\n",
    "\n",
    "        self.canvas = tk.Canvas(self, width=width, height=height)\n",
    "        self.canvas.pack()\n",
    "\n",
    "        pil_img = Image.open(file_path)\n",
    "        self.img = ImageTk.PhotoImage(pil_img.resize((width, height), Image.ANTIALIAS))\n",
    "        self.bg = self.canvas.create_image(0, 0, anchor=tk.NW, image=self.img)\n",
    "\n",
    "    def add(self, widget, x, y):\n",
    "        canvas_window = self.canvas.create_window(x, y, anchor=tk.NW, window=widget)\n",
    "        return widget\n",
    "\n",
    "\n",
    "if __name__ == '__main__':\n",
    "\n",
    "    IMAGE_PATH = './img/MenuHerramientaBio.png'\n",
    "    WIDTH, HEIGTH = 800, 600\n",
    "\n",
    "    root = tk.Tk()\n",
    "    root.geometry('{}x{}'.format(WIDTH, HEIGTH))\n",
    "    \n",
    "    handler = Handler()\n",
    "\n",
    "    bkrgframe = BkgrFrame(root, IMAGE_PATH, WIDTH, HEIGTH)\n",
    "    bkrgframe.pack()\n",
    "    \n",
    "    exitPhot = PhotoImage(file = r\"./img/BotonSalir.png\")\n",
    "    fastaPhot = PhotoImage(file = r\"./img/BotonFasta.png\")\n",
    "    alignPhot = PhotoImage(file = r\"./img/BotonAlinear.png\")\n",
    "    treePhot = PhotoImage(file = r\"./img/BotonArbolear.png\")\n",
    "    mapPhot = PhotoImage(file = r\"./img/BotonMapear.png\")\n",
    "\n",
    "    button1 = bkrgframe.add(tk.Button(root, image=exitPhot, command= handler.client_exit), 650, 8)\n",
    "    button2 = bkrgframe.add(tk.Button(root, image=fastaPhot, command= handler.upload_fasta), 310, 180)\n",
    "    button3 = bkrgframe.add(tk.Button(root, image=alignPhot, command= handler.align_secuences), 65, 340)\n",
    "    button4 = bkrgframe.add(tk.Button(root, image=treePhot, command= handler.make_tree), 65, 430)\n",
    "    button5 = bkrgframe.add(tk.Button(root, image=mapPhot, command= handler.make_map), 60, 520)\n",
    "\n",
    "    root.resizable(width=False, height=False)\n",
    "    root.wm_attributes('-type', 'splash')\n",
    "    root.mainloop()\n"
   ]
  },
  {
   "cell_type": "code",
   "execution_count": null,
   "metadata": {},
   "outputs": [],
   "source": [
    "import os\n",
    "from Bio.Seq import Seq\n",
    "from Bio.SeqRecord import SeqRecord\n",
    "from Bio.Alphabet import IUPAC\n",
    "import Bio.SeqIO as SeqIO\n",
    "from Bio.Align.Applications import ClustalOmegaCommandline\n",
    "\n",
    "ref_seq = \"ERVVIGSKPFNEQYILANMIAILLEENGYKA\"\n",
    "target_seq = \"ERVVIGSKPFNEQYILANMINGYKA\"\n",
    "\n",
    "if os.path.exists(\"./temp\"):\n",
    "    # Change the current working Directory\n",
    "    owd = os.getcwd()\n",
    "    os.chdir(\"./temp\")\n",
    "else:\n",
    "    print(\"Can't change the Current Working Directory\")    \n",
    "\n",
    "in_file = \"fasta.fasta\"\n",
    "out_file = \"aligned.fasta\"\n",
    "\n",
    "clustalomega_cline = ClustalOmegaCommandline(infile=in_file, outfile=out_file, verbose=True, auto=True, force=True)\n",
    "clustalomega_cline()\n",
    "\n",
    "os.chdir(owd)\n"
   ]
  },
  {
   "cell_type": "code",
   "execution_count": null,
   "metadata": {},
   "outputs": [],
   "source": []
  },
  {
   "cell_type": "code",
   "execution_count": null,
   "metadata": {},
   "outputs": [],
   "source": []
  },
  {
   "cell_type": "code",
   "execution_count": null,
   "metadata": {},
   "outputs": [],
   "source": []
  }
 ],
 "metadata": {
  "kernelspec": {
   "display_name": "Python 3",
   "language": "python",
   "name": "python3"
  },
  "language_info": {
   "codemirror_mode": {
    "name": "ipython",
    "version": 3
   },
   "file_extension": ".py",
   "mimetype": "text/x-python",
   "name": "python",
   "nbconvert_exporter": "python",
   "pygments_lexer": "ipython3",
   "version": "3.7.6"
  }
 },
 "nbformat": 4,
 "nbformat_minor": 4
}
