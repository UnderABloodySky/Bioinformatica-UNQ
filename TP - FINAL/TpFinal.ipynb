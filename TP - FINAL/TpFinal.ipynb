{
 "cells": [
  {
   "cell_type": "code",
   "execution_count": 1,
   "metadata": {},
   "outputs": [
    {
     "name": "stdout",
     "output_type": "stream",
     "text": [
      "Collecting package metadata (current_repodata.json): done\n",
      "Solving environment: - \n",
      "Warning: >10 possible package resolutions (only showing differing packages):\n",
      "  - anaconda/linux-64::ca-certificates-2020.6.24-0, anaconda/linux-64::certifi-2020.6.20-py37_0, anaconda/linux-64::conda-4.8.3-py37_0, anaconda/linux-64::openssl-1.1.1g-h7b6447c_0\n",
      "  - anaconda/linux-64::ca-certificates-2020.6.24-0, anaconda/linux-64::certifi-2020.6.20-py37_0, anaconda/linux-64::openssl-1.1.1g-h7b6447c_0, defaults/linux-64::conda-4.8.3-py37_0\n",
      "  - anaconda/linux-64::certifi-2020.6.20-py37_0, anaconda/linux-64::conda-4.8.3-py37_0, anaconda/linux-64::openssl-1.1.1g-h7b6447c_0, defaults/linux-64::ca-certificates-2020.6.24-0\n",
      "  - anaconda/linux-64::certifi-2020.6.20-py37_0, anaconda/linux-64::openssl-1.1.1g-h7b6447c_0, defaults/linux-64::ca-certificates-2020.6.24-0, defaults/linux-64::conda-4.8.3-py37_0\n",
      "  - anaconda/linux-64::conda-4.8.3-py37_0, anaconda/linux-64::openssl-1.1.1g-h7b6447c_0, defaults/linux-64::ca-certificates-2020.6.24-0, defaults/linux-64::certifi-2020.6.20-py37_0\n",
      "  - anaconda/linux-64::openssl-1.1.1g-h7b6447c_0, defaults/linux-64::ca-certificates-2020.6.24-0, defaults/linux-64::certifi-2020.6.20-py37_0, defaults/linux-64::conda-4.8.3-py37_0\n",
      "  - anaconda/linux-64::ca-certificates-2020.6.24-0, anaconda/linux-64::conda-4.8.3-py37_0, anaconda/linux-64::openssl-1.1.1g-h7b6447c_0, defaults/linux-64::certifi-2020.6.20-py37_0\n",
      "  - anaconda/linux-64::ca-certificates-2020.6.24-0, anaconda/linux-64::openssl-1.1.1g-h7b6447c_0, defaults/linux-64::certifi-2020.6.20-py37_0, defaults/linux-64::conda-4.8.3-py37_0\n",
      "  - anaconda/linux-64::ca-certificates-2020.6.24-0, anaconda/linux-64::conda-4.8.3-py37_0, defaults/linux-64::certifi-2020.6.20-py37_0, defaults/linux-64::openssl-1.1.1g-h7b6447c_0\n",
      "  - anaconda/linux-64::ca-certificates-2020.6.24-0, anaconda/linux-64::certifi-2020.6.20-py37_0, anaconda/linux-64::conda-4.8.3-py37_0, defaults/linux-64::openssl-1.1.1g-h7b6447c_0\n",
      "  ... and othedone\n",
      "\n",
      "# All requested packages already installed.\n",
      "\n",
      "Collecting package metadata (current_repodata.json): done\n",
      "Solving environment: \\ \n",
      "Warning: >10 possible package resolutions (only showing differing packages):\n",
      "  - anaconda/linux-64::ca-certificates-2020.6.24-0, anaconda/linux-64::certifi-2020.6.20-py37_0, anaconda/linux-64::conda-4.8.3-py37_0, anaconda/linux-64::openssl-1.1.1g-h7b6447c_0\n",
      "  - anaconda/linux-64::ca-certificates-2020.6.24-0, anaconda/linux-64::certifi-2020.6.20-py37_0, anaconda/linux-64::openssl-1.1.1g-h7b6447c_0, defaults/linux-64::conda-4.8.3-py37_0\n",
      "  - anaconda/linux-64::ca-certificates-2020.6.24-0, anaconda/linux-64::certifi-2020.6.20-py37_0, anaconda/linux-64::conda-4.8.3-py37_0, defaults/linux-64::openssl-1.1.1g-h7b6447c_0\n",
      "  - anaconda/linux-64::ca-certificates-2020.6.24-0, anaconda/linux-64::certifi-2020.6.20-py37_0, defaults/linux-64::conda-4.8.3-py37_0, defaults/linux-64::openssl-1.1.1g-h7b6447c_0\n",
      "  - anaconda/linux-64::certifi-2020.6.20-py37_0, anaconda/linux-64::conda-4.8.3-py37_0, defaults/linux-64::ca-certificates-2020.6.24-0, defaults/linux-64::openssl-1.1.1g-h7b6447c_0\n",
      "  - anaconda/linux-64::certifi-2020.6.20-py37_0, defaults/linux-64::ca-certificates-2020.6.24-0, defaults/linux-64::conda-4.8.3-py37_0, defaults/linux-64::openssl-1.1.1g-h7b6447c_0\n",
      "  - anaconda/linux-64::certifi-2020.6.20-py37_0, anaconda/linux-64::conda-4.8.3-py37_0, anaconda/linux-64::openssl-1.1.1g-h7b6447c_0, defaults/linux-64::ca-certificates-2020.6.24-0\n",
      "  - anaconda/linux-64::certifi-2020.6.20-py37_0, anaconda/linux-64::openssl-1.1.1g-h7b6447c_0, defaults/linux-64::ca-certificates-2020.6.24-0, defaults/linux-64::conda-4.8.3-py37_0\n",
      "  - anaconda/linux-64::conda-4.8.3-py37_0, anaconda/linux-64::openssl-1.1.1g-h7b6447c_0, defaults/linux-64::ca-certificates-2020.6.24-0, defaults/linux-64::certifi-2020.6.20-py37_0\n",
      "  - anaconda/linux-64::ca-certificates-2020.6.24-0, anaconda/linux-64::conda-4.8.3-py37_0, anaconda/linux-64::openssl-1.1.1g-h7b6447c_0, defaults/linux-64::certifi-2020.6.20-py37_0\n",
      "  ... and othedone\n",
      "\n",
      "# All requested packages already installed.\n",
      "\n"
     ]
    }
   ],
   "source": [
    "#Arbol - Librerias\n",
    "!conda install -c etetoolkit ete3\n",
    "\n",
    "!export PATH=~/anaconda_ete/bin:$PATH\n",
    "\n",
    "!conda install -c bioconda iqtree\n"
   ]
  },
  {
   "cell_type": "code",
   "execution_count": 2,
   "metadata": {},
   "outputs": [
    {
     "name": "stdout",
     "output_type": "stream",
     "text": [
      "Requirement already satisfied: geopy in /home/chesire/anaconda3/lib/python3.7/site-packages (2.0.0)\n",
      "Requirement already satisfied: geographiclib<2,>=1.49 in /home/chesire/anaconda3/lib/python3.7/site-packages (from geopy) (1.50)\n",
      "Requirement already satisfied: folium in /home/chesire/anaconda3/lib/python3.7/site-packages (0.11.0)\n",
      "Requirement already satisfied: jinja2>=2.9 in /home/chesire/anaconda3/lib/python3.7/site-packages (from folium) (2.11.2)\n",
      "Requirement already satisfied: requests in /home/chesire/anaconda3/lib/python3.7/site-packages (from folium) (2.24.0)\n",
      "Requirement already satisfied: numpy in /home/chesire/anaconda3/lib/python3.7/site-packages (from folium) (1.18.5)\n",
      "Requirement already satisfied: branca>=0.3.0 in /home/chesire/anaconda3/lib/python3.7/site-packages (from folium) (0.4.1)\n",
      "Requirement already satisfied: MarkupSafe>=0.23 in /home/chesire/anaconda3/lib/python3.7/site-packages (from jinja2>=2.9->folium) (1.1.1)\n",
      "Requirement already satisfied: chardet<4,>=3.0.2 in /home/chesire/anaconda3/lib/python3.7/site-packages (from requests->folium) (3.0.4)\n",
      "Requirement already satisfied: urllib3!=1.25.0,!=1.25.1,<1.26,>=1.21.1 in /home/chesire/anaconda3/lib/python3.7/site-packages (from requests->folium) (1.25.9)\n",
      "Requirement already satisfied: certifi>=2017.4.17 in /home/chesire/anaconda3/lib/python3.7/site-packages (from requests->folium) (2020.6.20)\n",
      "Requirement already satisfied: idna<3,>=2.5 in /home/chesire/anaconda3/lib/python3.7/site-packages (from requests->folium) (2.10)\n",
      "Requirement already satisfied: selenium in /home/chesire/anaconda3/lib/python3.7/site-packages (3.141.0)\n",
      "Requirement already satisfied: urllib3 in /home/chesire/anaconda3/lib/python3.7/site-packages (from selenium) (1.25.9)\n"
     ]
    }
   ],
   "source": [
    "#Mapa - libreria\n",
    "!pip install geopy\n",
    "!pip install folium\n",
    "!pip install selenium\n",
    "\n",
    "from geopy.geocoders import Nominatim\n",
    "geolocator = Nominatim(user_agent=\"TP FINAL Bioinformatica\")"
   ]
  },
  {
   "cell_type": "code",
   "execution_count": 3,
   "metadata": {},
   "outputs": [
    {
     "name": "stdout",
     "output_type": "stream",
     "text": [
      "Collecting package metadata (current_repodata.json): done\n",
      "Solving environment: done\n",
      "\n",
      "# All requested packages already installed.\n",
      "\n",
      "E: No se pudo abrir el fichero de bloqueo «/var/lib/dpkg/lock-frontend» - open (13: Permiso denegado)\n",
      "E: Unable to acquire the dpkg frontend lock (/var/lib/dpkg/lock-frontend), are you root?\n",
      "E: No se pudo abrir el fichero de bloqueo «/var/lib/dpkg/lock-frontend» - open (13: Permiso denegado)\n",
      "E: Unable to acquire the dpkg frontend lock (/var/lib/dpkg/lock-frontend), are you root?\n"
     ]
    }
   ],
   "source": [
    "! conda install -c anaconda pillow\n",
    "! apt-get install -y python-tk\n",
    "! apt-get install -y clustalo\n"
   ]
  },
  {
   "cell_type": "code",
   "execution_count": null,
   "metadata": {
    "scrolled": true
   },
   "outputs": [
    {
     "data": {
      "text/html": [
       "<div style=\"width:100%;\"><div style=\"position:relative;width:100%;height:0;padding-bottom:60%;\"><span style=\"color:#565656\">Make this Notebook Trusted to load map: File -> Trust Notebook</span><iframe src=\"about:blank\" style=\"position:absolute;width:100%;height:100%;left:0;top:0;border:none !important;\" data-html=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 onload=\"this.contentDocument.open();this.contentDocument.write(atob(this.getAttribute('data-html')));this.contentDocument.close();\" allowfullscreen webkitallowfullscreen mozallowfullscreen></iframe></div></div>"
      ],
      "text/plain": [
       "<folium.folium.Map at 0x7f892e5b38d0>"
      ]
     },
     "metadata": {},
     "output_type": "display_data"
    }
   ],
   "source": [
    "from PIL import Image, ImageTk\n",
    "from tkinter import PhotoImage, messagebox\n",
    "from clases.Arbol import Arbol\n",
    "from clases.Mapa import Mapa\n",
    "from clases.Uploader import Uploader\n",
    "from clases.Alineador import Alineador\n",
    "import tkinter as tk\n",
    "\n",
    "lista_de_nombre_de_ubicaciones = [\"Londres\", \"Paris\", \"Amsterdam\", \"Las Vegas\", \"Tokyo\", \"Buenos Aires\", \"San Pablo\", \"Tijuana\", \"Medellin\", \"Texas\", \"Nueva Orleans\"]\n",
    "\n",
    "class Handler():        \n",
    "    \n",
    "    def client_exit(self):\n",
    "        root.destroy()\n",
    "        \n",
    "    def upload_fasta(self):        \n",
    "        uploader = Uploader()\n",
    "        if uploader.loadFasta():\n",
    "            messagebox.showinfo(message=\"Se cargó el FASTA correctamente!\", title=\"\")\n",
    "        else:\n",
    "            messagebox.showinfo(message=\"No se cargó el FASTA\", title=\"\")\n",
    "            \n",
    "    def align_secuences(self):\n",
    "        alineador = Alineador()\n",
    "        alineador.alinear()\n",
    "        \n",
    "    def make_tree(self):\n",
    "        arbol = Arbol()\n",
    "        arbol.armarArbol()\n",
    "        \n",
    "    def make_map(self):\n",
    "        mapa = Mapa()\n",
    "        mapa.armar_mapa(lista_de_nombre_de_ubicaciones).render_mapa()\n",
    "\n",
    "class BkgrFrame(tk.Frame):\n",
    "    def __init__(self, parent, file_path, width, height):\n",
    "        super(BkgrFrame, self).__init__(parent, borderwidth=0, highlightthickness=0)\n",
    "\n",
    "        self.canvas = tk.Canvas(self, width=width, height=height)\n",
    "        self.canvas.pack()\n",
    "\n",
    "        pil_img = Image.open(file_path)\n",
    "        self.img = ImageTk.PhotoImage(pil_img.resize((width, height), Image.ANTIALIAS))\n",
    "        self.bg = self.canvas.create_image(0, 0, anchor=tk.NW, image=self.img)\n",
    "\n",
    "    def add(self, widget, x, y):\n",
    "        canvas_window = self.canvas.create_window(x, y, anchor=tk.NW, window=widget)\n",
    "        return widget\n",
    "\n",
    "\n",
    "if __name__ == '__main__':\n",
    "\n",
    "    IMAGE_PATH = './img/MenuHerramientaBio.png'\n",
    "    WIDTH, HEIGTH = 800, 600\n",
    "\n",
    "    root = tk.Tk()\n",
    "    root.geometry('{}x{}'.format(WIDTH, HEIGTH))\n",
    "    \n",
    "    handler = Handler()\n",
    "\n",
    "    bkrgframe = BkgrFrame(root, IMAGE_PATH, WIDTH, HEIGTH)\n",
    "    bkrgframe.pack()\n",
    "    \n",
    "    exitPhot = PhotoImage(file = r\"./img/BotonSalir.png\")\n",
    "    fastaPhot = PhotoImage(file = r\"./img/BotonFasta.png\")\n",
    "    alignPhot = PhotoImage(file = r\"./img/BotonAlinear.png\")\n",
    "    treePhot = PhotoImage(file = r\"./img/BotonArbolear.png\")\n",
    "    mapPhot = PhotoImage(file = r\"./img/BotonMapear.png\")\n",
    "\n",
    "    button1 = bkrgframe.add(tk.Button(root, image=exitPhot, command= handler.client_exit), 650, 8)\n",
    "    button2 = bkrgframe.add(tk.Button(root, image=fastaPhot, command= handler.upload_fasta), 310, 180)\n",
    "    button3 = bkrgframe.add(tk.Button(root, image=alignPhot, command= handler.align_secuences), 65, 340)\n",
    "    button4 = bkrgframe.add(tk.Button(root, image=treePhot, command= handler.make_tree), 65, 430)\n",
    "    button5 = bkrgframe.add(tk.Button(root, image=mapPhot, command= handler.make_map), 60, 520)\n",
    "\n",
    "    root.resizable(width=False, height=False)\n",
    "    root.wm_attributes('-type', 'splash')\n",
    "    root.mainloop()\n"
   ]
  },
  {
   "cell_type": "code",
   "execution_count": null,
   "metadata": {},
   "outputs": [],
   "source": [
    "import os\n",
    "from Bio.Seq import Seq\n",
    "from Bio.SeqRecord import SeqRecord\n",
    "from Bio.Alphabet import IUPAC\n",
    "import Bio.SeqIO as SeqIO\n",
    "from Bio.Align.Applications import ClustalOmegaCommandline\n",
    "\n",
    "ref_seq = \"ERVVIGSKPFNEQYILANMIAILLEENGYKA\"\n",
    "target_seq = \"ERVVIGSKPFNEQYILANMINGYKA\"\n",
    "\n",
    "if os.path.exists(\"./temp\"):\n",
    "    # Change the current working Directory\n",
    "    owd = os.getcwd()\n",
    "    os.chdir(\"./temp\")\n",
    "else:\n",
    "    print(\"Can't change the Current Working Directory\")    \n",
    "\n",
    "in_file = \"fasta.fasta\"\n",
    "out_file = \"aligned.fasta\"\n",
    "\n",
    "clustalomega_cline = ClustalOmegaCommandline(infile=in_file, outfile=out_file, verbose=True, auto=True, force=True)\n",
    "clustalomega_cline()\n",
    "\n",
    "os.chdir(owd)\n"
   ]
  },
  {
   "cell_type": "code",
   "execution_count": null,
   "metadata": {},
   "outputs": [],
   "source": []
  },
  {
   "cell_type": "code",
   "execution_count": null,
   "metadata": {},
   "outputs": [],
   "source": []
  }
 ],
 "metadata": {
  "kernelspec": {
   "display_name": "Python 3",
   "language": "python",
   "name": "python3"
  },
  "language_info": {
   "codemirror_mode": {
    "name": "ipython",
    "version": 3
   },
   "file_extension": ".py",
   "mimetype": "text/x-python",
   "name": "python",
   "nbconvert_exporter": "python",
   "pygments_lexer": "ipython3",
   "version": "3.7.6"
  }
 },
 "nbformat": 4,
 "nbformat_minor": 4
}
