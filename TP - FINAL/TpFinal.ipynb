{
 "cells": [
  {
   "cell_type": "code",
   "execution_count": 24,
   "metadata": {},
   "outputs": [
    {
     "name": "stdout",
     "output_type": "stream",
     "text": [
      "Requirement already satisfied: PySimpleGUI in /home/chesire/anaconda3/lib/python3.7/site-packages (4.22.0)\r\n"
     ]
    }
   ],
   "source": [
    "#Interfaz\n",
    "!pip install PySimpleGUI"
   ]
  },
  {
   "cell_type": "code",
   "execution_count": 25,
   "metadata": {},
   "outputs": [],
   "source": [
    "#Mock arbol\n",
    "class Arbol:\n",
    "    pass\n",
    "\n",
    "class Alineador:\n",
    "    pass\n",
    "\n",
    "arbol = Arbol()\n",
    "Alineacion = Alineador()"
   ]
  },
  {
   "cell_type": "code",
   "execution_count": 26,
   "metadata": {},
   "outputs": [
    {
     "name": "stdout",
     "output_type": "stream",
     "text": [
      "Requirement already satisfied: geopy in /home/chesire/anaconda3/lib/python3.7/site-packages (2.0.0)\n",
      "Requirement already satisfied: geographiclib<2,>=1.49 in /home/chesire/anaconda3/lib/python3.7/site-packages (from geopy) (1.50)\n",
      "Requirement already satisfied: folium in /home/chesire/anaconda3/lib/python3.7/site-packages (0.11.0)\n",
      "Requirement already satisfied: branca>=0.3.0 in /home/chesire/anaconda3/lib/python3.7/site-packages (from folium) (0.4.1)\n",
      "Requirement already satisfied: requests in /home/chesire/anaconda3/lib/python3.7/site-packages (from folium) (2.21.0)\n",
      "Requirement already satisfied: numpy in /home/chesire/anaconda3/lib/python3.7/site-packages (from folium) (1.16.2)\n",
      "Requirement already satisfied: jinja2>=2.9 in /home/chesire/anaconda3/lib/python3.7/site-packages (from folium) (2.10)\n",
      "Requirement already satisfied: chardet<3.1.0,>=3.0.2 in /home/chesire/anaconda3/lib/python3.7/site-packages (from requests->folium) (3.0.4)\n",
      "Requirement already satisfied: urllib3<1.25,>=1.21.1 in /home/chesire/anaconda3/lib/python3.7/site-packages (from requests->folium) (1.24.1)\n",
      "Requirement already satisfied: certifi>=2017.4.17 in /home/chesire/anaconda3/lib/python3.7/site-packages (from requests->folium) (2020.4.5.2)\n",
      "Requirement already satisfied: idna<2.9,>=2.5 in /home/chesire/anaconda3/lib/python3.7/site-packages (from requests->folium) (2.8)\n",
      "Requirement already satisfied: MarkupSafe>=0.23 in /home/chesire/anaconda3/lib/python3.7/site-packages (from jinja2>=2.9->folium) (1.1.1)\n",
      "Requirement already satisfied: selenium in /home/chesire/anaconda3/lib/python3.7/site-packages (3.141.0)\n",
      "Requirement already satisfied: urllib3 in /home/chesire/anaconda3/lib/python3.7/site-packages (from selenium) (1.24.1)\n"
     ]
    }
   ],
   "source": [
    "#Mapa - libreria\n",
    "!pip install geopy\n",
    "!pip install folium\n",
    "!pip install selenium\n",
    "\n",
    "from geopy.geocoders import Nominatim\n",
    "geolocator = Nominatim(user_agent=\"TP FINAL Bioinformatica\")"
   ]
  },
  {
   "cell_type": "code",
   "execution_count": 27,
   "metadata": {},
   "outputs": [],
   "source": [
    "#Mapa - Modelo\n",
    "import folium\n",
    "import PySimpleGUI as sg\n",
    "import io\n",
    "from PIL import Image\n",
    "\n",
    "\n",
    "class Mapa:\n",
    "        \n",
    "    def mostrarMapa(self, nombres_de_ubicaciones):\n",
    "        points = []\n",
    "        my_map = folium.Map(\n",
    "            zoom_start=8\n",
    "        )\n",
    "        for nombre_ubicacion in nombres_de_ubicaciones:\n",
    "            ubicacion = geolocator.geocode(nombre_ubicacion)\n",
    "            point = (ubicacion.latitude, ubicacion.longitude)\n",
    "            points.append(point)\n",
    "            folium.Marker(\n",
    "              location=[point[0], point[1]],\n",
    "              popup='',\n",
    "              icon=folium.Icon(color='red', icon='cloud')\n",
    "            ).add_to(my_map)\n",
    "        folium.PolyLine(points).add_to(my_map)\n",
    "        display(my_map)\n",
    "        #img_data = my_map._to_png(5)\n",
    "        #img = Image.open(io.BytesIO(img_data))\n",
    "        #img.save('image.png')\n",
    "        \n",
    "\n",
    "mapa = Mapa()"
   ]
  },
  {
   "cell_type": "code",
   "execution_count": null,
   "metadata": {},
   "outputs": [
    {
     "data": {
      "text/html": [
       "<div style=\"width:100%;\"><div style=\"position:relative;width:100%;height:0;padding-bottom:60%;\"><span style=\"color:#565656\">Make this Notebook Trusted to load map: File -> Trust Notebook</span><iframe src=\"about:blank\" style=\"position:absolute;width:100%;height:100%;left:0;top:0;border:none !important;\" data-html=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 onload=\"this.contentDocument.open();this.contentDocument.write(atob(this.getAttribute('data-html')));this.contentDocument.close();\" allowfullscreen webkitallowfullscreen mozallowfullscreen></iframe></div></div>"
      ],
      "text/plain": [
       "<folium.folium.Map at 0x7feb642870b8>"
      ]
     },
     "metadata": {},
     "output_type": "display_data"
    }
   ],
   "source": [
    "import PySimpleGUI as sg\n",
    "\n",
    "newick = ''\n",
    "fasta = ''\n",
    "lista_de_nombre_de_ubicaciones = [\"Londres\", \"Paris\", \"Amsterdam\", \"Las Vegas\", \"Tokyo\", \"Buenos Aires\", \"San Pablo\", \"Tijuana\", \"Medellin\", \"Texas\", \"Nueva Orleans\"]\n",
    "\n",
    "layoutSubirArchivo = [  [sg.Text('Filename')],\n",
    "            [sg.Input(), sg.FileBrowse()], \n",
    "            [sg.OK(), sg.Cancel()]]\n",
    "\n",
    "sg.theme('DarkAmber')   # Add a touch of color\n",
    "# All the stuff inside your window.\n",
    "layout = [  [sg.Text('MENU Pongamosle un lindo mensaje')],\n",
    "            [sg.Button('Subir Fasta')],\n",
    "            [sg.Text('O ingrese manualmente la secuencia.')],\n",
    "            [sg.InputText()],\n",
    "            [sg.Button('Cargar')],\n",
    "            [sg.Button('Alinear Secuencias')],\n",
    "            [sg.Button('Armar Arbol')],\n",
    "            [sg.Button('Mostrar Mapa')],\n",
    "         ]\n",
    "\n",
    "window = sg.Window('Trabajo Final Bioinformatica', layout)\n",
    "while True:\n",
    "    event, values = window.read()\n",
    "    if event == sg.WIN_CLOSED: \n",
    "        break\n",
    "    elif event == 'Subir Fasta':\n",
    "        event, values = sg.Window('Seleccione un archivo tipo Fasta', layoutSubirArchivo).read(close=True)\n",
    "    elif event == 'Alinear Secuencias':\n",
    "        alineacion.alinear()\n",
    "    elif event == 'Armar Arbol':\n",
    "        arbol.armarArbol()\n",
    "    elif event == 'Mostrar Mapa':\n",
    "        mapa.mostrarMapa(lista_de_nombre_de_ubicaciones)\n",
    "\n",
    "window.close()\n",
    "\n"
   ]
  },
  {
   "cell_type": "code",
   "execution_count": null,
   "metadata": {},
   "outputs": [],
   "source": []
  }
 ],
 "metadata": {
  "kernelspec": {
   "display_name": "Python 3",
   "language": "python",
   "name": "python3"
  },
  "language_info": {
   "codemirror_mode": {
    "name": "ipython",
    "version": 3
   },
   "file_extension": ".py",
   "mimetype": "text/x-python",
   "name": "python",
   "nbconvert_exporter": "python",
   "pygments_lexer": "ipython3",
   "version": "3.7.3"
  }
 },
 "nbformat": 4,
 "nbformat_minor": 4
}
