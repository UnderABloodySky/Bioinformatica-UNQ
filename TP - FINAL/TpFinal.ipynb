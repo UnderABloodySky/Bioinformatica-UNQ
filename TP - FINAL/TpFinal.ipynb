{
 "cells": [
  {
   "cell_type": "code",
   "execution_count": 7,
   "metadata": {},
   "outputs": [
    {
     "name": "stdout",
     "output_type": "stream",
     "text": [
      "Requirement already satisfied: PySimpleGUI in /home/chesire/anaconda3/lib/python3.7/site-packages (4.22.0)\r\n"
     ]
    }
   ],
   "source": [
    "#Interfaz\n",
    "!pip install PySimpleGUI"
   ]
  },
  {
   "cell_type": "code",
   "execution_count": 13,
   "metadata": {},
   "outputs": [],
   "source": [
    "#Mock arbol\n",
    "class Arbol:\n",
    "    pass\n",
    "\n",
    "class Alineador:\n",
    "    pass"
   ]
  },
  {
   "cell_type": "code",
   "execution_count": 15,
   "metadata": {},
   "outputs": [
    {
     "name": "stdout",
     "output_type": "stream",
     "text": [
      "Requirement already satisfied: geopy in /home/chesire/anaconda3/lib/python3.7/site-packages (2.0.0)\n",
      "Requirement already satisfied: geographiclib<2,>=1.49 in /home/chesire/anaconda3/lib/python3.7/site-packages (from geopy) (1.50)\n",
      "Requirement already satisfied: folium in /home/chesire/anaconda3/lib/python3.7/site-packages (0.11.0)\n",
      "Requirement already satisfied: requests in /home/chesire/anaconda3/lib/python3.7/site-packages (from folium) (2.21.0)\n",
      "Requirement already satisfied: jinja2>=2.9 in /home/chesire/anaconda3/lib/python3.7/site-packages (from folium) (2.10)\n",
      "Requirement already satisfied: numpy in /home/chesire/anaconda3/lib/python3.7/site-packages (from folium) (1.16.2)\n",
      "Requirement already satisfied: branca>=0.3.0 in /home/chesire/anaconda3/lib/python3.7/site-packages (from folium) (0.4.1)\n",
      "Requirement already satisfied: urllib3<1.25,>=1.21.1 in /home/chesire/anaconda3/lib/python3.7/site-packages (from requests->folium) (1.24.1)\n",
      "Requirement already satisfied: certifi>=2017.4.17 in /home/chesire/anaconda3/lib/python3.7/site-packages (from requests->folium) (2020.4.5.2)\n",
      "Requirement already satisfied: idna<2.9,>=2.5 in /home/chesire/anaconda3/lib/python3.7/site-packages (from requests->folium) (2.8)\n",
      "Requirement already satisfied: chardet<3.1.0,>=3.0.2 in /home/chesire/anaconda3/lib/python3.7/site-packages (from requests->folium) (3.0.4)\n",
      "Requirement already satisfied: MarkupSafe>=0.23 in /home/chesire/anaconda3/lib/python3.7/site-packages (from jinja2>=2.9->folium) (1.1.1)\n"
     ]
    }
   ],
   "source": [
    "#Mapa - libreria\n",
    "!pip install geopy\n",
    "!pip install folium\n",
    "\n",
    "#Modelo\n",
    "\n",
    "class Mapa:\n",
    "    pass\n"
   ]
  },
  {
   "cell_type": "code",
   "execution_count": 14,
   "metadata": {},
   "outputs": [
    {
     "ename": "NameError",
     "evalue": "name 'Mapa' is not defined",
     "output_type": "error",
     "traceback": [
      "\u001b[0;31m---------------------------------------------------------------------------\u001b[0m",
      "\u001b[0;31mNameError\u001b[0m                                 Traceback (most recent call last)",
      "\u001b[0;32m<ipython-input-14-9275680a6a15>\u001b[0m in \u001b[0;36m<module>\u001b[0;34m\u001b[0m\n\u001b[1;32m      3\u001b[0m \u001b[0marbol\u001b[0m \u001b[0;34m=\u001b[0m \u001b[0mArbol\u001b[0m\u001b[0;34m(\u001b[0m\u001b[0;34m)\u001b[0m\u001b[0;34m\u001b[0m\u001b[0;34m\u001b[0m\u001b[0m\n\u001b[1;32m      4\u001b[0m \u001b[0mAlineacion\u001b[0m \u001b[0;34m=\u001b[0m \u001b[0mAlineador\u001b[0m\u001b[0;34m(\u001b[0m\u001b[0;34m)\u001b[0m\u001b[0;34m\u001b[0m\u001b[0;34m\u001b[0m\u001b[0m\n\u001b[0;32m----> 5\u001b[0;31m \u001b[0mmapa\u001b[0m \u001b[0;34m=\u001b[0m \u001b[0mMapa\u001b[0m\u001b[0;34m(\u001b[0m\u001b[0;34m)\u001b[0m\u001b[0;34m\u001b[0m\u001b[0;34m\u001b[0m\u001b[0m\n\u001b[0m\u001b[1;32m      6\u001b[0m \u001b[0mnewick\u001b[0m \u001b[0;34m=\u001b[0m \u001b[0;34m''\u001b[0m\u001b[0;34m\u001b[0m\u001b[0;34m\u001b[0m\u001b[0m\n\u001b[1;32m      7\u001b[0m \u001b[0mfasta\u001b[0m \u001b[0;34m=\u001b[0m \u001b[0;34m''\u001b[0m\u001b[0;34m\u001b[0m\u001b[0;34m\u001b[0m\u001b[0m\n",
      "\u001b[0;31mNameError\u001b[0m: name 'Mapa' is not defined"
     ]
    }
   ],
   "source": [
    "import PySimpleGUI as sg\n",
    "\n",
    "arbol = Arbol()\n",
    "Alineacion = Alineador()\n",
    "mapa = Mapa()\n",
    "newick = ''\n",
    "fasta = ''\n",
    "\n",
    "layoutSubirArchivo = [  [sg.Text('Filename')],\n",
    "            [sg.Input(), sg.FileBrowse()], \n",
    "            [sg.OK(), sg.Cancel()]]\n",
    "\n",
    "sg.theme('DarkAmber')   # Add a touch of color\n",
    "# All the stuff inside your window.\n",
    "layout = [  [sg.Text('MENU Pongamosle un lindo mensaje')],\n",
    "            [sg.Button('Subir Fasta')],\n",
    "            [sg.Text('O ingrese manualmente la secuencia.')],\n",
    "            [sg.InputText()],\n",
    "            [sg.Button('Cargar')],\n",
    "            [sg.Button('Alinear Secuencias')],\n",
    "            [sg.Button('Armar Arbol')],\n",
    "            [sg.Button('Mostrar Mapa')],\n",
    "         ]\n",
    "\n",
    "window = sg.Window('Trabajo Final Bioinformatica', layout)\n",
    "while True:\n",
    "    event, values = window.read()\n",
    "    if event == sg.WIN_CLOSED: \n",
    "        break\n",
    "    elif event == 'Subir Fasta':\n",
    "        event, values = sg.Window('Seleccione un archivo tipo Fasta', layoutSubirArchivo).read(close=True)\n",
    "    elif event == 'Alinear Secuencias':\n",
    "        self.alineacion.alinear()\n",
    "    elif event == 'Armar Arbol':\n",
    "        self.arbol.armarArbol()\n",
    "    elif event == 'Mostrar Mapa':\n",
    "        self.mapa.mostrarMapa()\n",
    "    print('You entered ', values[0])\n",
    "\n",
    "window.close()\n",
    "\n"
   ]
  }
 ],
 "metadata": {
  "kernelspec": {
   "display_name": "Python 3",
   "language": "python",
   "name": "python3"
  },
  "language_info": {
   "codemirror_mode": {
    "name": "ipython",
    "version": 3
   },
   "file_extension": ".py",
   "mimetype": "text/x-python",
   "name": "python",
   "nbconvert_exporter": "python",
   "pygments_lexer": "ipython3",
   "version": "3.7.3"
  }
 },
 "nbformat": 4,
 "nbformat_minor": 4
}
