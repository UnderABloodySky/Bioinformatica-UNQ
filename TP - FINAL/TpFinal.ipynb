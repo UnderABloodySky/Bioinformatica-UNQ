{
 "cells": [
  {
   "cell_type": "code",
   "execution_count": 1,
   "metadata": {},
   "outputs": [
    {
     "name": "stdout",
     "output_type": "stream",
     "text": [
      "Collecting package metadata (current_repodata.json): done\n",
      "Solving environment: - \n",
      "Warning: >10 possible package resolutions (only showing differing packages):\n",
      "  - anaconda/linux-64::ca-certificates-2020.6.24-0, anaconda/linux-64::certifi-2020.6.20-py37_0, anaconda/linux-64::conda-4.8.3-py37_0, anaconda/linux-64::openssl-1.1.1g-h7b6447c_0\n",
      "  - anaconda/linux-64::ca-certificates-2020.6.24-0, anaconda/linux-64::certifi-2020.6.20-py37_0, anaconda/linux-64::openssl-1.1.1g-h7b6447c_0, defaults/linux-64::conda-4.8.3-py37_0\n",
      "  - anaconda/linux-64::ca-certificates-2020.6.24-0, anaconda/linux-64::conda-4.8.3-py37_0, anaconda/linux-64::openssl-1.1.1g-h7b6447c_0, defaults/linux-64::certifi-2020.6.20-py37_0\n",
      "  - anaconda/linux-64::ca-certificates-2020.6.24-0, anaconda/linux-64::openssl-1.1.1g-h7b6447c_0, defaults/linux-64::certifi-2020.6.20-py37_0, defaults/linux-64::conda-4.8.3-py37_0\n",
      "  - anaconda/linux-64::ca-certificates-2020.6.24-0, anaconda/linux-64::conda-4.8.3-py37_0, defaults/linux-64::certifi-2020.6.20-py37_0, defaults/linux-64::openssl-1.1.1g-h7b6447c_0\n",
      "  - anaconda/linux-64::ca-certificates-2020.6.24-0, defaults/linux-64::certifi-2020.6.20-py37_0, defaults/linux-64::conda-4.8.3-py37_0, defaults/linux-64::openssl-1.1.1g-h7b6447c_0\n",
      "  - anaconda/linux-64::ca-certificates-2020.6.24-0, anaconda/linux-64::certifi-2020.6.20-py37_0, anaconda/linux-64::conda-4.8.3-py37_0, defaults/linux-64::openssl-1.1.1g-h7b6447c_0\n",
      "  - anaconda/linux-64::ca-certificates-2020.6.24-0, anaconda/linux-64::certifi-2020.6.20-py37_0, defaults/linux-64::conda-4.8.3-py37_0, defaults/linux-64::openssl-1.1.1g-h7b6447c_0\n",
      "  - anaconda/linux-64::certifi-2020.6.20-py37_0, anaconda/linux-64::conda-4.8.3-py37_0, defaults/linux-64::ca-certificates-2020.6.24-0, defaults/linux-64::openssl-1.1.1g-h7b6447c_0\n",
      "  - anaconda/linux-64::certifi-2020.6.20-py37_0, anaconda/linux-64::conda-4.8.3-py37_0, anaconda/linux-64::openssl-1.1.1g-h7b6447c_0, defaults/linux-64::ca-certificates-2020.6.24-0\n",
      "  ... and othedone\n",
      "\n",
      "# All requested packages already installed.\n",
      "\n",
      "Collecting package metadata (current_repodata.json): done\n",
      "Solving environment: / \n",
      "Warning: >10 possible package resolutions (only showing differing packages):\n",
      "  - anaconda/linux-64::ca-certificates-2020.6.24-0, anaconda/linux-64::certifi-2020.6.20-py37_0, anaconda/linux-64::conda-4.8.3-py37_0, anaconda/linux-64::openssl-1.1.1g-h7b6447c_0\n",
      "  - anaconda/linux-64::ca-certificates-2020.6.24-0, anaconda/linux-64::certifi-2020.6.20-py37_0, anaconda/linux-64::openssl-1.1.1g-h7b6447c_0, defaults/linux-64::conda-4.8.3-py37_0\n",
      "  - anaconda/linux-64::ca-certificates-2020.6.24-0, anaconda/linux-64::certifi-2020.6.20-py37_0, anaconda/linux-64::conda-4.8.3-py37_0, defaults/linux-64::openssl-1.1.1g-h7b6447c_0\n",
      "  - anaconda/linux-64::ca-certificates-2020.6.24-0, anaconda/linux-64::certifi-2020.6.20-py37_0, defaults/linux-64::conda-4.8.3-py37_0, defaults/linux-64::openssl-1.1.1g-h7b6447c_0\n",
      "  - anaconda/linux-64::ca-certificates-2020.6.24-0, anaconda/linux-64::conda-4.8.3-py37_0, defaults/linux-64::certifi-2020.6.20-py37_0, defaults/linux-64::openssl-1.1.1g-h7b6447c_0\n",
      "  - anaconda/linux-64::ca-certificates-2020.6.24-0, defaults/linux-64::certifi-2020.6.20-py37_0, defaults/linux-64::conda-4.8.3-py37_0, defaults/linux-64::openssl-1.1.1g-h7b6447c_0\n",
      "  - anaconda/linux-64::ca-certificates-2020.6.24-0, anaconda/linux-64::conda-4.8.3-py37_0, anaconda/linux-64::openssl-1.1.1g-h7b6447c_0, defaults/linux-64::certifi-2020.6.20-py37_0\n",
      "  - anaconda/linux-64::ca-certificates-2020.6.24-0, anaconda/linux-64::openssl-1.1.1g-h7b6447c_0, defaults/linux-64::certifi-2020.6.20-py37_0, defaults/linux-64::conda-4.8.3-py37_0\n",
      "  - anaconda/linux-64::conda-4.8.3-py37_0, anaconda/linux-64::openssl-1.1.1g-h7b6447c_0, defaults/linux-64::ca-certificates-2020.6.24-0, defaults/linux-64::certifi-2020.6.20-py37_0\n",
      "  - anaconda/linux-64::certifi-2020.6.20-py37_0, anaconda/linux-64::conda-4.8.3-py37_0, anaconda/linux-64::openssl-1.1.1g-h7b6447c_0, defaults/linux-64::ca-certificates-2020.6.24-0\n",
      "  ... and othedone\n",
      "\n",
      "# All requested packages already installed.\n",
      "\n"
     ]
    }
   ],
   "source": [
    "#Arbol - Librerias\n",
    "!conda install -c etetoolkit ete3\n",
    "\n",
    "!export PATH=~/anaconda_ete/bin:$PATH\n",
    "\n",
    "!conda install -c bioconda iqtree\n"
   ]
  },
  {
   "cell_type": "code",
   "execution_count": 2,
   "metadata": {},
   "outputs": [
    {
     "name": "stdout",
     "output_type": "stream",
     "text": [
      "Requirement already satisfied: geopy in /home/chesire/anaconda3/lib/python3.7/site-packages (2.0.0)\n",
      "Requirement already satisfied: geographiclib<2,>=1.49 in /home/chesire/anaconda3/lib/python3.7/site-packages (from geopy) (1.50)\n",
      "Requirement already satisfied: folium in /home/chesire/anaconda3/lib/python3.7/site-packages (0.11.0)\n",
      "Requirement already satisfied: branca>=0.3.0 in /home/chesire/anaconda3/lib/python3.7/site-packages (from folium) (0.4.1)\n",
      "Requirement already satisfied: requests in /home/chesire/anaconda3/lib/python3.7/site-packages (from folium) (2.24.0)\n",
      "Requirement already satisfied: jinja2>=2.9 in /home/chesire/anaconda3/lib/python3.7/site-packages (from folium) (2.11.2)\n",
      "Requirement already satisfied: numpy in /home/chesire/anaconda3/lib/python3.7/site-packages (from folium) (1.18.5)\n",
      "Requirement already satisfied: idna<3,>=2.5 in /home/chesire/anaconda3/lib/python3.7/site-packages (from requests->folium) (2.10)\n",
      "Requirement already satisfied: urllib3!=1.25.0,!=1.25.1,<1.26,>=1.21.1 in /home/chesire/anaconda3/lib/python3.7/site-packages (from requests->folium) (1.25.9)\n",
      "Requirement already satisfied: certifi>=2017.4.17 in /home/chesire/anaconda3/lib/python3.7/site-packages (from requests->folium) (2020.6.20)\n",
      "Requirement already satisfied: chardet<4,>=3.0.2 in /home/chesire/anaconda3/lib/python3.7/site-packages (from requests->folium) (3.0.4)\n",
      "Requirement already satisfied: MarkupSafe>=0.23 in /home/chesire/anaconda3/lib/python3.7/site-packages (from jinja2>=2.9->folium) (1.1.1)\n",
      "Requirement already satisfied: selenium in /home/chesire/anaconda3/lib/python3.7/site-packages (3.141.0)\n",
      "Requirement already satisfied: urllib3 in /home/chesire/anaconda3/lib/python3.7/site-packages (from selenium) (1.25.9)\n"
     ]
    }
   ],
   "source": [
    "#Mapa - libreria\n",
    "!pip install geopy\n",
    "!pip install folium\n",
    "!pip install selenium\n",
    "\n",
    "from geopy.geocoders import Nominatim\n",
    "geolocator = Nominatim(user_agent=\"TP FINAL Bioinformatica\")"
   ]
  },
  {
   "cell_type": "code",
   "execution_count": 3,
   "metadata": {},
   "outputs": [
    {
     "name": "stdout",
     "output_type": "stream",
     "text": [
      "Collecting package metadata (current_repodata.json): done\n",
      "Solving environment: done\n",
      "\n",
      "# All requested packages already installed.\n",
      "\n",
      "E: No se pudo abrir el fichero de bloqueo «/var/lib/dpkg/lock-frontend» - open (13: Permiso denegado)\n",
      "E: Unable to acquire the dpkg frontend lock (/var/lib/dpkg/lock-frontend), are you root?\n",
      "E: No se pudo abrir el fichero de bloqueo «/var/lib/dpkg/lock-frontend» - open (13: Permiso denegado)\n",
      "E: Unable to acquire the dpkg frontend lock (/var/lib/dpkg/lock-frontend), are you root?\n",
      "Requirement already satisfied: tkinterhtml in /home/chesire/anaconda3/lib/python3.7/site-packages (0.7)\n"
     ]
    }
   ],
   "source": [
    "! conda install -c anaconda pillow\n",
    "! apt-get install -y python-tk\n",
    "! apt-get install -y clustalo\n",
    "!pip install tkinterhtml"
   ]
  },
  {
   "cell_type": "code",
   "execution_count": null,
   "metadata": {
    "scrolled": true
   },
   "outputs": [
    {
     "data": {
      "text/html": [
       "<div style=\"width:100%;\"><div style=\"position:relative;width:100%;height:0;padding-bottom:60%;\"><span style=\"color:#565656\">Make this Notebook Trusted to load map: File -> Trust Notebook</span><iframe src=\"about:blank\" style=\"position:absolute;width:100%;height:100%;left:0;top:0;border:none !important;\" data-html=PCFET0NUWVBFIGh0bWw+CjxoZWFkPiAgICAKICAgIDxtZXRhIGh0dHAtZXF1aXY9ImNvbnRlbnQtdHlwZSIgY29udGVudD0idGV4dC9odG1sOyBjaGFyc2V0PVVURi04IiAvPgogICAgCiAgICAgICAgPHNjcmlwdD4KICAgICAgICAgICAgTF9OT19UT1VDSCA9IGZhbHNlOwogICAgICAgICAgICBMX0RJU0FCTEVfM0QgPSBmYWxzZTsKICAgICAgICA8L3NjcmlwdD4KICAgIAogICAgPHNjcmlwdCBzcmM9Imh0dHBzOi8vY2RuLmpzZGVsaXZyLm5ldC9ucG0vbGVhZmxldEAxLjYuMC9kaXN0L2xlYWZsZXQuanMiPjwvc2NyaXB0PgogICAgPHNjcmlwdCBzcmM9Imh0dHBzOi8vY29kZS5qcXVlcnkuY29tL2pxdWVyeS0xLjEyLjQubWluLmpzIj48L3NjcmlwdD4KICAgIDxzY3JpcHQgc3JjPSJodHRwczovL21heGNkbi5ib290c3RyYXBjZG4uY29tL2Jvb3RzdHJhcC8zLjIuMC9qcy9ib290c3RyYXAubWluLmpzIj48L3NjcmlwdD4KICAgIDxzY3JpcHQgc3JjPSJodHRwczovL2NkbmpzLmNsb3VkZmxhcmUuY29tL2FqYXgvbGlicy9MZWFmbGV0LmF3ZXNvbWUtbWFya2Vycy8yLjAuMi9sZWFmbGV0LmF3ZXNvbWUtbWFya2Vycy5qcyI+PC9zY3JpcHQ+CiAgICA8bGluayByZWw9InN0eWxlc2hlZXQiIGhyZWY9Imh0dHBzOi8vY2RuLmpzZGVsaXZyLm5ldC9ucG0vbGVhZmxldEAxLjYuMC9kaXN0L2xlYWZsZXQuY3NzIi8+CiAgICA8bGluayByZWw9InN0eWxlc2hlZXQiIGhyZWY9Imh0dHBzOi8vbWF4Y2RuLmJvb3RzdHJhcGNkbi5jb20vYm9vdHN0cmFwLzMuMi4wL2Nzcy9ib290c3RyYXAubWluLmNzcyIvPgogICAgPGxpbmsgcmVsPSJzdHlsZXNoZWV0IiBocmVmPSJodHRwczovL21heGNkbi5ib290c3RyYXBjZG4uY29tL2Jvb3RzdHJhcC8zLjIuMC9jc3MvYm9vdHN0cmFwLXRoZW1lLm1pbi5jc3MiLz4KICAgIDxsaW5rIHJlbD0ic3R5bGVzaGVldCIgaHJlZj0iaHR0cHM6Ly9tYXhjZG4uYm9vdHN0cmFwY2RuLmNvbS9mb250LWF3ZXNvbWUvNC42LjMvY3NzL2ZvbnQtYXdlc29tZS5taW4uY3NzIi8+CiAgICA8bGluayByZWw9InN0eWxlc2hlZXQiIGhyZWY9Imh0dHBzOi8vY2RuanMuY2xvdWRmbGFyZS5jb20vYWpheC9saWJzL0xlYWZsZXQuYXdlc29tZS1tYXJrZXJzLzIuMC4yL2xlYWZsZXQuYXdlc29tZS1tYXJrZXJzLmNzcyIvPgogICAgPGxpbmsgcmVsPSJzdHlsZXNoZWV0IiBocmVmPSJodHRwczovL3Jhd2Nkbi5naXRoYWNrLmNvbS9weXRob24tdmlzdWFsaXphdGlvbi9mb2xpdW0vbWFzdGVyL2ZvbGl1bS90ZW1wbGF0ZXMvbGVhZmxldC5hd2Vzb21lLnJvdGF0ZS5jc3MiLz4KICAgIDxzdHlsZT5odG1sLCBib2R5IHt3aWR0aDogMTAwJTtoZWlnaHQ6IDEwMCU7bWFyZ2luOiAwO3BhZGRpbmc6IDA7fTwvc3R5bGU+CiAgICA8c3R5bGU+I21hcCB7cG9zaXRpb246YWJzb2x1dGU7dG9wOjA7Ym90dG9tOjA7cmlnaHQ6MDtsZWZ0OjA7fTwvc3R5bGU+CiAgICAKICAgICAgICAgICAgPG1ldGEgbmFtZT0idmlld3BvcnQiIGNvbnRlbnQ9IndpZHRoPWRldmljZS13aWR0aCwKICAgICAgICAgICAgICAgIGluaXRpYWwtc2NhbGU9MS4wLCBtYXhpbXVtLXNjYWxlPTEuMCwgdXNlci1zY2FsYWJsZT1ubyIgLz4KICAgICAgICAgICAgPHN0eWxlPgogICAgICAgICAgICAgICAgI21hcF8yNmE3NjA3YjZjOTA0MDQwOTkwMmYwMzI5YTZkYWZiMiB7CiAgICAgICAgICAgICAgICAgICAgcG9zaXRpb246IHJlbGF0aXZlOwogICAgICAgICAgICAgICAgICAgIHdpZHRoOiAxMDAuMCU7CiAgICAgICAgICAgICAgICAgICAgaGVpZ2h0OiAxMDAuMCU7CiAgICAgICAgICAgICAgICAgICAgbGVmdDogMC4wJTsKICAgICAgICAgICAgICAgICAgICB0b3A6IDAuMCU7CiAgICAgICAgICAgICAgICB9CiAgICAgICAgICAgIDwvc3R5bGU+CiAgICAgICAgCiAgICA8c2NyaXB0IHNyYz0iaHR0cHM6Ly9yYXdjZG4uZ2l0aGFjay5jb20vYXJkaGkvTGVhZmxldC5Nb3VzZVBvc2l0aW9uL2MzMmYxYzg0L3NyYy9MLkNvbnRyb2wuTW91c2VQb3NpdGlvbi5qcyI+PC9zY3JpcHQ+CiAgICA8bGluayByZWw9InN0eWxlc2hlZXQiIGhyZWY9Imh0dHBzOi8vcmF3Y2RuLmdpdGhhY2suY29tL2FyZGhpL0xlYWZsZXQuTW91c2VQb3NpdGlvbi9jMzJmMWM4NC9zcmMvTC5Db250cm9sLk1vdXNlUG9zaXRpb24uY3NzIi8+CiAgICA8c2NyaXB0IHNyYz0iaHR0cHM6Ly9jZG5qcy5jbG91ZGZsYXJlLmNvbS9hamF4L2xpYnMvbGVhZmxldC1taW5pbWFwLzMuNi4xL0NvbnRyb2wuTWluaU1hcC5qcyI+PC9zY3JpcHQ+CiAgICA8bGluayByZWw9InN0eWxlc2hlZXQiIGhyZWY9Imh0dHBzOi8vY2RuanMuY2xvdWRmbGFyZS5jb20vYWpheC9saWJzL2xlYWZsZXQtbWluaW1hcC8zLjYuMS9Db250cm9sLk1pbmlNYXAuY3NzIi8+CiAgICA8c2NyaXB0IHNyYz0iaHR0cHM6Ly9yYXdjZG4uZ2l0aGFjay5jb20vYXJkaGkvTGVhZmxldC5Nb3VzZVBvc2l0aW9uL2MzMmYxYzg0L3NyYy9MLkNvbnRyb2wuTW91c2VQb3NpdGlvbi5qcyI+PC9zY3JpcHQ+CiAgICA8bGluayByZWw9InN0eWxlc2hlZXQiIGhyZWY9Imh0dHBzOi8vcmF3Y2RuLmdpdGhhY2suY29tL2FyZGhpL0xlYWZsZXQuTW91c2VQb3NpdGlvbi9jMzJmMWM4NC9zcmMvTC5Db250cm9sLk1vdXNlUG9zaXRpb24uY3NzIi8+CiAgICA8c2NyaXB0IHNyYz0iaHR0cHM6Ly9jZG5qcy5jbG91ZGZsYXJlLmNvbS9hamF4L2xpYnMvbGVhZmxldC1taW5pbWFwLzMuNi4xL0NvbnRyb2wuTWluaU1hcC5qcyI+PC9zY3JpcHQ+CiAgICA8bGluayByZWw9InN0eWxlc2hlZXQiIGhyZWY9Imh0dHBzOi8vY2RuanMuY2xvdWRmbGFyZS5jb20vYWpheC9saWJzL2xlYWZsZXQtbWluaW1hcC8zLjYuMS9Db250cm9sLk1pbmlNYXAuY3NzIi8+CjwvaGVhZD4KPGJvZHk+ICAgIAogICAgCiAgICAgICAgICAgIDxkaXYgY2xhc3M9ImZvbGl1bS1tYXAiIGlkPSJtYXBfMjZhNzYwN2I2YzkwNDA0MDk5MDJmMDMyOWE2ZGFmYjIiID48L2Rpdj4KICAgICAgICAKPC9ib2R5Pgo8c2NyaXB0PiAgICAKICAgIAogICAgICAgICAgICB2YXIgbWFwXzI2YTc2MDdiNmM5MDQwNDA5OTAyZjAzMjlhNmRhZmIyID0gTC5tYXAoCiAgICAgICAgICAgICAgICAibWFwXzI2YTc2MDdiNmM5MDQwNDA5OTAyZjAzMjlhNmRhZmIyIiwKICAgICAgICAgICAgICAgIHsKICAgICAgICAgICAgICAgICAgICBjZW50ZXI6IFswLCAwXSwKICAgICAgICAgICAgICAgICAgICBjcnM6IEwuQ1JTLkVQU0czODU3LAogICAgICAgICAgICAgICAgICAgIHpvb206IDEsCiAgICAgICAgICAgICAgICAgICAgem9vbUNvbnRyb2w6IHRydWUsCiAgICAgICAgICAgICAgICAgICAgcHJlZmVyQ2FudmFzOiBmYWxzZSwKICAgICAgICAgICAgICAgICAgICB3b3JsZENvcHlKdW1wOiBmYWxzZSwKICAgICAgICAgICAgICAgICAgICBub1dyYXA6IGZhbHNlLAogICAgICAgICAgICAgICAgfQogICAgICAgICAgICApOwogICAgICAgICAgICBMLmNvbnRyb2wuc2NhbGUoKS5hZGRUbyhtYXBfMjZhNzYwN2I2YzkwNDA0MDk5MDJmMDMyOWE2ZGFmYjIpOwoKICAgICAgICAgICAgCgogICAgICAgIAogICAgCiAgICAgICAgICAgIHZhciB0aWxlX2xheWVyXzczNDQ2M2U1YjhmZjRiMDg4NWQwOWNmYThmNjcyMmQ2ID0gTC50aWxlTGF5ZXIoCiAgICAgICAgICAgICAgICAiaHR0cHM6Ly97c30udGlsZS5vcGVuc3RyZWV0bWFwLm9yZy97en0ve3h9L3t5fS5wbmciLAogICAgICAgICAgICAgICAgeyJhdHRyaWJ1dGlvbiI6ICJEYXRhIGJ5IFx1MDAyNmNvcHk7IFx1MDAzY2EgaHJlZj1cImh0dHA6Ly9vcGVuc3RyZWV0bWFwLm9yZ1wiXHUwMDNlT3BlblN0cmVldE1hcFx1MDAzYy9hXHUwMDNlLCB1bmRlciBcdTAwM2NhIGhyZWY9XCJodHRwOi8vd3d3Lm9wZW5zdHJlZXRtYXAub3JnL2NvcHlyaWdodFwiXHUwMDNlT0RiTFx1MDAzYy9hXHUwMDNlLiIsICJkZXRlY3RSZXRpbmEiOiBmYWxzZSwgIm1heE5hdGl2ZVpvb20iOiAxOCwgIm1heFpvb20iOiAxOCwgIm1pblpvb20iOiAwLCAibm9XcmFwIjogZmFsc2UsICJvcGFjaXR5IjogMSwgInN1YmRvbWFpbnMiOiAiYWJjIiwgInRtcyI6IGZhbHNlfQogICAgICAgICAgICApLmFkZFRvKG1hcF8yNmE3NjA3YjZjOTA0MDQwOTkwMmYwMzI5YTZkYWZiMik7CiAgICAgICAgCiAgICAKICAgICAgICAgICAgdmFyIG1hcmtlcl9lODJmMTMyNjg2M2I0MTg0ODY3MmZhZThkYjJlYWJjYSA9IEwubWFya2VyKAogICAgICAgICAgICAgICAgWzUxLjUwNzMyMTksIC0wLjEyNzY0NzRdLAogICAgICAgICAgICAgICAge30KICAgICAgICAgICAgKS5hZGRUbyhtYXBfMjZhNzYwN2I2YzkwNDA0MDk5MDJmMDMyOWE2ZGFmYjIpOwogICAgICAgIAogICAgCiAgICAgICAgICAgIHZhciBpY29uXzRiNWE5NTRhZjU0ZjQyOWY5NjJhYzhjYzYzNmFmMTcxID0gTC5Bd2Vzb21lTWFya2Vycy5pY29uKAogICAgICAgICAgICAgICAgeyJleHRyYUNsYXNzZXMiOiAiZmEtcm90YXRlLTAiLCAiaWNvbiI6ICJjbG91ZCIsICJpY29uQ29sb3IiOiAid2hpdGUiLCAibWFya2VyQ29sb3IiOiAicmVkIiwgInByZWZpeCI6ICJnbHlwaGljb24ifQogICAgICAgICAgICApOwogICAgICAgICAgICBtYXJrZXJfZTgyZjEzMjY4NjNiNDE4NDg2NzJmYWU4ZGIyZWFiY2Euc2V0SWNvbihpY29uXzRiNWE5NTRhZjU0ZjQyOWY5NjJhYzhjYzYzNmFmMTcxKTsKICAgICAgICAKICAgIAogICAgICAgIHZhciBwb3B1cF9jY2NmMmI0YTJhM2M0OTk5YTc1ODY5ZmIxMzExOWI5YSA9IEwucG9wdXAoeyJtYXhXaWR0aCI6ICIxMDAlIn0pOwoKICAgICAgICAKICAgICAgICAgICAgdmFyIGh0bWxfMzFlZjIwZWU3MjE4NDY5MzhhZDc5ZjAwZDQ4NDI0Y2EgPSAkKGA8ZGl2IGlkPSJodG1sXzMxZWYyMGVlNzIxODQ2OTM4YWQ3OWYwMGQ0ODQyNGNhIiBzdHlsZT0id2lkdGg6IDEwMC4wJTsgaGVpZ2h0OiAxMDAuMCU7Ij5VYmljYWNpb246IExvbmRyZXM8L2Rpdj5gKVswXTsKICAgICAgICAgICAgcG9wdXBfY2NjZjJiNGEyYTNjNDk5OWE3NTg2OWZiMTMxMTliOWEuc2V0Q29udGVudChodG1sXzMxZWYyMGVlNzIxODQ2OTM4YWQ3OWYwMGQ0ODQyNGNhKTsKICAgICAgICAKCiAgICAgICAgbWFya2VyX2U4MmYxMzI2ODYzYjQxODQ4NjcyZmFlOGRiMmVhYmNhLmJpbmRQb3B1cChwb3B1cF9jY2NmMmI0YTJhM2M0OTk5YTc1ODY5ZmIxMzExOWI5YSkKICAgICAgICA7CgogICAgICAgIAogICAgCiAgICAKICAgICAgICAgICAgbWFya2VyX2U4MmYxMzI2ODYzYjQxODQ4NjcyZmFlOGRiMmVhYmNhLmJpbmRUb29sdGlwKAogICAgICAgICAgICAgICAgYDxkaXY+CiAgICAgICAgICAgICAgICAgICAgIDEKICAgICAgICAgICAgICAgICA8L2Rpdj5gLAogICAgICAgICAgICAgICAgeyJzdGlja3kiOiB0cnVlfQogICAgICAgICAgICApOwogICAgICAgIAogICAgCiAgICAgICAgICAgIHZhciBtYXJrZXJfZWNkODI3ZmFmOGY0NDg0NjhhZjNhZTJlMjIwZDE4Y2IgPSBMLm1hcmtlcigKICAgICAgICAgICAgICAgIFs0OC44NTY2OTY5LCAyLjM1MTQ2MTZdLAogICAgICAgICAgICAgICAge30KICAgICAgICAgICAgKS5hZGRUbyhtYXBfMjZhNzYwN2I2YzkwNDA0MDk5MDJmMDMyOWE2ZGFmYjIpOwogICAgICAgIAogICAgCiAgICAgICAgICAgIHZhciBpY29uXzAxNTEwNmMyOWIxMzQxNjI5Njc4MmQwNDFkNjA4NzViID0gTC5Bd2Vzb21lTWFya2Vycy5pY29uKAogICAgICAgICAgICAgICAgeyJleHRyYUNsYXNzZXMiOiAiZmEtcm90YXRlLTAiLCAiaWNvbiI6ICJjbG91ZCIsICJpY29uQ29sb3IiOiAid2hpdGUiLCAibWFya2VyQ29sb3IiOiAicmVkIiwgInByZWZpeCI6ICJnbHlwaGljb24ifQogICAgICAgICAgICApOwogICAgICAgICAgICBtYXJrZXJfZWNkODI3ZmFmOGY0NDg0NjhhZjNhZTJlMjIwZDE4Y2Iuc2V0SWNvbihpY29uXzAxNTEwNmMyOWIxMzQxNjI5Njc4MmQwNDFkNjA4NzViKTsKICAgICAgICAKICAgIAogICAgICAgIHZhciBwb3B1cF9jNjQ4NDlkMGFjZWU0MjgwODQzNTg5NzdmZmUwMjE3NCA9IEwucG9wdXAoeyJtYXhXaWR0aCI6ICIxMDAlIn0pOwoKICAgICAgICAKICAgICAgICAgICAgdmFyIGh0bWxfOTJmNGNiZmRmZmJiNDUxNjliMTcwNTE5YjU3NzhjZmIgPSAkKGA8ZGl2IGlkPSJodG1sXzkyZjRjYmZkZmZiYjQ1MTY5YjE3MDUxOWI1Nzc4Y2ZiIiBzdHlsZT0id2lkdGg6IDEwMC4wJTsgaGVpZ2h0OiAxMDAuMCU7Ij5VYmljYWNpb246IFBhcmlzPC9kaXY+YClbMF07CiAgICAgICAgICAgIHBvcHVwX2M2NDg0OWQwYWNlZTQyODA4NDM1ODk3N2ZmZTAyMTc0LnNldENvbnRlbnQoaHRtbF85MmY0Y2JmZGZmYmI0NTE2OWIxNzA1MTliNTc3OGNmYik7CiAgICAgICAgCgogICAgICAgIG1hcmtlcl9lY2Q4MjdmYWY4ZjQ0ODQ2OGFmM2FlMmUyMjBkMThjYi5iaW5kUG9wdXAocG9wdXBfYzY0ODQ5ZDBhY2VlNDI4MDg0MzU4OTc3ZmZlMDIxNzQpCiAgICAgICAgOwoKICAgICAgICAKICAgIAogICAgCiAgICAgICAgICAgIG1hcmtlcl9lY2Q4MjdmYWY4ZjQ0ODQ2OGFmM2FlMmUyMjBkMThjYi5iaW5kVG9vbHRpcCgKICAgICAgICAgICAgICAgIGA8ZGl2PgogICAgICAgICAgICAgICAgICAgICAyCiAgICAgICAgICAgICAgICAgPC9kaXY+YCwKICAgICAgICAgICAgICAgIHsic3RpY2t5IjogdHJ1ZX0KICAgICAgICAgICAgKTsKICAgICAgICAKICAgIAogICAgICAgICAgICB2YXIgbWFya2VyXzMzYTFjNDAxNTZmMjRmMzFiZjg5ODQ0ODQxMDRmNzQ5ID0gTC5tYXJrZXIoCiAgICAgICAgICAgICAgICBbNTIuMzc0NTQwMzAwMDAwMDEsIDQuODk3OTc1NTA1NjE3OTc3XSwKICAgICAgICAgICAgICAgIHt9CiAgICAgICAgICAgICkuYWRkVG8obWFwXzI2YTc2MDdiNmM5MDQwNDA5OTAyZjAzMjlhNmRhZmIyKTsKICAgICAgICAKICAgIAogICAgICAgICAgICB2YXIgaWNvbl8xMGViMTY0YzBhODA0MTcxOWE1MmMxNGUyYmIwN2RiNSA9IEwuQXdlc29tZU1hcmtlcnMuaWNvbigKICAgICAgICAgICAgICAgIHsiZXh0cmFDbGFzc2VzIjogImZhLXJvdGF0ZS0wIiwgImljb24iOiAiY2xvdWQiLCAiaWNvbkNvbG9yIjogIndoaXRlIiwgIm1hcmtlckNvbG9yIjogInJlZCIsICJwcmVmaXgiOiAiZ2x5cGhpY29uIn0KICAgICAgICAgICAgKTsKICAgICAgICAgICAgbWFya2VyXzMzYTFjNDAxNTZmMjRmMzFiZjg5ODQ0ODQxMDRmNzQ5LnNldEljb24oaWNvbl8xMGViMTY0YzBhODA0MTcxOWE1MmMxNGUyYmIwN2RiNSk7CiAgICAgICAgCiAgICAKICAgICAgICB2YXIgcG9wdXBfODhiMzJjYTIwZTRlNDZjZGJiZTc4ZDQ2NzBjZTY5YWUgPSBMLnBvcHVwKHsibWF4V2lkdGgiOiAiMTAwJSJ9KTsKCiAgICAgICAgCiAgICAgICAgICAgIHZhciBodG1sXzJjNzMyMTlhMGI4NzRhODQ5ZjUwYzE5MGEwZjI4MzFlID0gJChgPGRpdiBpZD0iaHRtbF8yYzczMjE5YTBiODc0YTg0OWY1MGMxOTBhMGYyODMxZSIgc3R5bGU9IndpZHRoOiAxMDAuMCU7IGhlaWdodDogMTAwLjAlOyI+VWJpY2FjaW9uOiBBbXN0ZXJkYW08L2Rpdj5gKVswXTsKICAgICAgICAgICAgcG9wdXBfODhiMzJjYTIwZTRlNDZjZGJiZTc4ZDQ2NzBjZTY5YWUuc2V0Q29udGVudChodG1sXzJjNzMyMTlhMGI4NzRhODQ5ZjUwYzE5MGEwZjI4MzFlKTsKICAgICAgICAKCiAgICAgICAgbWFya2VyXzMzYTFjNDAxNTZmMjRmMzFiZjg5ODQ0ODQxMDRmNzQ5LmJpbmRQb3B1cChwb3B1cF84OGIzMmNhMjBlNGU0NmNkYmJlNzhkNDY3MGNlNjlhZSkKICAgICAgICA7CgogICAgICAgIAogICAgCiAgICAKICAgICAgICAgICAgbWFya2VyXzMzYTFjNDAxNTZmMjRmMzFiZjg5ODQ0ODQxMDRmNzQ5LmJpbmRUb29sdGlwKAogICAgICAgICAgICAgICAgYDxkaXY+CiAgICAgICAgICAgICAgICAgICAgIDMKICAgICAgICAgICAgICAgICA8L2Rpdj5gLAogICAgICAgICAgICAgICAgeyJzdGlja3kiOiB0cnVlfQogICAgICAgICAgICApOwogICAgICAgIAogICAgCiAgICAgICAgICAgIHZhciBtYXJrZXJfYmU1ZjIyY2EzNTJiNDhjMmEzZmJiZmI2NmNjOGQ2MmIgPSBMLm1hcmtlcigKICAgICAgICAgICAgICAgIFszNi4xNjcyNTU5LCAtMTE1LjE0ODUxNjNdLAogICAgICAgICAgICAgICAge30KICAgICAgICAgICAgKS5hZGRUbyhtYXBfMjZhNzYwN2I2YzkwNDA0MDk5MDJmMDMyOWE2ZGFmYjIpOwogICAgICAgIAogICAgCiAgICAgICAgICAgIHZhciBpY29uXzllZWQ3YWFlYTJmYTRmYTM5NzI3NmU2N2Q5YTMzNjE1ID0gTC5Bd2Vzb21lTWFya2Vycy5pY29uKAogICAgICAgICAgICAgICAgeyJleHRyYUNsYXNzZXMiOiAiZmEtcm90YXRlLTAiLCAiaWNvbiI6ICJjbG91ZCIsICJpY29uQ29sb3IiOiAid2hpdGUiLCAibWFya2VyQ29sb3IiOiAicmVkIiwgInByZWZpeCI6ICJnbHlwaGljb24ifQogICAgICAgICAgICApOwogICAgICAgICAgICBtYXJrZXJfYmU1ZjIyY2EzNTJiNDhjMmEzZmJiZmI2NmNjOGQ2MmIuc2V0SWNvbihpY29uXzllZWQ3YWFlYTJmYTRmYTM5NzI3NmU2N2Q5YTMzNjE1KTsKICAgICAgICAKICAgIAogICAgICAgIHZhciBwb3B1cF9mZjk4M2NiYmYzNmQ0NjMwOGQ2ZGJjMDViNmU1NDNiNSA9IEwucG9wdXAoeyJtYXhXaWR0aCI6ICIxMDAlIn0pOwoKICAgICAgICAKICAgICAgICAgICAgdmFyIGh0bWxfMjBiMTkwMTk1ZWI5NGFhYTk3ZWY0MzYxMzliZjU2MTkgPSAkKGA8ZGl2IGlkPSJodG1sXzIwYjE5MDE5NWViOTRhYWE5N2VmNDM2MTM5YmY1NjE5IiBzdHlsZT0id2lkdGg6IDEwMC4wJTsgaGVpZ2h0OiAxMDAuMCU7Ij5VYmljYWNpb246IExhcyBWZWdhczwvZGl2PmApWzBdOwogICAgICAgICAgICBwb3B1cF9mZjk4M2NiYmYzNmQ0NjMwOGQ2ZGJjMDViNmU1NDNiNS5zZXRDb250ZW50KGh0bWxfMjBiMTkwMTk1ZWI5NGFhYTk3ZWY0MzYxMzliZjU2MTkpOwogICAgICAgIAoKICAgICAgICBtYXJrZXJfYmU1ZjIyY2EzNTJiNDhjMmEzZmJiZmI2NmNjOGQ2MmIuYmluZFBvcHVwKHBvcHVwX2ZmOTgzY2JiZjM2ZDQ2MzA4ZDZkYmMwNWI2ZTU0M2I1KQogICAgICAgIDsKCiAgICAgICAgCiAgICAKICAgIAogICAgICAgICAgICBtYXJrZXJfYmU1ZjIyY2EzNTJiNDhjMmEzZmJiZmI2NmNjOGQ2MmIuYmluZFRvb2x0aXAoCiAgICAgICAgICAgICAgICBgPGRpdj4KICAgICAgICAgICAgICAgICAgICAgNAogICAgICAgICAgICAgICAgIDwvZGl2PmAsCiAgICAgICAgICAgICAgICB7InN0aWNreSI6IHRydWV9CiAgICAgICAgICAgICk7CiAgICAgICAgCiAgICAKICAgICAgICAgICAgdmFyIG1hcmtlcl9iZTBjNzQ4MWYxNjA0Mzc5OTJjNzY4NmQyNzg3Njc4MyA9IEwubWFya2VyKAogICAgICAgICAgICAgICAgWzM1LjY4MjgzODcsIDEzOS43NTk0NTQ5XSwKICAgICAgICAgICAgICAgIHt9CiAgICAgICAgICAgICkuYWRkVG8obWFwXzI2YTc2MDdiNmM5MDQwNDA5OTAyZjAzMjlhNmRhZmIyKTsKICAgICAgICAKICAgIAogICAgICAgICAgICB2YXIgaWNvbl9hYzc4ZjRhZjUzODE0YjJlYWMyNzdhNDk0M2NiMDFhYSA9IEwuQXdlc29tZU1hcmtlcnMuaWNvbigKICAgICAgICAgICAgICAgIHsiZXh0cmFDbGFzc2VzIjogImZhLXJvdGF0ZS0wIiwgImljb24iOiAiY2xvdWQiLCAiaWNvbkNvbG9yIjogIndoaXRlIiwgIm1hcmtlckNvbG9yIjogInJlZCIsICJwcmVmaXgiOiAiZ2x5cGhpY29uIn0KICAgICAgICAgICAgKTsKICAgICAgICAgICAgbWFya2VyX2JlMGM3NDgxZjE2MDQzNzk5MmM3Njg2ZDI3ODc2NzgzLnNldEljb24oaWNvbl9hYzc4ZjRhZjUzODE0YjJlYWMyNzdhNDk0M2NiMDFhYSk7CiAgICAgICAgCiAgICAKICAgICAgICB2YXIgcG9wdXBfZmY3MjFlMWQxNTM0NDNjOTlhNThiYjU4MmM0ZDNiMDQgPSBMLnBvcHVwKHsibWF4V2lkdGgiOiAiMTAwJSJ9KTsKCiAgICAgICAgCiAgICAgICAgICAgIHZhciBodG1sXzcyMjljMGM1YTAwMDQ3MTc4NmU2OTE1Y2JiNDc3ZGU0ID0gJChgPGRpdiBpZD0iaHRtbF83MjI5YzBjNWEwMDA0NzE3ODZlNjkxNWNiYjQ3N2RlNCIgc3R5bGU9IndpZHRoOiAxMDAuMCU7IGhlaWdodDogMTAwLjAlOyI+VWJpY2FjaW9uOiBUb2t5bzwvZGl2PmApWzBdOwogICAgICAgICAgICBwb3B1cF9mZjcyMWUxZDE1MzQ0M2M5OWE1OGJiNTgyYzRkM2IwNC5zZXRDb250ZW50KGh0bWxfNzIyOWMwYzVhMDAwNDcxNzg2ZTY5MTVjYmI0NzdkZTQpOwogICAgICAgIAoKICAgICAgICBtYXJrZXJfYmUwYzc0ODFmMTYwNDM3OTkyYzc2ODZkMjc4NzY3ODMuYmluZFBvcHVwKHBvcHVwX2ZmNzIxZTFkMTUzNDQzYzk5YTU4YmI1ODJjNGQzYjA0KQogICAgICAgIDsKCiAgICAgICAgCiAgICAKICAgIAogICAgICAgICAgICBtYXJrZXJfYmUwYzc0ODFmMTYwNDM3OTkyYzc2ODZkMjc4NzY3ODMuYmluZFRvb2x0aXAoCiAgICAgICAgICAgICAgICBgPGRpdj4KICAgICAgICAgICAgICAgICAgICAgNQogICAgICAgICAgICAgICAgIDwvZGl2PmAsCiAgICAgICAgICAgICAgICB7InN0aWNreSI6IHRydWV9CiAgICAgICAgICAgICk7CiAgICAgICAgCiAgICAKICAgICAgICAgICAgdmFyIG1hcmtlcl83MDAyZDdkMDEyZDA0Mjg5YjM0NGU3NGNiOThhYmMyNCA9IEwubWFya2VyKAogICAgICAgICAgICAgICAgWy0zNC42MDc1NjgyLCAtNTguNDM3MDg5NF0sCiAgICAgICAgICAgICAgICB7fQogICAgICAgICAgICApLmFkZFRvKG1hcF8yNmE3NjA3YjZjOTA0MDQwOTkwMmYwMzI5YTZkYWZiMik7CiAgICAgICAgCiAgICAKICAgICAgICAgICAgdmFyIGljb25fMDI1Y2ZjZjg2Y2NjNGExNjk0ZTM0NWU5YTU1MmQxYTggPSBMLkF3ZXNvbWVNYXJrZXJzLmljb24oCiAgICAgICAgICAgICAgICB7ImV4dHJhQ2xhc3NlcyI6ICJmYS1yb3RhdGUtMCIsICJpY29uIjogImNsb3VkIiwgImljb25Db2xvciI6ICJ3aGl0ZSIsICJtYXJrZXJDb2xvciI6ICJyZWQiLCAicHJlZml4IjogImdseXBoaWNvbiJ9CiAgICAgICAgICAgICk7CiAgICAgICAgICAgIG1hcmtlcl83MDAyZDdkMDEyZDA0Mjg5YjM0NGU3NGNiOThhYmMyNC5zZXRJY29uKGljb25fMDI1Y2ZjZjg2Y2NjNGExNjk0ZTM0NWU5YTU1MmQxYTgpOwogICAgICAgIAogICAgCiAgICAgICAgdmFyIHBvcHVwX2YyM2E3NTRmOTZkZjRhZDM5MTZhYTgxNTUzODA2Mzc0ID0gTC5wb3B1cCh7Im1heFdpZHRoIjogIjEwMCUifSk7CgogICAgICAgIAogICAgICAgICAgICB2YXIgaHRtbF8wOGY4Mjg0MzcxMmM0ZjExOTRmNDZhMjM2YTk2NmY3MyA9ICQoYDxkaXYgaWQ9Imh0bWxfMDhmODI4NDM3MTJjNGYxMTk0ZjQ2YTIzNmE5NjZmNzMiIHN0eWxlPSJ3aWR0aDogMTAwLjAlOyBoZWlnaHQ6IDEwMC4wJTsiPlViaWNhY2lvbjogQnVlbm9zIEFpcmVzPC9kaXY+YClbMF07CiAgICAgICAgICAgIHBvcHVwX2YyM2E3NTRmOTZkZjRhZDM5MTZhYTgxNTUzODA2Mzc0LnNldENvbnRlbnQoaHRtbF8wOGY4Mjg0MzcxMmM0ZjExOTRmNDZhMjM2YTk2NmY3Myk7CiAgICAgICAgCgogICAgICAgIG1hcmtlcl83MDAyZDdkMDEyZDA0Mjg5YjM0NGU3NGNiOThhYmMyNC5iaW5kUG9wdXAocG9wdXBfZjIzYTc1NGY5NmRmNGFkMzkxNmFhODE1NTM4MDYzNzQpCiAgICAgICAgOwoKICAgICAgICAKICAgIAogICAgCiAgICAgICAgICAgIG1hcmtlcl83MDAyZDdkMDEyZDA0Mjg5YjM0NGU3NGNiOThhYmMyNC5iaW5kVG9vbHRpcCgKICAgICAgICAgICAgICAgIGA8ZGl2PgogICAgICAgICAgICAgICAgICAgICA2CiAgICAgICAgICAgICAgICAgPC9kaXY+YCwKICAgICAgICAgICAgICAgIHsic3RpY2t5IjogdHJ1ZX0KICAgICAgICAgICAgKTsKICAgICAgICAKICAgIAogICAgICAgICAgICB2YXIgbWFya2VyXzIzMjdlMDNmY2RlNjRkOTA5NzU4ZDUwYzFjOGMxNTlmID0gTC5tYXJrZXIoCiAgICAgICAgICAgICAgICBbLTIzLjU1MDY1MDcsIC00Ni42MzMzODI0XSwKICAgICAgICAgICAgICAgIHt9CiAgICAgICAgICAgICkuYWRkVG8obWFwXzI2YTc2MDdiNmM5MDQwNDA5OTAyZjAzMjlhNmRhZmIyKTsKICAgICAgICAKICAgIAogICAgICAgICAgICB2YXIgaWNvbl85Y2M2MGRkMzg2ZmU0OGFmYjIwM2Y3Mjk2ZDM3ZjMwOSA9IEwuQXdlc29tZU1hcmtlcnMuaWNvbigKICAgICAgICAgICAgICAgIHsiZXh0cmFDbGFzc2VzIjogImZhLXJvdGF0ZS0wIiwgImljb24iOiAiY2xvdWQiLCAiaWNvbkNvbG9yIjogIndoaXRlIiwgIm1hcmtlckNvbG9yIjogInJlZCIsICJwcmVmaXgiOiAiZ2x5cGhpY29uIn0KICAgICAgICAgICAgKTsKICAgICAgICAgICAgbWFya2VyXzIzMjdlMDNmY2RlNjRkOTA5NzU4ZDUwYzFjOGMxNTlmLnNldEljb24oaWNvbl85Y2M2MGRkMzg2ZmU0OGFmYjIwM2Y3Mjk2ZDM3ZjMwOSk7CiAgICAgICAgCiAgICAKICAgICAgICB2YXIgcG9wdXBfYmJhOTA4ODJhMzI2NDVmYWJiODA4OTVhNDFiMzgwZGIgPSBMLnBvcHVwKHsibWF4V2lkdGgiOiAiMTAwJSJ9KTsKCiAgICAgICAgCiAgICAgICAgICAgIHZhciBodG1sX2ViMGVhNTM2YjY2NzRiZDg5NTM1ZGIzOTM4M2E3ZGJiID0gJChgPGRpdiBpZD0iaHRtbF9lYjBlYTUzNmI2Njc0YmQ4OTUzNWRiMzkzODNhN2RiYiIgc3R5bGU9IndpZHRoOiAxMDAuMCU7IGhlaWdodDogMTAwLjAlOyI+VWJpY2FjaW9uOiBTYW4gUGFibG88L2Rpdj5gKVswXTsKICAgICAgICAgICAgcG9wdXBfYmJhOTA4ODJhMzI2NDVmYWJiODA4OTVhNDFiMzgwZGIuc2V0Q29udGVudChodG1sX2ViMGVhNTM2YjY2NzRiZDg5NTM1ZGIzOTM4M2E3ZGJiKTsKICAgICAgICAKCiAgICAgICAgbWFya2VyXzIzMjdlMDNmY2RlNjRkOTA5NzU4ZDUwYzFjOGMxNTlmLmJpbmRQb3B1cChwb3B1cF9iYmE5MDg4MmEzMjY0NWZhYmI4MDg5NWE0MWIzODBkYikKICAgICAgICA7CgogICAgICAgIAogICAgCiAgICAKICAgICAgICAgICAgbWFya2VyXzIzMjdlMDNmY2RlNjRkOTA5NzU4ZDUwYzFjOGMxNTlmLmJpbmRUb29sdGlwKAogICAgICAgICAgICAgICAgYDxkaXY+CiAgICAgICAgICAgICAgICAgICAgIDcKICAgICAgICAgICAgICAgICA8L2Rpdj5gLAogICAgICAgICAgICAgICAgeyJzdGlja3kiOiB0cnVlfQogICAgICAgICAgICApOwogICAgICAgIAogICAgCiAgICAgICAgICAgIHZhciBtYXJrZXJfOGI1ZWMzYWM3YjI5NDllMWJkYmRhNDY3MjZlZTc5N2YgPSBMLm1hcmtlcigKICAgICAgICAgICAgICAgIFszMi41MDEwMTg4LCAtMTE2Ljk2NDY2MjldLAogICAgICAgICAgICAgICAge30KICAgICAgICAgICAgKS5hZGRUbyhtYXBfMjZhNzYwN2I2YzkwNDA0MDk5MDJmMDMyOWE2ZGFmYjIpOwogICAgICAgIAogICAgCiAgICAgICAgICAgIHZhciBpY29uXzU0MGU4ZDNiNmUxOTQyMGU4N2Q0ZmFkNTBlNTRkNGI1ID0gTC5Bd2Vzb21lTWFya2Vycy5pY29uKAogICAgICAgICAgICAgICAgeyJleHRyYUNsYXNzZXMiOiAiZmEtcm90YXRlLTAiLCAiaWNvbiI6ICJjbG91ZCIsICJpY29uQ29sb3IiOiAid2hpdGUiLCAibWFya2VyQ29sb3IiOiAicmVkIiwgInByZWZpeCI6ICJnbHlwaGljb24ifQogICAgICAgICAgICApOwogICAgICAgICAgICBtYXJrZXJfOGI1ZWMzYWM3YjI5NDllMWJkYmRhNDY3MjZlZTc5N2Yuc2V0SWNvbihpY29uXzU0MGU4ZDNiNmUxOTQyMGU4N2Q0ZmFkNTBlNTRkNGI1KTsKICAgICAgICAKICAgIAogICAgICAgIHZhciBwb3B1cF8wMWI4ZTE1NDFjZGM0NjYxYTZiOTkyYWFmNjAxZGNmOCA9IEwucG9wdXAoeyJtYXhXaWR0aCI6ICIxMDAlIn0pOwoKICAgICAgICAKICAgICAgICAgICAgdmFyIGh0bWxfMzg2NTE1NWI3YTUxNDRjNzg2Zjc4N2NiMzRiNzEwYzYgPSAkKGA8ZGl2IGlkPSJodG1sXzM4NjUxNTViN2E1MTQ0Yzc4NmY3ODdjYjM0YjcxMGM2IiBzdHlsZT0id2lkdGg6IDEwMC4wJTsgaGVpZ2h0OiAxMDAuMCU7Ij5VYmljYWNpb246IFRpanVhbmE8L2Rpdj5gKVswXTsKICAgICAgICAgICAgcG9wdXBfMDFiOGUxNTQxY2RjNDY2MWE2Yjk5MmFhZjYwMWRjZjguc2V0Q29udGVudChodG1sXzM4NjUxNTViN2E1MTQ0Yzc4NmY3ODdjYjM0YjcxMGM2KTsKICAgICAgICAKCiAgICAgICAgbWFya2VyXzhiNWVjM2FjN2IyOTQ5ZTFiZGJkYTQ2NzI2ZWU3OTdmLmJpbmRQb3B1cChwb3B1cF8wMWI4ZTE1NDFjZGM0NjYxYTZiOTkyYWFmNjAxZGNmOCkKICAgICAgICA7CgogICAgICAgIAogICAgCiAgICAKICAgICAgICAgICAgbWFya2VyXzhiNWVjM2FjN2IyOTQ5ZTFiZGJkYTQ2NzI2ZWU3OTdmLmJpbmRUb29sdGlwKAogICAgICAgICAgICAgICAgYDxkaXY+CiAgICAgICAgICAgICAgICAgICAgIDgKICAgICAgICAgICAgICAgICA8L2Rpdj5gLAogICAgICAgICAgICAgICAgeyJzdGlja3kiOiB0cnVlfQogICAgICAgICAgICApOwogICAgICAgIAogICAgCiAgICAgICAgICAgIHZhciBtYXJrZXJfZDBlYWFjODg2N2YxNDViMjk1ODdhZjhlYmQ2ZjFjMmYgPSBMLm1hcmtlcigKICAgICAgICAgICAgICAgIFs2LjI0NDMzODIsIC03NS41NzM1NTNdLAogICAgICAgICAgICAgICAge30KICAgICAgICAgICAgKS5hZGRUbyhtYXBfMjZhNzYwN2I2YzkwNDA0MDk5MDJmMDMyOWE2ZGFmYjIpOwogICAgICAgIAogICAgCiAgICAgICAgICAgIHZhciBpY29uX2QzNjdiNmM0MGY4YjRjZjY4MDg1Mjg0MWZjMGE4MGE0ID0gTC5Bd2Vzb21lTWFya2Vycy5pY29uKAogICAgICAgICAgICAgICAgeyJleHRyYUNsYXNzZXMiOiAiZmEtcm90YXRlLTAiLCAiaWNvbiI6ICJjbG91ZCIsICJpY29uQ29sb3IiOiAid2hpdGUiLCAibWFya2VyQ29sb3IiOiAicmVkIiwgInByZWZpeCI6ICJnbHlwaGljb24ifQogICAgICAgICAgICApOwogICAgICAgICAgICBtYXJrZXJfZDBlYWFjODg2N2YxNDViMjk1ODdhZjhlYmQ2ZjFjMmYuc2V0SWNvbihpY29uX2QzNjdiNmM0MGY4YjRjZjY4MDg1Mjg0MWZjMGE4MGE0KTsKICAgICAgICAKICAgIAogICAgICAgIHZhciBwb3B1cF9mMzBiMjI0ZDA5M2I0OTk0OTIwZTc4YjkwOTk4Y2U5ZCA9IEwucG9wdXAoeyJtYXhXaWR0aCI6ICIxMDAlIn0pOwoKICAgICAgICAKICAgICAgICAgICAgdmFyIGh0bWxfZmJiMDM0OTcyMmNjNDE2MzljNjA0OWM3NzdkYzU4MWMgPSAkKGA8ZGl2IGlkPSJodG1sX2ZiYjAzNDk3MjJjYzQxNjM5YzYwNDljNzc3ZGM1ODFjIiBzdHlsZT0id2lkdGg6IDEwMC4wJTsgaGVpZ2h0OiAxMDAuMCU7Ij5VYmljYWNpb246IE1lZGVsbGluPC9kaXY+YClbMF07CiAgICAgICAgICAgIHBvcHVwX2YzMGIyMjRkMDkzYjQ5OTQ5MjBlNzhiOTA5OThjZTlkLnNldENvbnRlbnQoaHRtbF9mYmIwMzQ5NzIyY2M0MTYzOWM2MDQ5Yzc3N2RjNTgxYyk7CiAgICAgICAgCgogICAgICAgIG1hcmtlcl9kMGVhYWM4ODY3ZjE0NWIyOTU4N2FmOGViZDZmMWMyZi5iaW5kUG9wdXAocG9wdXBfZjMwYjIyNGQwOTNiNDk5NDkyMGU3OGI5MDk5OGNlOWQpCiAgICAgICAgOwoKICAgICAgICAKICAgIAogICAgCiAgICAgICAgICAgIG1hcmtlcl9kMGVhYWM4ODY3ZjE0NWIyOTU4N2FmOGViZDZmMWMyZi5iaW5kVG9vbHRpcCgKICAgICAgICAgICAgICAgIGA8ZGl2PgogICAgICAgICAgICAgICAgICAgICA5CiAgICAgICAgICAgICAgICAgPC9kaXY+YCwKICAgICAgICAgICAgICAgIHsic3RpY2t5IjogdHJ1ZX0KICAgICAgICAgICAgKTsKICAgICAgICAKICAgIAogICAgICAgICAgICB2YXIgbWFya2VyXzU5NDAwMDI1YzhlNDRkYjA4NWNjMjZkNzVmNjMwYmRmID0gTC5tYXJrZXIoCiAgICAgICAgICAgICAgICBbMzEuODE2MDM4MSwgLTk5LjUxMjA5ODZdLAogICAgICAgICAgICAgICAge30KICAgICAgICAgICAgKS5hZGRUbyhtYXBfMjZhNzYwN2I2YzkwNDA0MDk5MDJmMDMyOWE2ZGFmYjIpOwogICAgICAgIAogICAgCiAgICAgICAgICAgIHZhciBpY29uXzAzOGUwMzQ1MzliMDQ0MTJiODRmYWQyYTRjN2UyMTg3ID0gTC5Bd2Vzb21lTWFya2Vycy5pY29uKAogICAgICAgICAgICAgICAgeyJleHRyYUNsYXNzZXMiOiAiZmEtcm90YXRlLTAiLCAiaWNvbiI6ICJjbG91ZCIsICJpY29uQ29sb3IiOiAid2hpdGUiLCAibWFya2VyQ29sb3IiOiAicmVkIiwgInByZWZpeCI6ICJnbHlwaGljb24ifQogICAgICAgICAgICApOwogICAgICAgICAgICBtYXJrZXJfNTk0MDAwMjVjOGU0NGRiMDg1Y2MyNmQ3NWY2MzBiZGYuc2V0SWNvbihpY29uXzAzOGUwMzQ1MzliMDQ0MTJiODRmYWQyYTRjN2UyMTg3KTsKICAgICAgICAKICAgIAogICAgICAgIHZhciBwb3B1cF9mNGJlZWY2ODVkNzQ0ZjgxODZiMTI4YWQ2NGM0NTE1ZCA9IEwucG9wdXAoeyJtYXhXaWR0aCI6ICIxMDAlIn0pOwoKICAgICAgICAKICAgICAgICAgICAgdmFyIGh0bWxfYmZlMjliNzQ0MDRiNDk1NWI4NTFhOThlMjk4YWRiMTQgPSAkKGA8ZGl2IGlkPSJodG1sX2JmZTI5Yjc0NDA0YjQ5NTViODUxYTk4ZTI5OGFkYjE0IiBzdHlsZT0id2lkdGg6IDEwMC4wJTsgaGVpZ2h0OiAxMDAuMCU7Ij5VYmljYWNpb246IFRleGFzPC9kaXY+YClbMF07CiAgICAgICAgICAgIHBvcHVwX2Y0YmVlZjY4NWQ3NDRmODE4NmIxMjhhZDY0YzQ1MTVkLnNldENvbnRlbnQoaHRtbF9iZmUyOWI3NDQwNGI0OTU1Yjg1MWE5OGUyOThhZGIxNCk7CiAgICAgICAgCgogICAgICAgIG1hcmtlcl81OTQwMDAyNWM4ZTQ0ZGIwODVjYzI2ZDc1ZjYzMGJkZi5iaW5kUG9wdXAocG9wdXBfZjRiZWVmNjg1ZDc0NGY4MTg2YjEyOGFkNjRjNDUxNWQpCiAgICAgICAgOwoKICAgICAgICAKICAgIAogICAgCiAgICAgICAgICAgIG1hcmtlcl81OTQwMDAyNWM4ZTQ0ZGIwODVjYzI2ZDc1ZjYzMGJkZi5iaW5kVG9vbHRpcCgKICAgICAgICAgICAgICAgIGA8ZGl2PgogICAgICAgICAgICAgICAgICAgICAxMAogICAgICAgICAgICAgICAgIDwvZGl2PmAsCiAgICAgICAgICAgICAgICB7InN0aWNreSI6IHRydWV9CiAgICAgICAgICAgICk7CiAgICAgICAgCiAgICAKICAgICAgICAgICAgdmFyIG1hcmtlcl9iNjYwM2M5MDg0YzA0Y2JjOTcwZjZiMjM5ZWRhNmJmOCA9IEwubWFya2VyKAogICAgICAgICAgICAgICAgWzI5Ljk0OTkzMjMsIC05MC4wNzAxMTU2XSwKICAgICAgICAgICAgICAgIHt9CiAgICAgICAgICAgICkuYWRkVG8obWFwXzI2YTc2MDdiNmM5MDQwNDA5OTAyZjAzMjlhNmRhZmIyKTsKICAgICAgICAKICAgIAogICAgICAgICAgICB2YXIgaWNvbl8zYjY0ZGYyMTM1NWI0MTcwODQxMDBhNjRkNzIxZjFjZiA9IEwuQXdlc29tZU1hcmtlcnMuaWNvbigKICAgICAgICAgICAgICAgIHsiZXh0cmFDbGFzc2VzIjogImZhLXJvdGF0ZS0wIiwgImljb24iOiAiY2xvdWQiLCAiaWNvbkNvbG9yIjogIndoaXRlIiwgIm1hcmtlckNvbG9yIjogInJlZCIsICJwcmVmaXgiOiAiZ2x5cGhpY29uIn0KICAgICAgICAgICAgKTsKICAgICAgICAgICAgbWFya2VyX2I2NjAzYzkwODRjMDRjYmM5NzBmNmIyMzllZGE2YmY4LnNldEljb24oaWNvbl8zYjY0ZGYyMTM1NWI0MTcwODQxMDBhNjRkNzIxZjFjZik7CiAgICAgICAgCiAgICAKICAgICAgICB2YXIgcG9wdXBfYzYxMDVjMTc0ZmY1NGViMDllYjFlODc0NTJhMWNjMmMgPSBMLnBvcHVwKHsibWF4V2lkdGgiOiAiMTAwJSJ9KTsKCiAgICAgICAgCiAgICAgICAgICAgIHZhciBodG1sX2M2ZmE0YWNhZGFmMzRmMjBhZTEzZDY1Njg4YmJlYWQzID0gJChgPGRpdiBpZD0iaHRtbF9jNmZhNGFjYWRhZjM0ZjIwYWUxM2Q2NTY4OGJiZWFkMyIgc3R5bGU9IndpZHRoOiAxMDAuMCU7IGhlaWdodDogMTAwLjAlOyI+VWJpY2FjaW9uOiBOdWV2YSBPcmxlYW5zPC9kaXY+YClbMF07CiAgICAgICAgICAgIHBvcHVwX2M2MTA1YzE3NGZmNTRlYjA5ZWIxZTg3NDUyYTFjYzJjLnNldENvbnRlbnQoaHRtbF9jNmZhNGFjYWRhZjM0ZjIwYWUxM2Q2NTY4OGJiZWFkMyk7CiAgICAgICAgCgogICAgICAgIG1hcmtlcl9iNjYwM2M5MDg0YzA0Y2JjOTcwZjZiMjM5ZWRhNmJmOC5iaW5kUG9wdXAocG9wdXBfYzYxMDVjMTc0ZmY1NGViMDllYjFlODc0NTJhMWNjMmMpCiAgICAgICAgOwoKICAgICAgICAKICAgIAogICAgCiAgICAgICAgICAgIG1hcmtlcl9iNjYwM2M5MDg0YzA0Y2JjOTcwZjZiMjM5ZWRhNmJmOC5iaW5kVG9vbHRpcCgKICAgICAgICAgICAgICAgIGA8ZGl2PgogICAgICAgICAgICAgICAgICAgICAxMQogICAgICAgICAgICAgICAgIDwvZGl2PmAsCiAgICAgICAgICAgICAgICB7InN0aWNreSI6IHRydWV9CiAgICAgICAgICAgICk7CiAgICAgICAgCiAgICAKICAgICAgICAgICAgdmFyIG1vdXNlX3Bvc2l0aW9uX2ZjYzU4ZTk5ZGM5MzQ5MTBiOGE3MjZkOTA5OWE3ZjI5ID0gbmV3IEwuQ29udHJvbC5Nb3VzZVBvc2l0aW9uKAogICAgICAgICAgICAgICAgeyJlbXB0eVN0cmluZyI6ICJVbmF2YWlsYWJsZSIsICJsbmdGaXJzdCI6IGZhbHNlLCAibnVtRGlnaXRzIjogNSwgInBvc2l0aW9uIjogImJvdHRvbXJpZ2h0IiwgInByZWZpeCI6ICIiLCAic2VwYXJhdG9yIjogIiA6ICJ9CiAgICAgICAgICAgICk7CiAgICAgICAgICAgIG1vdXNlX3Bvc2l0aW9uX2ZjYzU4ZTk5ZGM5MzQ5MTBiOGE3MjZkOTA5OWE3ZjI5Lm9wdGlvbnNbImxhdEZvcm1hdHRlciJdID0KICAgICAgICAgICAgICAgIHVuZGVmaW5lZDsKICAgICAgICAgICAgbW91c2VfcG9zaXRpb25fZmNjNThlOTlkYzkzNDkxMGI4YTcyNmQ5MDk5YTdmMjkub3B0aW9uc1sibG5nRm9ybWF0dGVyIl0gPQogICAgICAgICAgICAgICAgdW5kZWZpbmVkOwogICAgICAgICAgICBtYXBfMjZhNzYwN2I2YzkwNDA0MDk5MDJmMDMyOWE2ZGFmYjIuYWRkQ29udHJvbChtb3VzZV9wb3NpdGlvbl9mY2M1OGU5OWRjOTM0OTEwYjhhNzI2ZDkwOTlhN2YyOSk7CiAgICAgICAgCiAgICAKICAgICAgICAgICAgdmFyIHBvbHlfbGluZV8xODNlMjEzNDY2Mzc0MjYwYTA2ZDdlYjA1MWI4ZDEwZCA9IEwucG9seWxpbmUoCiAgICAgICAgICAgICAgICBbWzUxLjUwNzMyMTksIC0wLjEyNzY0NzRdLCBbNDguODU2Njk2OSwgMi4zNTE0NjE2XSwgWzUyLjM3NDU0MDMwMDAwMDAxLCA0Ljg5Nzk3NTUwNTYxNzk3N10sIFszNi4xNjcyNTU5LCAtMTE1LjE0ODUxNjNdLCBbMzUuNjgyODM4NywgMTM5Ljc1OTQ1NDldLCBbLTM0LjYwNzU2ODIsIC01OC40MzcwODk0XSwgWy0yMy41NTA2NTA3LCAtNDYuNjMzMzgyNF0sIFszMi41MDEwMTg4LCAtMTE2Ljk2NDY2MjldLCBbNi4yNDQzMzgyLCAtNzUuNTczNTUzXSwgWzMxLjgxNjAzODEsIC05OS41MTIwOTg2XSwgWzI5Ljk0OTkzMjMsIC05MC4wNzAxMTU2XV0sCiAgICAgICAgICAgICAgICB7ImJ1YmJsaW5nTW91c2VFdmVudHMiOiB0cnVlLCAiY29sb3IiOiAiIzMzODhmZiIsICJkYXNoQXJyYXkiOiBudWxsLCAiZGFzaE9mZnNldCI6IG51bGwsICJmaWxsIjogZmFsc2UsICJmaWxsQ29sb3IiOiAiIzMzODhmZiIsICJmaWxsT3BhY2l0eSI6IDAuMiwgImZpbGxSdWxlIjogImV2ZW5vZGQiLCAibGluZUNhcCI6ICJyb3VuZCIsICJsaW5lSm9pbiI6ICJyb3VuZCIsICJub0NsaXAiOiBmYWxzZSwgIm9wYWNpdHkiOiAxLjAsICJzbW9vdGhGYWN0b3IiOiAxLjAsICJzdHJva2UiOiB0cnVlLCAid2VpZ2h0IjogM30KICAgICAgICAgICAgKS5hZGRUbyhtYXBfMjZhNzYwN2I2YzkwNDA0MDk5MDJmMDMyOWE2ZGFmYjIpOwogICAgICAgIAogICAgCiAgICAgICAgICAgIHZhciB0aWxlX2xheWVyXzA3OThmYzQwMzIyYjQ5ZjFhOGVmMmQyODczYzZiNzU0ID0gTC50aWxlTGF5ZXIoCiAgICAgICAgICAgICAgICAiaHR0cHM6Ly97c30udGlsZS5vcGVuc3RyZWV0bWFwLm9yZy97en0ve3h9L3t5fS5wbmciLAogICAgICAgICAgICAgICAgeyJhdHRyaWJ1dGlvbiI6ICJEYXRhIGJ5IFx1MDAyNmNvcHk7IFx1MDAzY2EgaHJlZj1cImh0dHA6Ly9vcGVuc3RyZWV0bWFwLm9yZ1wiXHUwMDNlT3BlblN0cmVldE1hcFx1MDAzYy9hXHUwMDNlLCB1bmRlciBcdTAwM2NhIGhyZWY9XCJodHRwOi8vd3d3Lm9wZW5zdHJlZXRtYXAub3JnL2NvcHlyaWdodFwiXHUwMDNlT0RiTFx1MDAzYy9hXHUwMDNlLiIsICJkZXRlY3RSZXRpbmEiOiBmYWxzZSwgIm1heE5hdGl2ZVpvb20iOiAxOCwgIm1heFpvb20iOiAxOCwgIm1pblpvb20iOiAwLCAibm9XcmFwIjogZmFsc2UsICJvcGFjaXR5IjogMSwgInN1YmRvbWFpbnMiOiAiYWJjIiwgInRtcyI6IGZhbHNlfQogICAgICAgICAgICApOwogICAgICAgICAgICB2YXIgbWluaV9tYXBfMTAxZmJlMzMyMmQ2NDM3ODliOWRjNjI4NzVkZWE4MjkgPSBuZXcgTC5Db250cm9sLk1pbmlNYXAoCiAgICAgICAgICAgICAgICB0aWxlX2xheWVyXzA3OThmYzQwMzIyYjQ5ZjFhOGVmMmQyODczYzZiNzU0LAogICAgICAgICAgICAgICAgeyJhdXRvVG9nZ2xlRGlzcGxheSI6IGZhbHNlLCAiY2VudGVyRml4ZWQiOiBmYWxzZSwgImNvbGxhcHNlZEhlaWdodCI6IDI1LCAiY29sbGFwc2VkV2lkdGgiOiAyNSwgImhlaWdodCI6IDE1MCwgIm1pbmltaXplZCI6IGZhbHNlLCAicG9zaXRpb24iOiAiYm90dG9tcmlnaHQiLCAidG9nZ2xlRGlzcGxheSI6IGZhbHNlLCAid2lkdGgiOiAxNTAsICJ6b29tQW5pbWF0aW9uIjogZmFsc2UsICJ6b29tTGV2ZWxPZmZzZXQiOiAtNX0KICAgICAgICAgICAgKTsKICAgICAgICAgICAgbWFwXzI2YTc2MDdiNmM5MDQwNDA5OTAyZjAzMjlhNmRhZmIyLmFkZENvbnRyb2wobWluaV9tYXBfMTAxZmJlMzMyMmQ2NDM3ODliOWRjNjI4NzVkZWE4MjkpOwogICAgICAgIAo8L3NjcmlwdD4= onload=\"this.contentDocument.open();this.contentDocument.write(atob(this.getAttribute('data-html')));this.contentDocument.close();\" allowfullscreen webkitallowfullscreen mozallowfullscreen></iframe></div></div>"
      ],
      "text/plain": [
       "<folium.folium.Map at 0x7f52ec7a8690>"
      ]
     },
     "metadata": {},
     "output_type": "display_data"
    },
    {
     "name": "stdout",
     "output_type": "stream",
     "text": [
      "<class 'folium.folium.Map'>\n",
      "<class 'NoneType'>\n"
     ]
    }
   ],
   "source": [
    "from PIL import Image, ImageTk\n",
    "from tkinter import PhotoImage, messagebox\n",
    "from clases.Arbol import Arbol\n",
    "from clases.Mapa import Mapa, UbicacionNotFound\n",
    "from clases.Uploader import Uploader\n",
    "from clases.Alineador import Alineador\n",
    "from tkinterhtml import HtmlFrame\n",
    "\n",
    "import tkinter as tk\n",
    "\n",
    "lista_de_nombre_de_ubicaciones = [\"Londres\", \"Paris\", \"Amsterdam\", \"Las Vegas\", \"Tokyo\", \"Buenos Aires\", \"San Pablo\", \"Tijuana\", \"Medellin\", \"Texas\", \"Nueva Orleans\"]\n",
    "\n",
    "class Handler():        \n",
    "    \n",
    "    def client_exit(self):\n",
    "        root.destroy()\n",
    "        \n",
    "    def upload_fasta(self):        \n",
    "        uploader = Uploader()\n",
    "        if uploader.loadFasta():\n",
    "            messagebox.showinfo(message=\"Se cargó el FASTA correctamente!\", title=\"\")\n",
    "        else:\n",
    "            messagebox.showinfo(message=\"No se cargó el FASTA\", title=\"\")\n",
    "            \n",
    "    def align_secuences(self):\n",
    "        alineador = Alineador()\n",
    "        alineador.alinear()\n",
    "        \n",
    "    def make_tree(self):\n",
    "        arbol = Arbol()\n",
    "        arbol.armarArbol()\n",
    "        \n",
    "    def make_map(self):\n",
    "        mapa = Mapa()\n",
    "        try:\n",
    "            root = tk.Tk()\n",
    "            frame = HtmlFrame(root, horizontal_scrollbar=\"auto\")\n",
    "            mapita = mapa.armar_mapa(lista_de_nombre_de_ubicaciones).render_mapa()\n",
    "            print(type(mapita))\n",
    "            mapa.guardar_mapa()\n",
    "            frame.set_content(frame.set_content(urllib.request.urlopen('file:///home/chesire/Escritorio/BiocambioFacundo/Bioinformatica-UNQ/TP%20-%20FINAL/Mapa%20final').read().decode()))\n",
    "        except UbicacionNotFound as e:\n",
    "            messagebox.showinfo(\"Ojo al piojo\", str(e))\n",
    "            \n",
    "\n",
    "class BkgrFrame(tk.Frame):\n",
    "    def __init__(self, parent, file_path, width, height):\n",
    "        super(BkgrFrame, self).__init__(parent, borderwidth=0, highlightthickness=0)\n",
    "\n",
    "        self.canvas = tk.Canvas(self, width=width, height=height)\n",
    "        self.canvas.pack()\n",
    "\n",
    "        pil_img = Image.open(file_path)\n",
    "        self.img = ImageTk.PhotoImage(pil_img.resize((width, height), Image.ANTIALIAS))\n",
    "        self.bg = self.canvas.create_image(0, 0, anchor=tk.NW, image=self.img)\n",
    "\n",
    "    def add(self, widget, x, y):\n",
    "        canvas_window = self.canvas.create_window(x, y, anchor=tk.NW, window=widget)\n",
    "        return widget\n",
    "\n",
    "\n",
    "if __name__ == '__main__':\n",
    "\n",
    "    IMAGE_PATH = './img/MenuHerramientaBio.png'\n",
    "    WIDTH, HEIGTH = 800, 600\n",
    "\n",
    "    root = tk.Tk()\n",
    "    root.geometry('{}x{}'.format(WIDTH, HEIGTH))\n",
    "    \n",
    "    handler = Handler()\n",
    "\n",
    "    bkrgframe = BkgrFrame(root, IMAGE_PATH, WIDTH, HEIGTH)\n",
    "    bkrgframe.pack()\n",
    "    \n",
    "    exitPhot = PhotoImage(file = r\"./img/BotonSalir.png\")\n",
    "    fastaPhot = PhotoImage(file = r\"./img/BotonFasta.png\")\n",
    "    alignPhot = PhotoImage(file = r\"./img/BotonAlinear.png\")\n",
    "    treePhot = PhotoImage(file = r\"./img/BotonArbolear.png\")\n",
    "    mapPhot = PhotoImage(file = r\"./img/BotonMapear.png\")\n",
    "\n",
    "    button1 = bkrgframe.add(tk.Button(root, image=exitPhot, command= handler.client_exit), 650, 8)\n",
    "    button2 = bkrgframe.add(tk.Button(root, image=fastaPhot, command= handler.upload_fasta), 310, 180)\n",
    "    button3 = bkrgframe.add(tk.Button(root, image=alignPhot, command= handler.align_secuences), 65, 340)\n",
    "    button4 = bkrgframe.add(tk.Button(root, image=treePhot, command= handler.make_tree), 65, 430)\n",
    "    button5 = bkrgframe.add(tk.Button(root, image=mapPhot, command= handler.make_map), 60, 520)\n",
    "\n",
    "    root.resizable(width=False, height=False)\n",
    "    root.wm_attributes('-type', 'splash')\n",
    "    root.mainloop()\n"
   ]
  },
  {
   "cell_type": "code",
   "execution_count": null,
   "metadata": {},
   "outputs": [],
   "source": [
    "import os\n",
    "from Bio.Seq import Seq\n",
    "from Bio.SeqRecord import SeqRecord\n",
    "from Bio.Alphabet import IUPAC\n",
    "import Bio.SeqIO as SeqIO\n",
    "from Bio.Align.Applications import ClustalOmegaCommandline\n",
    "\n",
    "ref_seq = \"ERVVIGSKPFNEQYILANMIAILLEENGYKA\"\n",
    "target_seq = \"ERVVIGSKPFNEQYILANMINGYKA\"\n",
    "\n",
    "if os.path.exists(\"./temp\"):\n",
    "    # Change the current working Directory\n",
    "    owd = os.getcwd()\n",
    "    os.chdir(\"./temp\")\n",
    "else:\n",
    "    print(\"Can't change the Current Working Directory\")    \n",
    "\n",
    "in_file = \"fasta.fasta\"\n",
    "out_file = \"aligned.fasta\"\n",
    "\n",
    "clustalomega_cline = ClustalOmegaCommandline(infile=in_file, outfile=out_file, verbose=True, auto=True, force=True)\n",
    "clustalomega_cline()\n",
    "\n",
    "os.chdir(owd)\n"
   ]
  },
  {
   "cell_type": "code",
   "execution_count": null,
   "metadata": {},
   "outputs": [],
   "source": []
  },
  {
   "cell_type": "code",
   "execution_count": null,
   "metadata": {},
   "outputs": [],
   "source": []
  }
 ],
 "metadata": {
  "kernelspec": {
   "display_name": "Python 3",
   "language": "python",
   "name": "python3"
  },
  "language_info": {
   "codemirror_mode": {
    "name": "ipython",
    "version": 3
   },
   "file_extension": ".py",
   "mimetype": "text/x-python",
   "name": "python",
   "nbconvert_exporter": "python",
   "pygments_lexer": "ipython3",
   "version": "3.7.6"
  }
 },
 "nbformat": 4,
 "nbformat_minor": 4
}
