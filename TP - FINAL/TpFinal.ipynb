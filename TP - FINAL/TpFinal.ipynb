{
 "cells": [
  {
   "cell_type": "code",
   "execution_count": 1,
   "metadata": {},
   "outputs": [
    {
     "name": "stdout",
     "output_type": "stream",
     "text": [
      "Requirement already satisfied: PySimpleGUI in /home/chesire/anaconda3/lib/python3.7/site-packages (4.22.0)\r\n"
     ]
    }
   ],
   "source": [
    "#Interfaz\n",
    "!pip install PySimpleGUI"
   ]
  },
  {
   "cell_type": "code",
   "execution_count": 6,
   "metadata": {},
   "outputs": [],
   "source": [
    "#Mock arbol\n",
    "class Arbol:\n",
    "    pass\n",
    "\n",
    "class Alineador:\n",
    "    pass\n",
    "\n",
    "arbol = Arbol()\n",
    "Alineacion = Alineador()"
   ]
  },
  {
   "cell_type": "code",
   "execution_count": 7,
   "metadata": {},
   "outputs": [
    {
     "name": "stdout",
     "output_type": "stream",
     "text": [
      "Requirement already satisfied: geopy in /home/chesire/anaconda3/lib/python3.7/site-packages (2.0.0)\n",
      "Requirement already satisfied: geographiclib<2,>=1.49 in /home/chesire/anaconda3/lib/python3.7/site-packages (from geopy) (1.50)\n",
      "Requirement already satisfied: folium in /home/chesire/anaconda3/lib/python3.7/site-packages (0.11.0)\n",
      "Requirement already satisfied: requests in /home/chesire/anaconda3/lib/python3.7/site-packages (from folium) (2.21.0)\n",
      "Requirement already satisfied: jinja2>=2.9 in /home/chesire/anaconda3/lib/python3.7/site-packages (from folium) (2.10)\n",
      "Requirement already satisfied: numpy in /home/chesire/anaconda3/lib/python3.7/site-packages (from folium) (1.16.2)\n",
      "Requirement already satisfied: branca>=0.3.0 in /home/chesire/anaconda3/lib/python3.7/site-packages (from folium) (0.4.1)\n",
      "Requirement already satisfied: chardet<3.1.0,>=3.0.2 in /home/chesire/anaconda3/lib/python3.7/site-packages (from requests->folium) (3.0.4)\n",
      "Requirement already satisfied: idna<2.9,>=2.5 in /home/chesire/anaconda3/lib/python3.7/site-packages (from requests->folium) (2.8)\n",
      "Requirement already satisfied: urllib3<1.25,>=1.21.1 in /home/chesire/anaconda3/lib/python3.7/site-packages (from requests->folium) (1.24.1)\n",
      "Requirement already satisfied: certifi>=2017.4.17 in /home/chesire/anaconda3/lib/python3.7/site-packages (from requests->folium) (2020.4.5.2)\n",
      "Requirement already satisfied: MarkupSafe>=0.23 in /home/chesire/anaconda3/lib/python3.7/site-packages (from jinja2>=2.9->folium) (1.1.1)\n",
      "Requirement already satisfied: selenium in /home/chesire/anaconda3/lib/python3.7/site-packages (3.141.0)\n",
      "Requirement already satisfied: urllib3 in /home/chesire/anaconda3/lib/python3.7/site-packages (from selenium) (1.24.1)\n"
     ]
    }
   ],
   "source": [
    "#Mapa - libreria\n",
    "!pip install geopy\n",
    "!pip install folium\n",
    "!pip install selenium\n",
    "\n",
    "from geopy.geocoders import Nominatim\n",
    "geolocator = Nominatim(user_agent=\"TP FINAL Bioinformatica\")"
   ]
  },
  {
   "cell_type": "code",
   "execution_count": 17,
   "metadata": {},
   "outputs": [],
   "source": [
    "#Mapa - Modelo\n",
    "import folium\n",
    "import PySimpleGUI as sg\n",
    "import io\n",
    "from PIL import Image\n",
    "\n",
    "class UbicacionNotFound(Exception):\n",
    "    def __init__(self, nombre_ubicacion):\n",
    "        super().__init__(f\"La ubicación {nombre_ubicacion} no es válida\")\n",
    "\n",
    "\n",
    "class Mapa:\n",
    "    def __init__(self):\n",
    "        self.points = []\n",
    "        self.my_map = folium.Map(\n",
    "            zoom_start = 8\n",
    "        )\n",
    "        \n",
    "    def armar_mapa(self, nombres_de_ubicaciones):\n",
    "        n = 1\n",
    "        for nombre_ubicacion in nombres_de_ubicaciones:\n",
    "            ubicacion = geolocator.geocode(nombre_ubicacion)\n",
    "            if ubicacion == None:\n",
    "                raise UbicacionNotFound(nombre_ubicacion)\n",
    "            point = (ubicacion.latitude, ubicacion.longitude)\n",
    "            self.points.append(point)\n",
    "            folium.Marker(\n",
    "                location = [point[0], point[1]],\n",
    "                icon = folium.Icon(color='red', icon='cloud'),\n",
    "                popup= f'Ubicacion: {nombre_ubicacion}',\n",
    "                tooltip = n\n",
    "            ).add_to(self.my_map)\n",
    "            n = n + 1\n",
    "        return self\n",
    "    \n",
    "    def render_mapa(self):\n",
    "        folium.PolyLine(self.points).add_to(self.my_map)\n",
    "        display(self.my_map)\n",
    "            \n",
    "mapa = Mapa()"
   ]
  },
  {
   "cell_type": "code",
   "execution_count": 18,
   "metadata": {},
   "outputs": [
    {
     "data": {
      "text/html": [
       "<div style=\"width:100%;\"><div style=\"position:relative;width:100%;height:0;padding-bottom:60%;\"><span style=\"color:#565656\">Make this Notebook Trusted to load map: File -> Trust Notebook</span><iframe src=\"about:blank\" style=\"position:absolute;width:100%;height:100%;left:0;top:0;border:none !important;\" data-html=PCFET0NUWVBFIGh0bWw+CjxoZWFkPiAgICAKICAgIDxtZXRhIGh0dHAtZXF1aXY9ImNvbnRlbnQtdHlwZSIgY29udGVudD0idGV4dC9odG1sOyBjaGFyc2V0PVVURi04IiAvPgogICAgCiAgICAgICAgPHNjcmlwdD4KICAgICAgICAgICAgTF9OT19UT1VDSCA9IGZhbHNlOwogICAgICAgICAgICBMX0RJU0FCTEVfM0QgPSBmYWxzZTsKICAgICAgICA8L3NjcmlwdD4KICAgIAogICAgPHNjcmlwdCBzcmM9Imh0dHBzOi8vY2RuLmpzZGVsaXZyLm5ldC9ucG0vbGVhZmxldEAxLjYuMC9kaXN0L2xlYWZsZXQuanMiPjwvc2NyaXB0PgogICAgPHNjcmlwdCBzcmM9Imh0dHBzOi8vY29kZS5qcXVlcnkuY29tL2pxdWVyeS0xLjEyLjQubWluLmpzIj48L3NjcmlwdD4KICAgIDxzY3JpcHQgc3JjPSJodHRwczovL21heGNkbi5ib290c3RyYXBjZG4uY29tL2Jvb3RzdHJhcC8zLjIuMC9qcy9ib290c3RyYXAubWluLmpzIj48L3NjcmlwdD4KICAgIDxzY3JpcHQgc3JjPSJodHRwczovL2NkbmpzLmNsb3VkZmxhcmUuY29tL2FqYXgvbGlicy9MZWFmbGV0LmF3ZXNvbWUtbWFya2Vycy8yLjAuMi9sZWFmbGV0LmF3ZXNvbWUtbWFya2Vycy5qcyI+PC9zY3JpcHQ+CiAgICA8bGluayByZWw9InN0eWxlc2hlZXQiIGhyZWY9Imh0dHBzOi8vY2RuLmpzZGVsaXZyLm5ldC9ucG0vbGVhZmxldEAxLjYuMC9kaXN0L2xlYWZsZXQuY3NzIi8+CiAgICA8bGluayByZWw9InN0eWxlc2hlZXQiIGhyZWY9Imh0dHBzOi8vbWF4Y2RuLmJvb3RzdHJhcGNkbi5jb20vYm9vdHN0cmFwLzMuMi4wL2Nzcy9ib290c3RyYXAubWluLmNzcyIvPgogICAgPGxpbmsgcmVsPSJzdHlsZXNoZWV0IiBocmVmPSJodHRwczovL21heGNkbi5ib290c3RyYXBjZG4uY29tL2Jvb3RzdHJhcC8zLjIuMC9jc3MvYm9vdHN0cmFwLXRoZW1lLm1pbi5jc3MiLz4KICAgIDxsaW5rIHJlbD0ic3R5bGVzaGVldCIgaHJlZj0iaHR0cHM6Ly9tYXhjZG4uYm9vdHN0cmFwY2RuLmNvbS9mb250LWF3ZXNvbWUvNC42LjMvY3NzL2ZvbnQtYXdlc29tZS5taW4uY3NzIi8+CiAgICA8bGluayByZWw9InN0eWxlc2hlZXQiIGhyZWY9Imh0dHBzOi8vY2RuanMuY2xvdWRmbGFyZS5jb20vYWpheC9saWJzL0xlYWZsZXQuYXdlc29tZS1tYXJrZXJzLzIuMC4yL2xlYWZsZXQuYXdlc29tZS1tYXJrZXJzLmNzcyIvPgogICAgPGxpbmsgcmVsPSJzdHlsZXNoZWV0IiBocmVmPSJodHRwczovL3Jhd2Nkbi5naXRoYWNrLmNvbS9weXRob24tdmlzdWFsaXphdGlvbi9mb2xpdW0vbWFzdGVyL2ZvbGl1bS90ZW1wbGF0ZXMvbGVhZmxldC5hd2Vzb21lLnJvdGF0ZS5jc3MiLz4KICAgIDxzdHlsZT5odG1sLCBib2R5IHt3aWR0aDogMTAwJTtoZWlnaHQ6IDEwMCU7bWFyZ2luOiAwO3BhZGRpbmc6IDA7fTwvc3R5bGU+CiAgICA8c3R5bGU+I21hcCB7cG9zaXRpb246YWJzb2x1dGU7dG9wOjA7Ym90dG9tOjA7cmlnaHQ6MDtsZWZ0OjA7fTwvc3R5bGU+CiAgICAKICAgICAgICAgICAgPG1ldGEgbmFtZT0idmlld3BvcnQiIGNvbnRlbnQ9IndpZHRoPWRldmljZS13aWR0aCwKICAgICAgICAgICAgICAgIGluaXRpYWwtc2NhbGU9MS4wLCBtYXhpbXVtLXNjYWxlPTEuMCwgdXNlci1zY2FsYWJsZT1ubyIgLz4KICAgICAgICAgICAgPHN0eWxlPgogICAgICAgICAgICAgICAgI21hcF80NGViOTJhMGQzNGQ0ZWIyOWFlODNkODcxNDQ4ZWM2MCB7CiAgICAgICAgICAgICAgICAgICAgcG9zaXRpb246IHJlbGF0aXZlOwogICAgICAgICAgICAgICAgICAgIHdpZHRoOiAxMDAuMCU7CiAgICAgICAgICAgICAgICAgICAgaGVpZ2h0OiAxMDAuMCU7CiAgICAgICAgICAgICAgICAgICAgbGVmdDogMC4wJTsKICAgICAgICAgICAgICAgICAgICB0b3A6IDAuMCU7CiAgICAgICAgICAgICAgICB9CiAgICAgICAgICAgIDwvc3R5bGU+CiAgICAgICAgCjwvaGVhZD4KPGJvZHk+ICAgIAogICAgCiAgICAgICAgICAgIDxkaXYgY2xhc3M9ImZvbGl1bS1tYXAiIGlkPSJtYXBfNDRlYjkyYTBkMzRkNGViMjlhZTgzZDg3MTQ0OGVjNjAiID48L2Rpdj4KICAgICAgICAKPC9ib2R5Pgo8c2NyaXB0PiAgICAKICAgIAogICAgICAgICAgICB2YXIgbWFwXzQ0ZWI5MmEwZDM0ZDRlYjI5YWU4M2Q4NzE0NDhlYzYwID0gTC5tYXAoCiAgICAgICAgICAgICAgICAibWFwXzQ0ZWI5MmEwZDM0ZDRlYjI5YWU4M2Q4NzE0NDhlYzYwIiwKICAgICAgICAgICAgICAgIHsKICAgICAgICAgICAgICAgICAgICBjZW50ZXI6IFswLCAwXSwKICAgICAgICAgICAgICAgICAgICBjcnM6IEwuQ1JTLkVQU0czODU3LAogICAgICAgICAgICAgICAgICAgIHpvb206IDEsCiAgICAgICAgICAgICAgICAgICAgem9vbUNvbnRyb2w6IHRydWUsCiAgICAgICAgICAgICAgICAgICAgcHJlZmVyQ2FudmFzOiBmYWxzZSwKICAgICAgICAgICAgICAgIH0KICAgICAgICAgICAgKTsKCiAgICAgICAgICAgIAoKICAgICAgICAKICAgIAogICAgICAgICAgICB2YXIgdGlsZV9sYXllcl9hZGM5MWMyNGVkZjE0MzMxODA1NmIzYmMzNzE5NTliYiA9IEwudGlsZUxheWVyKAogICAgICAgICAgICAgICAgImh0dHBzOi8ve3N9LnRpbGUub3BlbnN0cmVldG1hcC5vcmcve3p9L3t4fS97eX0ucG5nIiwKICAgICAgICAgICAgICAgIHsiYXR0cmlidXRpb24iOiAiRGF0YSBieSBcdTAwMjZjb3B5OyBcdTAwM2NhIGhyZWY9XCJodHRwOi8vb3BlbnN0cmVldG1hcC5vcmdcIlx1MDAzZU9wZW5TdHJlZXRNYXBcdTAwM2MvYVx1MDAzZSwgdW5kZXIgXHUwMDNjYSBocmVmPVwiaHR0cDovL3d3dy5vcGVuc3RyZWV0bWFwLm9yZy9jb3B5cmlnaHRcIlx1MDAzZU9EYkxcdTAwM2MvYVx1MDAzZS4iLCAiZGV0ZWN0UmV0aW5hIjogZmFsc2UsICJtYXhOYXRpdmVab29tIjogMTgsICJtYXhab29tIjogMTgsICJtaW5ab29tIjogMCwgIm5vV3JhcCI6IGZhbHNlLCAib3BhY2l0eSI6IDEsICJzdWJkb21haW5zIjogImFiYyIsICJ0bXMiOiBmYWxzZX0KICAgICAgICAgICAgKS5hZGRUbyhtYXBfNDRlYjkyYTBkMzRkNGViMjlhZTgzZDg3MTQ0OGVjNjApOwogICAgICAgIAogICAgCiAgICAgICAgICAgIHZhciBtYXJrZXJfM2M4MGEwYjI4YjYyNDVjZmI4MDllMzI3NzRhNjY4MmIgPSBMLm1hcmtlcigKICAgICAgICAgICAgICAgIFs1MS41MDczMjE5LCAtMC4xMjc2NDc0XSwKICAgICAgICAgICAgICAgIHt9CiAgICAgICAgICAgICkuYWRkVG8obWFwXzQ0ZWI5MmEwZDM0ZDRlYjI5YWU4M2Q4NzE0NDhlYzYwKTsKICAgICAgICAKICAgIAogICAgICAgICAgICB2YXIgaWNvbl85ZDYzYjc2MDU5NGU0NGU0YWFjMWNmZTQ1YWQwN2Y3ZCA9IEwuQXdlc29tZU1hcmtlcnMuaWNvbigKICAgICAgICAgICAgICAgIHsiZXh0cmFDbGFzc2VzIjogImZhLXJvdGF0ZS0wIiwgImljb24iOiAiY2xvdWQiLCAiaWNvbkNvbG9yIjogIndoaXRlIiwgIm1hcmtlckNvbG9yIjogInJlZCIsICJwcmVmaXgiOiAiZ2x5cGhpY29uIn0KICAgICAgICAgICAgKTsKICAgICAgICAgICAgbWFya2VyXzNjODBhMGIyOGI2MjQ1Y2ZiODA5ZTMyNzc0YTY2ODJiLnNldEljb24oaWNvbl85ZDYzYjc2MDU5NGU0NGU0YWFjMWNmZTQ1YWQwN2Y3ZCk7CiAgICAgICAgCiAgICAKICAgICAgICB2YXIgcG9wdXBfNTlhZjRhOTdhYjI1NDA3YThiNDBiYWI3ZjQyNDUzNzYgPSBMLnBvcHVwKHsibWF4V2lkdGgiOiAiMTAwJSJ9KTsKCiAgICAgICAgCiAgICAgICAgICAgIHZhciBodG1sXzQ5OTY4MjZkNTM0ZTRlODJiNzM1MGQ4MjQwYWNmMmNiID0gJChgPGRpdiBpZD0iaHRtbF80OTk2ODI2ZDUzNGU0ZTgyYjczNTBkODI0MGFjZjJjYiIgc3R5bGU9IndpZHRoOiAxMDAuMCU7IGhlaWdodDogMTAwLjAlOyI+VWJpY2FjaW9uOiBMb25kcmVzPC9kaXY+YClbMF07CiAgICAgICAgICAgIHBvcHVwXzU5YWY0YTk3YWIyNTQwN2E4YjQwYmFiN2Y0MjQ1Mzc2LnNldENvbnRlbnQoaHRtbF80OTk2ODI2ZDUzNGU0ZTgyYjczNTBkODI0MGFjZjJjYik7CiAgICAgICAgCgogICAgICAgIG1hcmtlcl8zYzgwYTBiMjhiNjI0NWNmYjgwOWUzMjc3NGE2NjgyYi5iaW5kUG9wdXAocG9wdXBfNTlhZjRhOTdhYjI1NDA3YThiNDBiYWI3ZjQyNDUzNzYpCiAgICAgICAgOwoKICAgICAgICAKICAgIAogICAgCiAgICAgICAgICAgIG1hcmtlcl8zYzgwYTBiMjhiNjI0NWNmYjgwOWUzMjc3NGE2NjgyYi5iaW5kVG9vbHRpcCgKICAgICAgICAgICAgICAgIGA8ZGl2PgogICAgICAgICAgICAgICAgICAgICAxCiAgICAgICAgICAgICAgICAgPC9kaXY+YCwKICAgICAgICAgICAgICAgIHsic3RpY2t5IjogdHJ1ZX0KICAgICAgICAgICAgKTsKICAgICAgICAKICAgIAogICAgICAgICAgICB2YXIgbWFya2VyX2VmZWI2ZTc2N2M0YjQwNWNhZGUyMDM2YWJhZDM2M2NmID0gTC5tYXJrZXIoCiAgICAgICAgICAgICAgICBbNDguODU2Njk2OSwgMi4zNTE0NjE2XSwKICAgICAgICAgICAgICAgIHt9CiAgICAgICAgICAgICkuYWRkVG8obWFwXzQ0ZWI5MmEwZDM0ZDRlYjI5YWU4M2Q4NzE0NDhlYzYwKTsKICAgICAgICAKICAgIAogICAgICAgICAgICB2YXIgaWNvbl8zZTk4MDdjMTUzZmY0M2U2YmRhNzA4Zjk0NDI2MzkxMSA9IEwuQXdlc29tZU1hcmtlcnMuaWNvbigKICAgICAgICAgICAgICAgIHsiZXh0cmFDbGFzc2VzIjogImZhLXJvdGF0ZS0wIiwgImljb24iOiAiY2xvdWQiLCAiaWNvbkNvbG9yIjogIndoaXRlIiwgIm1hcmtlckNvbG9yIjogInJlZCIsICJwcmVmaXgiOiAiZ2x5cGhpY29uIn0KICAgICAgICAgICAgKTsKICAgICAgICAgICAgbWFya2VyX2VmZWI2ZTc2N2M0YjQwNWNhZGUyMDM2YWJhZDM2M2NmLnNldEljb24oaWNvbl8zZTk4MDdjMTUzZmY0M2U2YmRhNzA4Zjk0NDI2MzkxMSk7CiAgICAgICAgCiAgICAKICAgICAgICB2YXIgcG9wdXBfNTA4YzY5NjY3YWYwNGMwY2JjNDJiMmFiZmQxNzM5YzEgPSBMLnBvcHVwKHsibWF4V2lkdGgiOiAiMTAwJSJ9KTsKCiAgICAgICAgCiAgICAgICAgICAgIHZhciBodG1sXzY2YzJmMGYwYTk3NTQ2MDFiZWI2MjMzYzM1MjIxNjQ4ID0gJChgPGRpdiBpZD0iaHRtbF82NmMyZjBmMGE5NzU0NjAxYmViNjIzM2MzNTIyMTY0OCIgc3R5bGU9IndpZHRoOiAxMDAuMCU7IGhlaWdodDogMTAwLjAlOyI+VWJpY2FjaW9uOiBQYXJpczwvZGl2PmApWzBdOwogICAgICAgICAgICBwb3B1cF81MDhjNjk2NjdhZjA0YzBjYmM0MmIyYWJmZDE3MzljMS5zZXRDb250ZW50KGh0bWxfNjZjMmYwZjBhOTc1NDYwMWJlYjYyMzNjMzUyMjE2NDgpOwogICAgICAgIAoKICAgICAgICBtYXJrZXJfZWZlYjZlNzY3YzRiNDA1Y2FkZTIwMzZhYmFkMzYzY2YuYmluZFBvcHVwKHBvcHVwXzUwOGM2OTY2N2FmMDRjMGNiYzQyYjJhYmZkMTczOWMxKQogICAgICAgIDsKCiAgICAgICAgCiAgICAKICAgIAogICAgICAgICAgICBtYXJrZXJfZWZlYjZlNzY3YzRiNDA1Y2FkZTIwMzZhYmFkMzYzY2YuYmluZFRvb2x0aXAoCiAgICAgICAgICAgICAgICBgPGRpdj4KICAgICAgICAgICAgICAgICAgICAgMgogICAgICAgICAgICAgICAgIDwvZGl2PmAsCiAgICAgICAgICAgICAgICB7InN0aWNreSI6IHRydWV9CiAgICAgICAgICAgICk7CiAgICAgICAgCiAgICAKICAgICAgICAgICAgdmFyIG1hcmtlcl8wY2U1YThiODI2OGY0YjkwODNjYTExZTMwOTAxODIzMiA9IEwubWFya2VyKAogICAgICAgICAgICAgICAgWzUyLjM3NDU0MDMwMDAwMDAxLCA0Ljg5Nzk3NTUwNTYxNzk3N10sCiAgICAgICAgICAgICAgICB7fQogICAgICAgICAgICApLmFkZFRvKG1hcF80NGViOTJhMGQzNGQ0ZWIyOWFlODNkODcxNDQ4ZWM2MCk7CiAgICAgICAgCiAgICAKICAgICAgICAgICAgdmFyIGljb25fYjM1NmQ2MTI0Nzc2NDA1NjhkZGNlOWU5YTgxYjFjMWUgPSBMLkF3ZXNvbWVNYXJrZXJzLmljb24oCiAgICAgICAgICAgICAgICB7ImV4dHJhQ2xhc3NlcyI6ICJmYS1yb3RhdGUtMCIsICJpY29uIjogImNsb3VkIiwgImljb25Db2xvciI6ICJ3aGl0ZSIsICJtYXJrZXJDb2xvciI6ICJyZWQiLCAicHJlZml4IjogImdseXBoaWNvbiJ9CiAgICAgICAgICAgICk7CiAgICAgICAgICAgIG1hcmtlcl8wY2U1YThiODI2OGY0YjkwODNjYTExZTMwOTAxODIzMi5zZXRJY29uKGljb25fYjM1NmQ2MTI0Nzc2NDA1NjhkZGNlOWU5YTgxYjFjMWUpOwogICAgICAgIAogICAgCiAgICAgICAgdmFyIHBvcHVwX2VlNjVhMDQzMzA1ZDQxMWM4OWVmMDFhOGUzMWZkNGU5ID0gTC5wb3B1cCh7Im1heFdpZHRoIjogIjEwMCUifSk7CgogICAgICAgIAogICAgICAgICAgICB2YXIgaHRtbF9kYTdlMDQxZDI5OTE0YjIwYmZhZWE5M2I3MTkzMTkwOCA9ICQoYDxkaXYgaWQ9Imh0bWxfZGE3ZTA0MWQyOTkxNGIyMGJmYWVhOTNiNzE5MzE5MDgiIHN0eWxlPSJ3aWR0aDogMTAwLjAlOyBoZWlnaHQ6IDEwMC4wJTsiPlViaWNhY2lvbjogQW1zdGVyZGFtPC9kaXY+YClbMF07CiAgICAgICAgICAgIHBvcHVwX2VlNjVhMDQzMzA1ZDQxMWM4OWVmMDFhOGUzMWZkNGU5LnNldENvbnRlbnQoaHRtbF9kYTdlMDQxZDI5OTE0YjIwYmZhZWE5M2I3MTkzMTkwOCk7CiAgICAgICAgCgogICAgICAgIG1hcmtlcl8wY2U1YThiODI2OGY0YjkwODNjYTExZTMwOTAxODIzMi5iaW5kUG9wdXAocG9wdXBfZWU2NWEwNDMzMDVkNDExYzg5ZWYwMWE4ZTMxZmQ0ZTkpCiAgICAgICAgOwoKICAgICAgICAKICAgIAogICAgCiAgICAgICAgICAgIG1hcmtlcl8wY2U1YThiODI2OGY0YjkwODNjYTExZTMwOTAxODIzMi5iaW5kVG9vbHRpcCgKICAgICAgICAgICAgICAgIGA8ZGl2PgogICAgICAgICAgICAgICAgICAgICAzCiAgICAgICAgICAgICAgICAgPC9kaXY+YCwKICAgICAgICAgICAgICAgIHsic3RpY2t5IjogdHJ1ZX0KICAgICAgICAgICAgKTsKICAgICAgICAKICAgIAogICAgICAgICAgICB2YXIgbWFya2VyX2EwYTQyMTJjMzg3NDRhYjQ5NWRmNjQ3ODI2OTUyNDE1ID0gTC5tYXJrZXIoCiAgICAgICAgICAgICAgICBbMzYuMTY3MjU1OSwgLTExNS4xNDg1MTYzXSwKICAgICAgICAgICAgICAgIHt9CiAgICAgICAgICAgICkuYWRkVG8obWFwXzQ0ZWI5MmEwZDM0ZDRlYjI5YWU4M2Q4NzE0NDhlYzYwKTsKICAgICAgICAKICAgIAogICAgICAgICAgICB2YXIgaWNvbl9hZWE2MjI3NWNhNGQ0NTA2YWVkYzg2MTZhYWY0NDBiNyA9IEwuQXdlc29tZU1hcmtlcnMuaWNvbigKICAgICAgICAgICAgICAgIHsiZXh0cmFDbGFzc2VzIjogImZhLXJvdGF0ZS0wIiwgImljb24iOiAiY2xvdWQiLCAiaWNvbkNvbG9yIjogIndoaXRlIiwgIm1hcmtlckNvbG9yIjogInJlZCIsICJwcmVmaXgiOiAiZ2x5cGhpY29uIn0KICAgICAgICAgICAgKTsKICAgICAgICAgICAgbWFya2VyX2EwYTQyMTJjMzg3NDRhYjQ5NWRmNjQ3ODI2OTUyNDE1LnNldEljb24oaWNvbl9hZWE2MjI3NWNhNGQ0NTA2YWVkYzg2MTZhYWY0NDBiNyk7CiAgICAgICAgCiAgICAKICAgICAgICB2YXIgcG9wdXBfZDJhZTA5ODk5MDBlNGQwNWFiMDQyMWFjMmQ2YjMzZjMgPSBMLnBvcHVwKHsibWF4V2lkdGgiOiAiMTAwJSJ9KTsKCiAgICAgICAgCiAgICAgICAgICAgIHZhciBodG1sXzJjY2I2NzNmNDQyNzQ0ZWJiOWM3MzA3OTEwMzZjNGQ0ID0gJChgPGRpdiBpZD0iaHRtbF8yY2NiNjczZjQ0Mjc0NGViYjljNzMwNzkxMDM2YzRkNCIgc3R5bGU9IndpZHRoOiAxMDAuMCU7IGhlaWdodDogMTAwLjAlOyI+VWJpY2FjaW9uOiBMYXMgVmVnYXM8L2Rpdj5gKVswXTsKICAgICAgICAgICAgcG9wdXBfZDJhZTA5ODk5MDBlNGQwNWFiMDQyMWFjMmQ2YjMzZjMuc2V0Q29udGVudChodG1sXzJjY2I2NzNmNDQyNzQ0ZWJiOWM3MzA3OTEwMzZjNGQ0KTsKICAgICAgICAKCiAgICAgICAgbWFya2VyX2EwYTQyMTJjMzg3NDRhYjQ5NWRmNjQ3ODI2OTUyNDE1LmJpbmRQb3B1cChwb3B1cF9kMmFlMDk4OTkwMGU0ZDA1YWIwNDIxYWMyZDZiMzNmMykKICAgICAgICA7CgogICAgICAgIAogICAgCiAgICAKICAgICAgICAgICAgbWFya2VyX2EwYTQyMTJjMzg3NDRhYjQ5NWRmNjQ3ODI2OTUyNDE1LmJpbmRUb29sdGlwKAogICAgICAgICAgICAgICAgYDxkaXY+CiAgICAgICAgICAgICAgICAgICAgIDQKICAgICAgICAgICAgICAgICA8L2Rpdj5gLAogICAgICAgICAgICAgICAgeyJzdGlja3kiOiB0cnVlfQogICAgICAgICAgICApOwogICAgICAgIAogICAgCiAgICAgICAgICAgIHZhciBtYXJrZXJfYjdhY2RlOWNmODgzNDJlZThjNjAyN2Y4ZGExOTRiZDUgPSBMLm1hcmtlcigKICAgICAgICAgICAgICAgIFszNS42ODI4Mzg3LCAxMzkuNzU5NDU0OV0sCiAgICAgICAgICAgICAgICB7fQogICAgICAgICAgICApLmFkZFRvKG1hcF80NGViOTJhMGQzNGQ0ZWIyOWFlODNkODcxNDQ4ZWM2MCk7CiAgICAgICAgCiAgICAKICAgICAgICAgICAgdmFyIGljb25fNzNmNjgwYzdkZjYxNGI5Yzk0YWMyMGRjODJjOWI0NjEgPSBMLkF3ZXNvbWVNYXJrZXJzLmljb24oCiAgICAgICAgICAgICAgICB7ImV4dHJhQ2xhc3NlcyI6ICJmYS1yb3RhdGUtMCIsICJpY29uIjogImNsb3VkIiwgImljb25Db2xvciI6ICJ3aGl0ZSIsICJtYXJrZXJDb2xvciI6ICJyZWQiLCAicHJlZml4IjogImdseXBoaWNvbiJ9CiAgICAgICAgICAgICk7CiAgICAgICAgICAgIG1hcmtlcl9iN2FjZGU5Y2Y4ODM0MmVlOGM2MDI3ZjhkYTE5NGJkNS5zZXRJY29uKGljb25fNzNmNjgwYzdkZjYxNGI5Yzk0YWMyMGRjODJjOWI0NjEpOwogICAgICAgIAogICAgCiAgICAgICAgdmFyIHBvcHVwXzFkMzVmOTU2MGJlOTQyNDdhOTA4MzkyNTgzMWFmMjdkID0gTC5wb3B1cCh7Im1heFdpZHRoIjogIjEwMCUifSk7CgogICAgICAgIAogICAgICAgICAgICB2YXIgaHRtbF82NTNkNTAzNWY5NGU0ODZhODM3M2UzNGI5YzI1ZDUyNyA9ICQoYDxkaXYgaWQ9Imh0bWxfNjUzZDUwMzVmOTRlNDg2YTgzNzNlMzRiOWMyNWQ1MjciIHN0eWxlPSJ3aWR0aDogMTAwLjAlOyBoZWlnaHQ6IDEwMC4wJTsiPlViaWNhY2lvbjogVG9reW88L2Rpdj5gKVswXTsKICAgICAgICAgICAgcG9wdXBfMWQzNWY5NTYwYmU5NDI0N2E5MDgzOTI1ODMxYWYyN2Quc2V0Q29udGVudChodG1sXzY1M2Q1MDM1Zjk0ZTQ4NmE4MzczZTM0YjljMjVkNTI3KTsKICAgICAgICAKCiAgICAgICAgbWFya2VyX2I3YWNkZTljZjg4MzQyZWU4YzYwMjdmOGRhMTk0YmQ1LmJpbmRQb3B1cChwb3B1cF8xZDM1Zjk1NjBiZTk0MjQ3YTkwODM5MjU4MzFhZjI3ZCkKICAgICAgICA7CgogICAgICAgIAogICAgCiAgICAKICAgICAgICAgICAgbWFya2VyX2I3YWNkZTljZjg4MzQyZWU4YzYwMjdmOGRhMTk0YmQ1LmJpbmRUb29sdGlwKAogICAgICAgICAgICAgICAgYDxkaXY+CiAgICAgICAgICAgICAgICAgICAgIDUKICAgICAgICAgICAgICAgICA8L2Rpdj5gLAogICAgICAgICAgICAgICAgeyJzdGlja3kiOiB0cnVlfQogICAgICAgICAgICApOwogICAgICAgIAogICAgCiAgICAgICAgICAgIHZhciBtYXJrZXJfNzJkMzJhZmU3YjIzNDVkMzljODM1ZjM2NDczNDg4MGEgPSBMLm1hcmtlcigKICAgICAgICAgICAgICAgIFstMzQuNjA3NTY4MiwgLTU4LjQzNzA4OTRdLAogICAgICAgICAgICAgICAge30KICAgICAgICAgICAgKS5hZGRUbyhtYXBfNDRlYjkyYTBkMzRkNGViMjlhZTgzZDg3MTQ0OGVjNjApOwogICAgICAgIAogICAgCiAgICAgICAgICAgIHZhciBpY29uX2Q3YTY3OThkY2Q1MTRiZWJiYTdmOWM0OTAwNGVlYjM5ID0gTC5Bd2Vzb21lTWFya2Vycy5pY29uKAogICAgICAgICAgICAgICAgeyJleHRyYUNsYXNzZXMiOiAiZmEtcm90YXRlLTAiLCAiaWNvbiI6ICJjbG91ZCIsICJpY29uQ29sb3IiOiAid2hpdGUiLCAibWFya2VyQ29sb3IiOiAicmVkIiwgInByZWZpeCI6ICJnbHlwaGljb24ifQogICAgICAgICAgICApOwogICAgICAgICAgICBtYXJrZXJfNzJkMzJhZmU3YjIzNDVkMzljODM1ZjM2NDczNDg4MGEuc2V0SWNvbihpY29uX2Q3YTY3OThkY2Q1MTRiZWJiYTdmOWM0OTAwNGVlYjM5KTsKICAgICAgICAKICAgIAogICAgICAgIHZhciBwb3B1cF8zNzkxZmI3ODE1YTM0ZDJhYWM0ZDZmZjU0ZDE0MGVhMyA9IEwucG9wdXAoeyJtYXhXaWR0aCI6ICIxMDAlIn0pOwoKICAgICAgICAKICAgICAgICAgICAgdmFyIGh0bWxfYjA0ZTc3MThhYjgzNGViNTgwZTA1YjQ2Y2ViMWYyMmYgPSAkKGA8ZGl2IGlkPSJodG1sX2IwNGU3NzE4YWI4MzRlYjU4MGUwNWI0NmNlYjFmMjJmIiBzdHlsZT0id2lkdGg6IDEwMC4wJTsgaGVpZ2h0OiAxMDAuMCU7Ij5VYmljYWNpb246IEJ1ZW5vcyBBaXJlczwvZGl2PmApWzBdOwogICAgICAgICAgICBwb3B1cF8zNzkxZmI3ODE1YTM0ZDJhYWM0ZDZmZjU0ZDE0MGVhMy5zZXRDb250ZW50KGh0bWxfYjA0ZTc3MThhYjgzNGViNTgwZTA1YjQ2Y2ViMWYyMmYpOwogICAgICAgIAoKICAgICAgICBtYXJrZXJfNzJkMzJhZmU3YjIzNDVkMzljODM1ZjM2NDczNDg4MGEuYmluZFBvcHVwKHBvcHVwXzM3OTFmYjc4MTVhMzRkMmFhYzRkNmZmNTRkMTQwZWEzKQogICAgICAgIDsKCiAgICAgICAgCiAgICAKICAgIAogICAgICAgICAgICBtYXJrZXJfNzJkMzJhZmU3YjIzNDVkMzljODM1ZjM2NDczNDg4MGEuYmluZFRvb2x0aXAoCiAgICAgICAgICAgICAgICBgPGRpdj4KICAgICAgICAgICAgICAgICAgICAgNgogICAgICAgICAgICAgICAgIDwvZGl2PmAsCiAgICAgICAgICAgICAgICB7InN0aWNreSI6IHRydWV9CiAgICAgICAgICAgICk7CiAgICAgICAgCiAgICAKICAgICAgICAgICAgdmFyIG1hcmtlcl81ODQwYmRhZjY4Yjc0M2JkODc4MjQxNjg3ZDcyNGYyZiA9IEwubWFya2VyKAogICAgICAgICAgICAgICAgWy0yMy41NTA2NTA3LCAtNDYuNjMzMzgyNF0sCiAgICAgICAgICAgICAgICB7fQogICAgICAgICAgICApLmFkZFRvKG1hcF80NGViOTJhMGQzNGQ0ZWIyOWFlODNkODcxNDQ4ZWM2MCk7CiAgICAgICAgCiAgICAKICAgICAgICAgICAgdmFyIGljb25fNjI4MDcxM2E4ZDMxNDhlOGE4ZWJjNzFlZGI2MWFjOWYgPSBMLkF3ZXNvbWVNYXJrZXJzLmljb24oCiAgICAgICAgICAgICAgICB7ImV4dHJhQ2xhc3NlcyI6ICJmYS1yb3RhdGUtMCIsICJpY29uIjogImNsb3VkIiwgImljb25Db2xvciI6ICJ3aGl0ZSIsICJtYXJrZXJDb2xvciI6ICJyZWQiLCAicHJlZml4IjogImdseXBoaWNvbiJ9CiAgICAgICAgICAgICk7CiAgICAgICAgICAgIG1hcmtlcl81ODQwYmRhZjY4Yjc0M2JkODc4MjQxNjg3ZDcyNGYyZi5zZXRJY29uKGljb25fNjI4MDcxM2E4ZDMxNDhlOGE4ZWJjNzFlZGI2MWFjOWYpOwogICAgICAgIAogICAgCiAgICAgICAgdmFyIHBvcHVwXzAwNTcwMzAzYzUyMTRkNWViMGE3NTBlOWE3MzA4MzJjID0gTC5wb3B1cCh7Im1heFdpZHRoIjogIjEwMCUifSk7CgogICAgICAgIAogICAgICAgICAgICB2YXIgaHRtbF8yNzU3NDI0ZGNmNGE0YmVmYmEyOTBhYzY5NTRiNDZjNiA9ICQoYDxkaXYgaWQ9Imh0bWxfMjc1NzQyNGRjZjRhNGJlZmJhMjkwYWM2OTU0YjQ2YzYiIHN0eWxlPSJ3aWR0aDogMTAwLjAlOyBoZWlnaHQ6IDEwMC4wJTsiPlViaWNhY2lvbjogU2FuIFBhYmxvPC9kaXY+YClbMF07CiAgICAgICAgICAgIHBvcHVwXzAwNTcwMzAzYzUyMTRkNWViMGE3NTBlOWE3MzA4MzJjLnNldENvbnRlbnQoaHRtbF8yNzU3NDI0ZGNmNGE0YmVmYmEyOTBhYzY5NTRiNDZjNik7CiAgICAgICAgCgogICAgICAgIG1hcmtlcl81ODQwYmRhZjY4Yjc0M2JkODc4MjQxNjg3ZDcyNGYyZi5iaW5kUG9wdXAocG9wdXBfMDA1NzAzMDNjNTIxNGQ1ZWIwYTc1MGU5YTczMDgzMmMpCiAgICAgICAgOwoKICAgICAgICAKICAgIAogICAgCiAgICAgICAgICAgIG1hcmtlcl81ODQwYmRhZjY4Yjc0M2JkODc4MjQxNjg3ZDcyNGYyZi5iaW5kVG9vbHRpcCgKICAgICAgICAgICAgICAgIGA8ZGl2PgogICAgICAgICAgICAgICAgICAgICA3CiAgICAgICAgICAgICAgICAgPC9kaXY+YCwKICAgICAgICAgICAgICAgIHsic3RpY2t5IjogdHJ1ZX0KICAgICAgICAgICAgKTsKICAgICAgICAKICAgIAogICAgICAgICAgICB2YXIgbWFya2VyX2E3ZjIxMjM3ZmQ4NTRkYzM5NTI5Y2RmN2Q3NzEzNTE0ID0gTC5tYXJrZXIoCiAgICAgICAgICAgICAgICBbMzIuNTAxMDE4OCwgLTExNi45NjQ2NjI5XSwKICAgICAgICAgICAgICAgIHt9CiAgICAgICAgICAgICkuYWRkVG8obWFwXzQ0ZWI5MmEwZDM0ZDRlYjI5YWU4M2Q4NzE0NDhlYzYwKTsKICAgICAgICAKICAgIAogICAgICAgICAgICB2YXIgaWNvbl9jNzViM2Y4ZDgyNTg0MTc4YTRmMmJjYmZmYjRiYTdlZiA9IEwuQXdlc29tZU1hcmtlcnMuaWNvbigKICAgICAgICAgICAgICAgIHsiZXh0cmFDbGFzc2VzIjogImZhLXJvdGF0ZS0wIiwgImljb24iOiAiY2xvdWQiLCAiaWNvbkNvbG9yIjogIndoaXRlIiwgIm1hcmtlckNvbG9yIjogInJlZCIsICJwcmVmaXgiOiAiZ2x5cGhpY29uIn0KICAgICAgICAgICAgKTsKICAgICAgICAgICAgbWFya2VyX2E3ZjIxMjM3ZmQ4NTRkYzM5NTI5Y2RmN2Q3NzEzNTE0LnNldEljb24oaWNvbl9jNzViM2Y4ZDgyNTg0MTc4YTRmMmJjYmZmYjRiYTdlZik7CiAgICAgICAgCiAgICAKICAgICAgICB2YXIgcG9wdXBfZDc5YmQ5NDMxMTBjNDVkMThhYWY3ZDRhY2EyM2I3NjggPSBMLnBvcHVwKHsibWF4V2lkdGgiOiAiMTAwJSJ9KTsKCiAgICAgICAgCiAgICAgICAgICAgIHZhciBodG1sXzczN2RlMzBkY2JiOTRiNjNiNDc3YzRhMmUzMzViNzA0ID0gJChgPGRpdiBpZD0iaHRtbF83MzdkZTMwZGNiYjk0YjYzYjQ3N2M0YTJlMzM1YjcwNCIgc3R5bGU9IndpZHRoOiAxMDAuMCU7IGhlaWdodDogMTAwLjAlOyI+VWJpY2FjaW9uOiBUaWp1YW5hPC9kaXY+YClbMF07CiAgICAgICAgICAgIHBvcHVwX2Q3OWJkOTQzMTEwYzQ1ZDE4YWFmN2Q0YWNhMjNiNzY4LnNldENvbnRlbnQoaHRtbF83MzdkZTMwZGNiYjk0YjYzYjQ3N2M0YTJlMzM1YjcwNCk7CiAgICAgICAgCgogICAgICAgIG1hcmtlcl9hN2YyMTIzN2ZkODU0ZGMzOTUyOWNkZjdkNzcxMzUxNC5iaW5kUG9wdXAocG9wdXBfZDc5YmQ5NDMxMTBjNDVkMThhYWY3ZDRhY2EyM2I3NjgpCiAgICAgICAgOwoKICAgICAgICAKICAgIAogICAgCiAgICAgICAgICAgIG1hcmtlcl9hN2YyMTIzN2ZkODU0ZGMzOTUyOWNkZjdkNzcxMzUxNC5iaW5kVG9vbHRpcCgKICAgICAgICAgICAgICAgIGA8ZGl2PgogICAgICAgICAgICAgICAgICAgICA4CiAgICAgICAgICAgICAgICAgPC9kaXY+YCwKICAgICAgICAgICAgICAgIHsic3RpY2t5IjogdHJ1ZX0KICAgICAgICAgICAgKTsKICAgICAgICAKICAgIAogICAgICAgICAgICB2YXIgbWFya2VyX2VkYjIwZjgyNWFiNTQ3ZTlhODJlYmFkNWYzNDVkZTE5ID0gTC5tYXJrZXIoCiAgICAgICAgICAgICAgICBbNi4yNDQzMzgyLCAtNzUuNTczNTUzXSwKICAgICAgICAgICAgICAgIHt9CiAgICAgICAgICAgICkuYWRkVG8obWFwXzQ0ZWI5MmEwZDM0ZDRlYjI5YWU4M2Q4NzE0NDhlYzYwKTsKICAgICAgICAKICAgIAogICAgICAgICAgICB2YXIgaWNvbl8xMDMwMzcxMzA4OTk0MGZhYjQ5ZDQ4YWZjZTQ1ODU2ZiA9IEwuQXdlc29tZU1hcmtlcnMuaWNvbigKICAgICAgICAgICAgICAgIHsiZXh0cmFDbGFzc2VzIjogImZhLXJvdGF0ZS0wIiwgImljb24iOiAiY2xvdWQiLCAiaWNvbkNvbG9yIjogIndoaXRlIiwgIm1hcmtlckNvbG9yIjogInJlZCIsICJwcmVmaXgiOiAiZ2x5cGhpY29uIn0KICAgICAgICAgICAgKTsKICAgICAgICAgICAgbWFya2VyX2VkYjIwZjgyNWFiNTQ3ZTlhODJlYmFkNWYzNDVkZTE5LnNldEljb24oaWNvbl8xMDMwMzcxMzA4OTk0MGZhYjQ5ZDQ4YWZjZTQ1ODU2Zik7CiAgICAgICAgCiAgICAKICAgICAgICB2YXIgcG9wdXBfOGE3MWQyMTU0MTE1NDM2NmJmNTdkYzJmZTk0NWRlNzUgPSBMLnBvcHVwKHsibWF4V2lkdGgiOiAiMTAwJSJ9KTsKCiAgICAgICAgCiAgICAgICAgICAgIHZhciBodG1sXzMzYzlhNDU1MTdlZDQ5NmVhNDIxYjU4OGY2ZmQwMzU0ID0gJChgPGRpdiBpZD0iaHRtbF8zM2M5YTQ1NTE3ZWQ0OTZlYTQyMWI1ODhmNmZkMDM1NCIgc3R5bGU9IndpZHRoOiAxMDAuMCU7IGhlaWdodDogMTAwLjAlOyI+VWJpY2FjaW9uOiBNZWRlbGxpbjwvZGl2PmApWzBdOwogICAgICAgICAgICBwb3B1cF84YTcxZDIxNTQxMTU0MzY2YmY1N2RjMmZlOTQ1ZGU3NS5zZXRDb250ZW50KGh0bWxfMzNjOWE0NTUxN2VkNDk2ZWE0MjFiNTg4ZjZmZDAzNTQpOwogICAgICAgIAoKICAgICAgICBtYXJrZXJfZWRiMjBmODI1YWI1NDdlOWE4MmViYWQ1ZjM0NWRlMTkuYmluZFBvcHVwKHBvcHVwXzhhNzFkMjE1NDExNTQzNjZiZjU3ZGMyZmU5NDVkZTc1KQogICAgICAgIDsKCiAgICAgICAgCiAgICAKICAgIAogICAgICAgICAgICBtYXJrZXJfZWRiMjBmODI1YWI1NDdlOWE4MmViYWQ1ZjM0NWRlMTkuYmluZFRvb2x0aXAoCiAgICAgICAgICAgICAgICBgPGRpdj4KICAgICAgICAgICAgICAgICAgICAgOQogICAgICAgICAgICAgICAgIDwvZGl2PmAsCiAgICAgICAgICAgICAgICB7InN0aWNreSI6IHRydWV9CiAgICAgICAgICAgICk7CiAgICAgICAgCiAgICAKICAgICAgICAgICAgdmFyIG1hcmtlcl80N2Y3ZTM1YjYzYjc0ZmU5ODhhMDZmODJiYWEwYzNkNCA9IEwubWFya2VyKAogICAgICAgICAgICAgICAgWzMxLjgxNjAzODEsIC05OS41MTIwOTg2XSwKICAgICAgICAgICAgICAgIHt9CiAgICAgICAgICAgICkuYWRkVG8obWFwXzQ0ZWI5MmEwZDM0ZDRlYjI5YWU4M2Q4NzE0NDhlYzYwKTsKICAgICAgICAKICAgIAogICAgICAgICAgICB2YXIgaWNvbl84YzhhYTJlODVlY2I0ZGQ1YmJjMWI4MjVjMGZiYTBjMyA9IEwuQXdlc29tZU1hcmtlcnMuaWNvbigKICAgICAgICAgICAgICAgIHsiZXh0cmFDbGFzc2VzIjogImZhLXJvdGF0ZS0wIiwgImljb24iOiAiY2xvdWQiLCAiaWNvbkNvbG9yIjogIndoaXRlIiwgIm1hcmtlckNvbG9yIjogInJlZCIsICJwcmVmaXgiOiAiZ2x5cGhpY29uIn0KICAgICAgICAgICAgKTsKICAgICAgICAgICAgbWFya2VyXzQ3ZjdlMzViNjNiNzRmZTk4OGEwNmY4MmJhYTBjM2Q0LnNldEljb24oaWNvbl84YzhhYTJlODVlY2I0ZGQ1YmJjMWI4MjVjMGZiYTBjMyk7CiAgICAgICAgCiAgICAKICAgICAgICB2YXIgcG9wdXBfYTc1YjgxYWYzMmZjNGY4Njk0YzIxYzMxY2JkYTFiMTMgPSBMLnBvcHVwKHsibWF4V2lkdGgiOiAiMTAwJSJ9KTsKCiAgICAgICAgCiAgICAgICAgICAgIHZhciBodG1sX2RiYjQ5YTgyZGUwNzQwMGZhYjY4ZmIyNGMxZjU3NWU2ID0gJChgPGRpdiBpZD0iaHRtbF9kYmI0OWE4MmRlMDc0MDBmYWI2OGZiMjRjMWY1NzVlNiIgc3R5bGU9IndpZHRoOiAxMDAuMCU7IGhlaWdodDogMTAwLjAlOyI+VWJpY2FjaW9uOiBUZXhhczwvZGl2PmApWzBdOwogICAgICAgICAgICBwb3B1cF9hNzViODFhZjMyZmM0Zjg2OTRjMjFjMzFjYmRhMWIxMy5zZXRDb250ZW50KGh0bWxfZGJiNDlhODJkZTA3NDAwZmFiNjhmYjI0YzFmNTc1ZTYpOwogICAgICAgIAoKICAgICAgICBtYXJrZXJfNDdmN2UzNWI2M2I3NGZlOTg4YTA2ZjgyYmFhMGMzZDQuYmluZFBvcHVwKHBvcHVwX2E3NWI4MWFmMzJmYzRmODY5NGMyMWMzMWNiZGExYjEzKQogICAgICAgIDsKCiAgICAgICAgCiAgICAKICAgIAogICAgICAgICAgICBtYXJrZXJfNDdmN2UzNWI2M2I3NGZlOTg4YTA2ZjgyYmFhMGMzZDQuYmluZFRvb2x0aXAoCiAgICAgICAgICAgICAgICBgPGRpdj4KICAgICAgICAgICAgICAgICAgICAgMTAKICAgICAgICAgICAgICAgICA8L2Rpdj5gLAogICAgICAgICAgICAgICAgeyJzdGlja3kiOiB0cnVlfQogICAgICAgICAgICApOwogICAgICAgIAogICAgCiAgICAgICAgICAgIHZhciBtYXJrZXJfZGY1MzIyNWZhZGIwNDFkNzgzMmVhMmNlMTZlNTk4MDEgPSBMLm1hcmtlcigKICAgICAgICAgICAgICAgIFsyOS45NDk5MzIzLCAtOTAuMDcwMTE1Nl0sCiAgICAgICAgICAgICAgICB7fQogICAgICAgICAgICApLmFkZFRvKG1hcF80NGViOTJhMGQzNGQ0ZWIyOWFlODNkODcxNDQ4ZWM2MCk7CiAgICAgICAgCiAgICAKICAgICAgICAgICAgdmFyIGljb25fYTEwZDhkYjczZTk5NGU3NmFlN2NlY2ZhMWY1M2RkMGIgPSBMLkF3ZXNvbWVNYXJrZXJzLmljb24oCiAgICAgICAgICAgICAgICB7ImV4dHJhQ2xhc3NlcyI6ICJmYS1yb3RhdGUtMCIsICJpY29uIjogImNsb3VkIiwgImljb25Db2xvciI6ICJ3aGl0ZSIsICJtYXJrZXJDb2xvciI6ICJyZWQiLCAicHJlZml4IjogImdseXBoaWNvbiJ9CiAgICAgICAgICAgICk7CiAgICAgICAgICAgIG1hcmtlcl9kZjUzMjI1ZmFkYjA0MWQ3ODMyZWEyY2UxNmU1OTgwMS5zZXRJY29uKGljb25fYTEwZDhkYjczZTk5NGU3NmFlN2NlY2ZhMWY1M2RkMGIpOwogICAgICAgIAogICAgCiAgICAgICAgdmFyIHBvcHVwXzk3ZDQwMWFiYjc3NDQzMmZiMTBlNGM3NDU3YTFhZTIwID0gTC5wb3B1cCh7Im1heFdpZHRoIjogIjEwMCUifSk7CgogICAgICAgIAogICAgICAgICAgICB2YXIgaHRtbF8wNDViOGRlYTYwMDg0MzY1YjM1NGE5OTUxODY4YmZjZSA9ICQoYDxkaXYgaWQ9Imh0bWxfMDQ1YjhkZWE2MDA4NDM2NWIzNTRhOTk1MTg2OGJmY2UiIHN0eWxlPSJ3aWR0aDogMTAwLjAlOyBoZWlnaHQ6IDEwMC4wJTsiPlViaWNhY2lvbjogTnVldmEgT3JsZWFuczwvZGl2PmApWzBdOwogICAgICAgICAgICBwb3B1cF85N2Q0MDFhYmI3NzQ0MzJmYjEwZTRjNzQ1N2ExYWUyMC5zZXRDb250ZW50KGh0bWxfMDQ1YjhkZWE2MDA4NDM2NWIzNTRhOTk1MTg2OGJmY2UpOwogICAgICAgIAoKICAgICAgICBtYXJrZXJfZGY1MzIyNWZhZGIwNDFkNzgzMmVhMmNlMTZlNTk4MDEuYmluZFBvcHVwKHBvcHVwXzk3ZDQwMWFiYjc3NDQzMmZiMTBlNGM3NDU3YTFhZTIwKQogICAgICAgIDsKCiAgICAgICAgCiAgICAKICAgIAogICAgICAgICAgICBtYXJrZXJfZGY1MzIyNWZhZGIwNDFkNzgzMmVhMmNlMTZlNTk4MDEuYmluZFRvb2x0aXAoCiAgICAgICAgICAgICAgICBgPGRpdj4KICAgICAgICAgICAgICAgICAgICAgMTEKICAgICAgICAgICAgICAgICA8L2Rpdj5gLAogICAgICAgICAgICAgICAgeyJzdGlja3kiOiB0cnVlfQogICAgICAgICAgICApOwogICAgICAgIAogICAgCiAgICAgICAgICAgIHZhciBwb2x5X2xpbmVfYmI4MWViNzdhZjhhNGJhMGJjODIyZWY1OGE2OGYxZmIgPSBMLnBvbHlsaW5lKAogICAgICAgICAgICAgICAgW1s1MS41MDczMjE5LCAtMC4xMjc2NDc0XSwgWzQ4Ljg1NjY5NjksIDIuMzUxNDYxNl0sIFs1Mi4zNzQ1NDAzMDAwMDAwMSwgNC44OTc5NzU1MDU2MTc5NzddLCBbMzYuMTY3MjU1OSwgLTExNS4xNDg1MTYzXSwgWzM1LjY4MjgzODcsIDEzOS43NTk0NTQ5XSwgWy0zNC42MDc1NjgyLCAtNTguNDM3MDg5NF0sIFstMjMuNTUwNjUwNywgLTQ2LjYzMzM4MjRdLCBbMzIuNTAxMDE4OCwgLTExNi45NjQ2NjI5XSwgWzYuMjQ0MzM4MiwgLTc1LjU3MzU1M10sIFszMS44MTYwMzgxLCAtOTkuNTEyMDk4Nl0sIFsyOS45NDk5MzIzLCAtOTAuMDcwMTE1Nl1dLAogICAgICAgICAgICAgICAgeyJidWJibGluZ01vdXNlRXZlbnRzIjogdHJ1ZSwgImNvbG9yIjogIiMzMzg4ZmYiLCAiZGFzaEFycmF5IjogbnVsbCwgImRhc2hPZmZzZXQiOiBudWxsLCAiZmlsbCI6IGZhbHNlLCAiZmlsbENvbG9yIjogIiMzMzg4ZmYiLCAiZmlsbE9wYWNpdHkiOiAwLjIsICJmaWxsUnVsZSI6ICJldmVub2RkIiwgImxpbmVDYXAiOiAicm91bmQiLCAibGluZUpvaW4iOiAicm91bmQiLCAibm9DbGlwIjogZmFsc2UsICJvcGFjaXR5IjogMS4wLCAic21vb3RoRmFjdG9yIjogMS4wLCAic3Ryb2tlIjogdHJ1ZSwgIndlaWdodCI6IDN9CiAgICAgICAgICAgICkuYWRkVG8obWFwXzQ0ZWI5MmEwZDM0ZDRlYjI5YWU4M2Q4NzE0NDhlYzYwKTsKICAgICAgICAKPC9zY3JpcHQ+ onload=\"this.contentDocument.open();this.contentDocument.write(atob(this.getAttribute('data-html')));this.contentDocument.close();\" allowfullscreen webkitallowfullscreen mozallowfullscreen></iframe></div></div>"
      ],
      "text/plain": [
       "<folium.folium.Map at 0x7f5531dcd4a8>"
      ]
     },
     "metadata": {},
     "output_type": "display_data"
    }
   ],
   "source": [
    "import PySimpleGUI as sg\n",
    "\n",
    "newick = ''\n",
    "fasta = ''\n",
    "lista_de_nombre_de_ubicaciones = [\"Londres\", \"Paris\", \"Amsterdam\", \"Las Vegas\", \"Tokyo\", \"Buenos Aires\", \"San Pablo\", \"Tijuana\", \"Medellin\", \"Texas\", \"Nueva Orleans\"]\n",
    "\n",
    "layoutSubirArchivo = [  [sg.Text('Filename')],\n",
    "            [sg.Input(), sg.FileBrowse()], \n",
    "            [sg.OK(), sg.Cancel()]]\n",
    "\n",
    "sg.theme('DarkAmber')   # Add a touch of color\n",
    "# All the stuff inside your window.\n",
    "layout = [  [sg.Text('MENU Pongamosle un lindo mensaje')],\n",
    "            [sg.Button('Subir Fasta')],\n",
    "            [sg.Text('O ingrese manualmente la secuencia.')],\n",
    "            [sg.InputText()],\n",
    "            [sg.Button('Cargar')],\n",
    "            [sg.Button('Alinear Secuencias')],\n",
    "            [sg.Button('Armar Arbol')],\n",
    "            [sg.Button('Mostrar Mapa')],\n",
    "         ]\n",
    "\n",
    "window = sg.Window('Trabajo Final Bioinformatica', layout)\n",
    "while True:\n",
    "    event, values = window.read()\n",
    "    if event == sg.WIN_CLOSED: \n",
    "        break\n",
    "    elif event == 'Subir Fasta':\n",
    "        event, values = sg.Window('Seleccione un archivo tipo Fasta', layoutSubirArchivo).read(close=True)\n",
    "    elif event == 'Alinear Secuencias':\n",
    "        alineacion.alinear()\n",
    "    elif event == 'Armar Arbol':\n",
    "        arbol.armarArbol()\n",
    "    elif event == 'Mostrar Mapa':\n",
    "        mapa.armar_mapa(lista_de_nombre_de_ubicaciones).render_mapa()\n",
    "\n",
    "window.close()\n",
    "\n"
   ]
  },
  {
   "cell_type": "code",
   "execution_count": null,
   "metadata": {},
   "outputs": [],
   "source": []
  }
 ],
 "metadata": {
  "kernelspec": {
   "display_name": "Python 3",
   "language": "python",
   "name": "python3"
  },
  "language_info": {
   "codemirror_mode": {
    "name": "ipython",
    "version": 3
   },
   "file_extension": ".py",
   "mimetype": "text/x-python",
   "name": "python",
   "nbconvert_exporter": "python",
   "pygments_lexer": "ipython3",
   "version": "3.7.3"
  }
 },
 "nbformat": 4,
 "nbformat_minor": 4
}
