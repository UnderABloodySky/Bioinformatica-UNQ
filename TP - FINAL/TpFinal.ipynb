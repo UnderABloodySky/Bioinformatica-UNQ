{
 "cells": [
  {
   "cell_type": "code",
   "execution_count": 1,
   "metadata": {},
   "outputs": [
    {
     "name": "stdout",
     "output_type": "stream",
     "text": [
      "Requirement already satisfied: PySimpleGUI in /home/chesire/anaconda3/lib/python3.7/site-packages (4.22.0)\r\n"
     ]
    }
   ],
   "source": [
    "#Interfaz\n",
    "!pip install PySimpleGUI"
   ]
  },
  {
   "cell_type": "code",
   "execution_count": 2,
   "metadata": {},
   "outputs": [],
   "source": [
    "#Mock arbol\n",
    "class Arbol:\n",
    "    pass\n",
    "\n",
    "class Alineador:\n",
    "    pass\n",
    "\n",
    "arbol = Arbol()\n",
    "Alineacion = Alineador()"
   ]
  },
  {
   "cell_type": "code",
   "execution_count": 3,
   "metadata": {},
   "outputs": [
    {
     "name": "stdout",
     "output_type": "stream",
     "text": [
      "Requirement already satisfied: geopy in /home/chesire/anaconda3/lib/python3.7/site-packages (2.0.0)\n",
      "Requirement already satisfied: geographiclib<2,>=1.49 in /home/chesire/anaconda3/lib/python3.7/site-packages (from geopy) (1.50)\n",
      "Requirement already satisfied: folium in /home/chesire/anaconda3/lib/python3.7/site-packages (0.11.0)\n",
      "Requirement already satisfied: numpy in /home/chesire/anaconda3/lib/python3.7/site-packages (from folium) (1.16.2)\n",
      "Requirement already satisfied: requests in /home/chesire/anaconda3/lib/python3.7/site-packages (from folium) (2.21.0)\n",
      "Requirement already satisfied: branca>=0.3.0 in /home/chesire/anaconda3/lib/python3.7/site-packages (from folium) (0.4.1)\n",
      "Requirement already satisfied: jinja2>=2.9 in /home/chesire/anaconda3/lib/python3.7/site-packages (from folium) (2.10)\n",
      "Requirement already satisfied: urllib3<1.25,>=1.21.1 in /home/chesire/anaconda3/lib/python3.7/site-packages (from requests->folium) (1.24.1)\n",
      "Requirement already satisfied: certifi>=2017.4.17 in /home/chesire/anaconda3/lib/python3.7/site-packages (from requests->folium) (2020.4.5.2)\n",
      "Requirement already satisfied: idna<2.9,>=2.5 in /home/chesire/anaconda3/lib/python3.7/site-packages (from requests->folium) (2.8)\n",
      "Requirement already satisfied: chardet<3.1.0,>=3.0.2 in /home/chesire/anaconda3/lib/python3.7/site-packages (from requests->folium) (3.0.4)\n",
      "Requirement already satisfied: MarkupSafe>=0.23 in /home/chesire/anaconda3/lib/python3.7/site-packages (from jinja2>=2.9->folium) (1.1.1)\n"
     ]
    }
   ],
   "source": [
    "#Mapa - libreria\n",
    "!pip install geopy\n",
    "!pip install folium\n",
    "\n",
    "from geopy.geocoders import Nominatim\n",
    "geolocator = Nominatim(user_agent=\"TP FINAL Bioinformatica\")"
   ]
  },
  {
   "cell_type": "code",
   "execution_count": 4,
   "metadata": {},
   "outputs": [],
   "source": [
    "#Mapa - Modelo\n",
    "import folium\n",
    "\n",
    "class Mapa:\n",
    "        \n",
    "    def mostrarMapa(self, nombres_de_ubicaciones):\n",
    "        points = []\n",
    "        my_map = folium.Map(\n",
    "            zoom_start=8\n",
    "        )\n",
    "        for nombre_ubicacion in nombres_de_ubicaciones:\n",
    "            ubicacion = geolocator.geocode(nombre_ubicacion)\n",
    "            point = (ubicacion.latitude, ubicacion.longitude)\n",
    "            points.append(point)\n",
    "            folium.Marker(\n",
    "              location=[point[0], point[1]],\n",
    "              popup='',\n",
    "              icon=folium.Icon(color='red', icon='cloud')\n",
    "            ).add_to(my_map)\n",
    "        folium.PolyLine(points).add_to(my_map)\n",
    "        display(my_map)\n",
    "\n",
    "mapa = Mapa()"
   ]
  },
  {
   "cell_type": "code",
   "execution_count": null,
   "metadata": {},
   "outputs": [
    {
     "data": {
      "text/html": [
       "<div style=\"width:100%;\"><div style=\"position:relative;width:100%;height:0;padding-bottom:60%;\"><span style=\"color:#565656\">Make this Notebook Trusted to load map: File -> Trust Notebook</span><iframe src=\"about:blank\" style=\"position:absolute;width:100%;height:100%;left:0;top:0;border:none !important;\" data-html=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 onload=\"this.contentDocument.open();this.contentDocument.write(atob(this.getAttribute('data-html')));this.contentDocument.close();\" allowfullscreen webkitallowfullscreen mozallowfullscreen></iframe></div></div>"
      ],
      "text/plain": [
       "<folium.folium.Map at 0x7f51e50e8358>"
      ]
     },
     "metadata": {},
     "output_type": "display_data"
    },
    {
     "name": "stdout",
     "output_type": "stream",
     "text": [
      "HOOLAAAAAAAAAAAAAAaa\n"
     ]
    }
   ],
   "source": [
    "import PySimpleGUI as sg\n",
    "\n",
    "newick = ''\n",
    "fasta = ''\n",
    "lista_de_nombre_de_ubicaciones = [\"Londres\", \"Paris\", \"Amsterdam\", \"Las Vegas\", \"Tokyo\", \"Buenos Aires\", \"San Pablo\", \"Tijuana\", \"Medellin\", \"Texas\", \"Nueva Orleans\"]\n",
    "\n",
    "layoutSubirArchivo = [  [sg.Text('Filename')],\n",
    "            [sg.Input(), sg.FileBrowse()], \n",
    "            [sg.OK(), sg.Cancel()]]\n",
    "\n",
    "sg.theme('DarkAmber')   # Add a touch of color\n",
    "# All the stuff inside your window.\n",
    "layout = [  [sg.Text('MENU Pongamosle un lindo mensaje')],\n",
    "            [sg.Button('Subir Fasta')],\n",
    "            [sg.Text('O ingrese manualmente la secuencia.')],\n",
    "            [sg.InputText()],\n",
    "            [sg.Button('Cargar')],\n",
    "            [sg.Button('Alinear Secuencias')],\n",
    "            [sg.Button('Armar Arbol')],\n",
    "            [sg.Button('Mostrar Mapa')],\n",
    "         ]\n",
    "\n",
    "window = sg.Window('Trabajo Final Bioinformatica', layout)\n",
    "while True:\n",
    "    event, values = window.read()\n",
    "    if event == sg.WIN_CLOSED: \n",
    "        break\n",
    "    elif event == 'Subir Fasta':\n",
    "        event, values = sg.Window('Seleccione un archivo tipo Fasta', layoutSubirArchivo).read(close=True)\n",
    "    elif event == 'Alinear Secuencias':\n",
    "        alineacion.alinear()\n",
    "    elif event == 'Armar Arbol':\n",
    "        arbol.armarArbol()\n",
    "    elif event == 'Mostrar Mapa':\n",
    "        mapa.mostrarMapa(lista_de_nombre_de_ubicaciones)\n",
    "\n",
    "window.close()\n",
    "\n"
   ]
  },
  {
   "cell_type": "code",
   "execution_count": null,
   "metadata": {},
   "outputs": [],
   "source": []
  }
 ],
 "metadata": {
  "kernelspec": {
   "display_name": "Python 3",
   "language": "python",
   "name": "python3"
  },
  "language_info": {
   "codemirror_mode": {
    "name": "ipython",
    "version": 3
   },
   "file_extension": ".py",
   "mimetype": "text/x-python",
   "name": "python",
   "nbconvert_exporter": "python",
   "pygments_lexer": "ipython3",
   "version": "3.7.3"
  }
 },
 "nbformat": 4,
 "nbformat_minor": 4
}
