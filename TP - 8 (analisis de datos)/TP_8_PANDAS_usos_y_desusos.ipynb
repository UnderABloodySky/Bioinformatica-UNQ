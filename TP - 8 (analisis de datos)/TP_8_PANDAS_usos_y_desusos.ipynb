{
 "cells": [
  {
   "cell_type": "markdown",
   "metadata": {
    "slideshow": {
     "slide_type": "slide"
    }
   },
   "source": [
    "**PANDAS: Un osito cariñosito!**"
   ]
  },
  {
   "cell_type": "markdown",
   "metadata": {
    "slideshow": {
     "slide_type": "slide"
    }
   },
   "source": [
    "Pandas es un paquete que nos permite trabajar con archivos de formato definido: CSV, un excel, etc. Además, Pandas proporciona estructuras de datos rápidas, flexibles y expresivas diseñadas para que trabajar con datos \"relacionales\" o \"etiquetados\" sea fácil e intuitivo. En criollo Pandas es como en excel, pero super duper!"
   ]
  },
  {
   "cell_type": "markdown",
   "metadata": {
    "collapsed": true,
    "slideshow": {
     "slide_type": "slide"
    }
   },
   "source": [
    "**Pandas soporta múltipes tipos de datos:**\n",
    "\n",
    "+ Datos tabulares con columnas de tipo heterogéneo, como en una tabla SQL o en una hoja de cálculo de Excel\n",
    "+ Datos ordenados y desordenados (no necesariamente frecuencia fija).\n",
    "+ Datos matriciales arbitrarios (homogéneamente tipados o heterogéneos) con etiquetas de fila y columna\n",
    "+ Cualquier otra forma de conjuntos de datos observacionales / estadísticos. Los datos en realidad no necesitan ser etiquetados para ser colocados en una estructura de datos de pandas"
   ]
  },
  {
   "cell_type": "markdown",
   "metadata": {
    "slideshow": {
     "slide_type": "slide"
    }
   },
   "source": [
    "**Estructuras de datos que maneja:**\n",
    "\n",
    "- Series (1-dimensional)\n",
    "- DataFrames (2-dimensional). En otras palabras, DataFrame es una estructura tabular bidimensional de datos tabulares, potencialmente heterogéneos, con ejes etiquetados (filas y columnas). Las operaciones aritméticas se alinean en las etiquetas de fila y columna. Se puede considerar como un contenedor similar a un dict para objetos Serie. La estructura de datos de los pandas primarios. Los DataFrames de pandas proporcionan las mismos tipos de usos y utilidades que los data.frame de R.\n",
    "\n",
    "Por lo tanto, la serie es la estructura de datos para una sola columna de un DataFrame, no solo conceptualmente, sino literalmente, es decir, los datos en un DataFrame se almacenan realmente en la memoria como una colección de Series."
   ]
  },
  {
   "cell_type": "markdown",
   "metadata": {
    "slideshow": {
     "slide_type": "slide"
    }
   },
   "source": [
    "**Instalación**\n",
    "\n",
    "Versiones posteriores a Python 2.6 y la distribuciones de Anaconda incluyen el módulo PIP: esta es una herramienta para instalar y gestionar paquetes de Python. Para verificar que tenemos instalado pip podemos hacer:"
   ]
  },
  {
   "cell_type": "code",
   "execution_count": 4,
   "metadata": {
    "slideshow": {
     "slide_type": "fragment"
    }
   },
   "outputs": [
    {
     "name": "stdout",
     "output_type": "stream",
     "text": [
      "Requirement already satisfied: pandas in /home/kvc4/anaconda3/lib/python3.7/site-packages (1.0.1)\n",
      "Requirement already satisfied: numpy>=1.13.3 in /home/kvc4/anaconda3/lib/python3.7/site-packages (from pandas) (1.18.1)\n",
      "Requirement already satisfied: python-dateutil>=2.6.1 in /home/kvc4/anaconda3/lib/python3.7/site-packages (from pandas) (2.8.1)\n",
      "Requirement already satisfied: pytz>=2017.2 in /home/kvc4/anaconda3/lib/python3.7/site-packages (from pandas) (2019.3)\n",
      "Requirement already satisfied: six>=1.5 in /home/kvc4/anaconda3/lib/python3.7/site-packages (from python-dateutil>=2.6.1->pandas) (1.14.0)\n"
     ]
    }
   ],
   "source": [
    "import pip\n",
    "!pip install pandas"
   ]
  },
  {
   "cell_type": "markdown",
   "metadata": {
    "slideshow": {
     "slide_type": "fragment"
    }
   },
   "source": [
    "Si no tira ningún error, etonces está felizmente instalado. En caso contrario existen diversas formas de instalación desde la consola:\n",
    "\n",
    "        conda install pip\n",
    "\n",
    "Una vez instalado pip, podemos instalar fácilemnte pandas desde la consola haciendo:\n",
    "\n",
    "        pip install pandas\n",
    "        \n",
    "Podemos checkear que está instalado haciendo:"
   ]
  },
  {
   "cell_type": "code",
   "execution_count": 5,
   "metadata": {
    "slideshow": {
     "slide_type": "fragment"
    }
   },
   "outputs": [],
   "source": [
    "#Como veran aqui importamos pandas y al mismo tiempor lo renombramo como 'pd' \n",
    "#Asi al llamarlo escribimos menos\n",
    "import pandas as pd"
   ]
  },
  {
   "cell_type": "markdown",
   "metadata": {
    "collapsed": true
   },
   "source": [
    "Mas información: https://pandas.pydata.org/pandas-docs/stable/install.html"
   ]
  },
  {
   "cell_type": "markdown",
   "metadata": {},
   "source": [
    "**Lectura de Archivos estructurados**"
   ]
  },
  {
   "cell_type": "markdown",
   "metadata": {},
   "source": [
    "Como ya hemos visto en clase, las proteínas presentan estructura primaria, secundaria, terciaria y cuaternaria. Como hemos visto en clase la estructura de las proteínas se encuentra estrechamente relacionada a la función. Como hemos viste en clase las proteínas pueden tener más de una estructura o conformación posible en solución.\n",
    "Monod postula, en 1965, la existencia de más de una conformación de la misma proteı́na en pre-equilibrio. Este equilibrio dinámico no es estático, por el contrario la distribución relativa de los distintos confórmeros puede variar por cambios en el entorno proteico (presencia de ligandos, o fluctuaciones de pH, modificaciones postraduccionales, etc). La comparación y el estudio de los cambios que sufre una proteína en dos condiciones dadas, nos puede dar encontece una idea de cómo su estructura se vincula con su función.\n",
    "Para estimar la diversidad conformacional (es decir como cambia su estructura) de una proteı́na y cuantificarla, debemos comparar estructuralmente sus confórmeros. Para realizar este procedimiento, en primer lugar los confórmeros deben superponerse estructuralmente con el fin de llevar al mismo eje de coordenadas los centro de masas de cada una de las estructuras a comparar. Esto puede hacerse fácilmente dado que los confórmeros comparten la misma secuencia de aminoácidos por lo que para hacer una superposición rı́gida es suficiente un alineamiento secuencial para asignar los residuos equivalentes entre las dos estructuras, seguido de una traslación al mismo centro de masa y una posterior rotación de una de las estructuras. Estas rotaciones se realizan hasta minimizar la distancia cuadrática media (RMSD por sus siglas en inglés de “Root Mean Square Deviation”) entre los átomos equivalentes de las estructuras, y generalmente se utiliza un algoritmo simple de ajuste de mı́nimos cuadrados o “least-squares fitting” (RMSD) para realizar este proceso. Es común que esta superposición sea efectuada tomando como referencia las coordenadas espaciales de un átomo en particular por cada aminoácido, por lo que generalmente se utilizan los C α de la proteı́na.\n",
    "En la presente práctica vamos a trabajar sobre la comparación de dos estructuras o conformaciones de una proteína, utilizando la medida de RMSD por posición con el software Profit (http://www.bioinf.org.uk/software/profit/), que nos dará una idea de cuál es el comportamiento de dicha proteína."
   ]
  },
  {
   "cell_type": "code",
   "execution_count": 93,
   "metadata": {},
   "outputs": [],
   "source": [
    "tabla = pd.read_csv(\"./RMS-res_3SLH_B-3SLH_D.txt\", sep=\"\\s+\", names=['PosPDB1','Aa1',':','PosPDB2','Aa2','texto','RMSD'])"
   ]
  },
  {
   "cell_type": "code",
   "execution_count": 31,
   "metadata": {
    "scrolled": true
   },
   "outputs": [
    {
     "data": {
      "text/html": [
       "<div>\n",
       "<style scoped>\n",
       "    .dataframe tbody tr th:only-of-type {\n",
       "        vertical-align: middle;\n",
       "    }\n",
       "\n",
       "    .dataframe tbody tr th {\n",
       "        vertical-align: top;\n",
       "    }\n",
       "\n",
       "    .dataframe thead th {\n",
       "        text-align: right;\n",
       "    }\n",
       "</style>\n",
       "<table border=\"1\" class=\"dataframe\">\n",
       "  <thead>\n",
       "    <tr style=\"text-align: right;\">\n",
       "      <th></th>\n",
       "      <th>PosPDB1</th>\n",
       "      <th>Aa1</th>\n",
       "      <th>:</th>\n",
       "      <th>PosPDB2</th>\n",
       "      <th>Aa2</th>\n",
       "      <th>texto</th>\n",
       "      <th>RMSD</th>\n",
       "    </tr>\n",
       "  </thead>\n",
       "  <tbody>\n",
       "    <tr>\n",
       "      <th>0</th>\n",
       "      <td>B0</td>\n",
       "      <td>ALA</td>\n",
       "      <td>:</td>\n",
       "      <td>D0</td>\n",
       "      <td>ALA</td>\n",
       "      <td>RMS:</td>\n",
       "      <td>0.700</td>\n",
       "    </tr>\n",
       "    <tr>\n",
       "      <th>1</th>\n",
       "      <td>B1</td>\n",
       "      <td>MET</td>\n",
       "      <td>:</td>\n",
       "      <td>D1</td>\n",
       "      <td>MET</td>\n",
       "      <td>RMS:</td>\n",
       "      <td>0.373</td>\n",
       "    </tr>\n",
       "    <tr>\n",
       "      <th>2</th>\n",
       "      <td>B2</td>\n",
       "      <td>ASP</td>\n",
       "      <td>:</td>\n",
       "      <td>D2</td>\n",
       "      <td>ASP</td>\n",
       "      <td>RMS:</td>\n",
       "      <td>0.475</td>\n",
       "    </tr>\n",
       "    <tr>\n",
       "      <th>3</th>\n",
       "      <td>B3</td>\n",
       "      <td>TYR</td>\n",
       "      <td>:</td>\n",
       "      <td>D3</td>\n",
       "      <td>TYR</td>\n",
       "      <td>RMS:</td>\n",
       "      <td>0.390</td>\n",
       "    </tr>\n",
       "    <tr>\n",
       "      <th>4</th>\n",
       "      <td>B4</td>\n",
       "      <td>GLN</td>\n",
       "      <td>:</td>\n",
       "      <td>D4</td>\n",
       "      <td>GLN</td>\n",
       "      <td>RMS:</td>\n",
       "      <td>0.446</td>\n",
       "    </tr>\n",
       "  </tbody>\n",
       "</table>\n",
       "</div>"
      ],
      "text/plain": [
       "  PosPDB1  Aa1  : PosPDB2  Aa2 texto   RMSD\n",
       "0      B0  ALA  :      D0  ALA  RMS:  0.700\n",
       "1      B1  MET  :      D1  MET  RMS:  0.373\n",
       "2      B2  ASP  :      D2  ASP  RMS:  0.475\n",
       "3      B3  TYR  :      D3  TYR  RMS:  0.390\n",
       "4      B4  GLN  :      D4  GLN  RMS:  0.446"
      ]
     },
     "execution_count": 31,
     "metadata": {},
     "output_type": "execute_result"
    }
   ],
   "source": [
    "#Con head mostramos una parte del DataFrame\n",
    "tabla.head()"
   ]
  },
  {
   "cell_type": "markdown",
   "metadata": {},
   "source": [
    "Podríamos haber usado pd.read_table(), en general es indistinto, la diferencia radica principalmente en los parámetros por default que se encuentran seteados para la lectura de los archivos:\n",
    "        - El caracter de separación de columnas para read_cvs es una coma (',') mientras que para read_fwf es una tab ('\\t').\n",
    "\n",
    "**Ambos nos permiten leer el archivo por partes (chunksize) de modo de no saturar la memoria al levantar archivos muy pesados:**\n",
    "\n",
    "cada chunk nos da un dataFrame con el mismo header."
   ]
  },
  {
   "cell_type": "code",
   "execution_count": 44,
   "metadata": {},
   "outputs": [
    {
     "name": "stdout",
     "output_type": "stream",
     "text": [
      "ALA\n",
      "  PosPDB1  Aa1  : PosPDB2  Aa2 texto   RMSD\n",
      "0      B0  ALA  :      D0  ALA  RMS:  0.700\n",
      "1      B1  MET  :      D1  MET  RMS:  0.373\n",
      "2      B2  ASP  :      D2  ASP  RMS:  0.475\n",
      "3      B3  TYR  :      D3  TYR  RMS:  0.390\n"
     ]
    },
    {
     "ename": "KeyError",
     "evalue": "0",
     "output_type": "error",
     "traceback": [
      "\u001b[0;31m---------------------------------------------------------------------------\u001b[0m",
      "\u001b[0;31mValueError\u001b[0m                                Traceback (most recent call last)",
      "\u001b[0;32m~/anaconda3/lib/python3.7/site-packages/pandas/core/indexes/range.py\u001b[0m in \u001b[0;36mget_loc\u001b[0;34m(self, key, method, tolerance)\u001b[0m\n\u001b[1;32m    349\u001b[0m             \u001b[0;32mtry\u001b[0m\u001b[0;34m:\u001b[0m\u001b[0;34m\u001b[0m\u001b[0;34m\u001b[0m\u001b[0m\n\u001b[0;32m--> 350\u001b[0;31m                 \u001b[0;32mreturn\u001b[0m \u001b[0mself\u001b[0m\u001b[0;34m.\u001b[0m\u001b[0m_range\u001b[0m\u001b[0;34m.\u001b[0m\u001b[0mindex\u001b[0m\u001b[0;34m(\u001b[0m\u001b[0mnew_key\u001b[0m\u001b[0;34m)\u001b[0m\u001b[0;34m\u001b[0m\u001b[0;34m\u001b[0m\u001b[0m\n\u001b[0m\u001b[1;32m    351\u001b[0m             \u001b[0;32mexcept\u001b[0m \u001b[0mValueError\u001b[0m\u001b[0;34m:\u001b[0m\u001b[0;34m\u001b[0m\u001b[0;34m\u001b[0m\u001b[0m\n",
      "\u001b[0;31mValueError\u001b[0m: 0 is not in range",
      "\nDuring handling of the above exception, another exception occurred:\n",
      "\u001b[0;31mKeyError\u001b[0m                                  Traceback (most recent call last)",
      "\u001b[0;32m<ipython-input-44-fd400d1a481a>\u001b[0m in \u001b[0;36m<module>\u001b[0;34m\u001b[0m\n\u001b[1;32m      1\u001b[0m \u001b[0;31m#Leer un archivo por pedazos\u001b[0m\u001b[0;34m\u001b[0m\u001b[0;34m\u001b[0m\u001b[0;34m\u001b[0m\u001b[0m\n\u001b[1;32m      2\u001b[0m \u001b[0;32mfor\u001b[0m \u001b[0mchunk\u001b[0m \u001b[0;32min\u001b[0m \u001b[0mpd\u001b[0m\u001b[0;34m.\u001b[0m\u001b[0mread_csv\u001b[0m\u001b[0;34m(\u001b[0m\u001b[0;34m\"./RMS-res_3SLH_B-3SLH_D.txt\"\u001b[0m\u001b[0;34m,\u001b[0m \u001b[0mchunksize\u001b[0m\u001b[0;34m=\u001b[0m\u001b[0;36m4\u001b[0m\u001b[0;34m,\u001b[0m \u001b[0miterator\u001b[0m\u001b[0;34m=\u001b[0m\u001b[0;32mTrue\u001b[0m\u001b[0;34m,\u001b[0m \u001b[0msep\u001b[0m\u001b[0;34m=\u001b[0m\u001b[0;34m\"\\s+\"\u001b[0m\u001b[0;34m,\u001b[0m \u001b[0mnames\u001b[0m\u001b[0;34m=\u001b[0m\u001b[0;34m[\u001b[0m\u001b[0;34m'PosPDB1'\u001b[0m\u001b[0;34m,\u001b[0m\u001b[0;34m'Aa1'\u001b[0m\u001b[0;34m,\u001b[0m\u001b[0;34m':'\u001b[0m\u001b[0;34m,\u001b[0m\u001b[0;34m'PosPDB2'\u001b[0m\u001b[0;34m,\u001b[0m\u001b[0;34m'Aa2'\u001b[0m\u001b[0;34m,\u001b[0m\u001b[0;34m'texto'\u001b[0m\u001b[0;34m,\u001b[0m\u001b[0;34m'RMSD'\u001b[0m\u001b[0;34m]\u001b[0m\u001b[0;34m)\u001b[0m\u001b[0;34m:\u001b[0m\u001b[0;34m\u001b[0m\u001b[0;34m\u001b[0m\u001b[0m\n\u001b[0;32m----> 3\u001b[0;31m     \u001b[0mprint\u001b[0m\u001b[0;34m(\u001b[0m\u001b[0mchunk\u001b[0m\u001b[0;34m[\u001b[0m\u001b[0;34m\"Aa1\"\u001b[0m\u001b[0;34m]\u001b[0m\u001b[0;34m.\u001b[0m\u001b[0mloc\u001b[0m\u001b[0;34m[\u001b[0m\u001b[0;36m0\u001b[0m\u001b[0;34m]\u001b[0m\u001b[0;34m)\u001b[0m \u001b[0;31m#Con .loc accedemos al valor por row de la columna 'Aa1' en este caso\u001b[0m\u001b[0;34m\u001b[0m\u001b[0;34m\u001b[0m\u001b[0m\n\u001b[0m\u001b[1;32m      4\u001b[0m     \u001b[0mprint\u001b[0m\u001b[0;34m(\u001b[0m\u001b[0mchunk\u001b[0m\u001b[0;34m)\u001b[0m\u001b[0;34m\u001b[0m\u001b[0;34m\u001b[0m\u001b[0m\n",
      "\u001b[0;32m~/anaconda3/lib/python3.7/site-packages/pandas/core/indexing.py\u001b[0m in \u001b[0;36m__getitem__\u001b[0;34m(self, key)\u001b[0m\n\u001b[1;32m   1765\u001b[0m \u001b[0;34m\u001b[0m\u001b[0m\n\u001b[1;32m   1766\u001b[0m             \u001b[0mmaybe_callable\u001b[0m \u001b[0;34m=\u001b[0m \u001b[0mcom\u001b[0m\u001b[0;34m.\u001b[0m\u001b[0mapply_if_callable\u001b[0m\u001b[0;34m(\u001b[0m\u001b[0mkey\u001b[0m\u001b[0;34m,\u001b[0m \u001b[0mself\u001b[0m\u001b[0;34m.\u001b[0m\u001b[0mobj\u001b[0m\u001b[0;34m)\u001b[0m\u001b[0;34m\u001b[0m\u001b[0;34m\u001b[0m\u001b[0m\n\u001b[0;32m-> 1767\u001b[0;31m             \u001b[0;32mreturn\u001b[0m \u001b[0mself\u001b[0m\u001b[0;34m.\u001b[0m\u001b[0m_getitem_axis\u001b[0m\u001b[0;34m(\u001b[0m\u001b[0mmaybe_callable\u001b[0m\u001b[0;34m,\u001b[0m \u001b[0maxis\u001b[0m\u001b[0;34m=\u001b[0m\u001b[0maxis\u001b[0m\u001b[0;34m)\u001b[0m\u001b[0;34m\u001b[0m\u001b[0;34m\u001b[0m\u001b[0m\n\u001b[0m\u001b[1;32m   1768\u001b[0m \u001b[0;34m\u001b[0m\u001b[0m\n\u001b[1;32m   1769\u001b[0m     \u001b[0;32mdef\u001b[0m \u001b[0m_is_scalar_access\u001b[0m\u001b[0;34m(\u001b[0m\u001b[0mself\u001b[0m\u001b[0;34m,\u001b[0m \u001b[0mkey\u001b[0m\u001b[0;34m:\u001b[0m \u001b[0mTuple\u001b[0m\u001b[0;34m)\u001b[0m\u001b[0;34m:\u001b[0m\u001b[0;34m\u001b[0m\u001b[0;34m\u001b[0m\u001b[0m\n",
      "\u001b[0;32m~/anaconda3/lib/python3.7/site-packages/pandas/core/indexing.py\u001b[0m in \u001b[0;36m_getitem_axis\u001b[0;34m(self, key, axis)\u001b[0m\n\u001b[1;32m   1962\u001b[0m         \u001b[0;31m# fall thru to straight lookup\u001b[0m\u001b[0;34m\u001b[0m\u001b[0;34m\u001b[0m\u001b[0;34m\u001b[0m\u001b[0m\n\u001b[1;32m   1963\u001b[0m         \u001b[0mself\u001b[0m\u001b[0;34m.\u001b[0m\u001b[0m_validate_key\u001b[0m\u001b[0;34m(\u001b[0m\u001b[0mkey\u001b[0m\u001b[0;34m,\u001b[0m \u001b[0maxis\u001b[0m\u001b[0;34m)\u001b[0m\u001b[0;34m\u001b[0m\u001b[0;34m\u001b[0m\u001b[0m\n\u001b[0;32m-> 1964\u001b[0;31m         \u001b[0;32mreturn\u001b[0m \u001b[0mself\u001b[0m\u001b[0;34m.\u001b[0m\u001b[0m_get_label\u001b[0m\u001b[0;34m(\u001b[0m\u001b[0mkey\u001b[0m\u001b[0;34m,\u001b[0m \u001b[0maxis\u001b[0m\u001b[0;34m=\u001b[0m\u001b[0maxis\u001b[0m\u001b[0;34m)\u001b[0m\u001b[0;34m\u001b[0m\u001b[0;34m\u001b[0m\u001b[0m\n\u001b[0m\u001b[1;32m   1965\u001b[0m \u001b[0;34m\u001b[0m\u001b[0m\n\u001b[1;32m   1966\u001b[0m \u001b[0;34m\u001b[0m\u001b[0m\n",
      "\u001b[0;32m~/anaconda3/lib/python3.7/site-packages/pandas/core/indexing.py\u001b[0m in \u001b[0;36m_get_label\u001b[0;34m(self, label, axis)\u001b[0m\n\u001b[1;32m    618\u001b[0m             \u001b[0;31m# but will fail when the index is not present\u001b[0m\u001b[0;34m\u001b[0m\u001b[0;34m\u001b[0m\u001b[0;34m\u001b[0m\u001b[0m\n\u001b[1;32m    619\u001b[0m             \u001b[0;31m# see GH5667\u001b[0m\u001b[0;34m\u001b[0m\u001b[0;34m\u001b[0m\u001b[0;34m\u001b[0m\u001b[0m\n\u001b[0;32m--> 620\u001b[0;31m             \u001b[0;32mreturn\u001b[0m \u001b[0mself\u001b[0m\u001b[0;34m.\u001b[0m\u001b[0mobj\u001b[0m\u001b[0;34m.\u001b[0m\u001b[0m_xs\u001b[0m\u001b[0;34m(\u001b[0m\u001b[0mlabel\u001b[0m\u001b[0;34m,\u001b[0m \u001b[0maxis\u001b[0m\u001b[0;34m=\u001b[0m\u001b[0maxis\u001b[0m\u001b[0;34m)\u001b[0m\u001b[0;34m\u001b[0m\u001b[0;34m\u001b[0m\u001b[0m\n\u001b[0m\u001b[1;32m    621\u001b[0m         \u001b[0;32melif\u001b[0m \u001b[0misinstance\u001b[0m\u001b[0;34m(\u001b[0m\u001b[0mlabel\u001b[0m\u001b[0;34m,\u001b[0m \u001b[0mtuple\u001b[0m\u001b[0;34m)\u001b[0m \u001b[0;32mand\u001b[0m \u001b[0misinstance\u001b[0m\u001b[0;34m(\u001b[0m\u001b[0mlabel\u001b[0m\u001b[0;34m[\u001b[0m\u001b[0maxis\u001b[0m\u001b[0;34m]\u001b[0m\u001b[0;34m,\u001b[0m \u001b[0mslice\u001b[0m\u001b[0;34m)\u001b[0m\u001b[0;34m:\u001b[0m\u001b[0;34m\u001b[0m\u001b[0;34m\u001b[0m\u001b[0m\n\u001b[1;32m    622\u001b[0m             \u001b[0;32mraise\u001b[0m \u001b[0mIndexingError\u001b[0m\u001b[0;34m(\u001b[0m\u001b[0;34m\"no slices here, handle elsewhere\"\u001b[0m\u001b[0;34m)\u001b[0m\u001b[0;34m\u001b[0m\u001b[0;34m\u001b[0m\u001b[0m\n",
      "\u001b[0;32m~/anaconda3/lib/python3.7/site-packages/pandas/core/generic.py\u001b[0m in \u001b[0;36mxs\u001b[0;34m(self, key, axis, level, drop_level)\u001b[0m\n\u001b[1;32m   3535\u001b[0m             \u001b[0mloc\u001b[0m\u001b[0;34m,\u001b[0m \u001b[0mnew_index\u001b[0m \u001b[0;34m=\u001b[0m \u001b[0mself\u001b[0m\u001b[0;34m.\u001b[0m\u001b[0mindex\u001b[0m\u001b[0;34m.\u001b[0m\u001b[0mget_loc_level\u001b[0m\u001b[0;34m(\u001b[0m\u001b[0mkey\u001b[0m\u001b[0;34m,\u001b[0m \u001b[0mdrop_level\u001b[0m\u001b[0;34m=\u001b[0m\u001b[0mdrop_level\u001b[0m\u001b[0;34m)\u001b[0m\u001b[0;34m\u001b[0m\u001b[0;34m\u001b[0m\u001b[0m\n\u001b[1;32m   3536\u001b[0m         \u001b[0;32melse\u001b[0m\u001b[0;34m:\u001b[0m\u001b[0;34m\u001b[0m\u001b[0;34m\u001b[0m\u001b[0m\n\u001b[0;32m-> 3537\u001b[0;31m             \u001b[0mloc\u001b[0m \u001b[0;34m=\u001b[0m \u001b[0mself\u001b[0m\u001b[0;34m.\u001b[0m\u001b[0mindex\u001b[0m\u001b[0;34m.\u001b[0m\u001b[0mget_loc\u001b[0m\u001b[0;34m(\u001b[0m\u001b[0mkey\u001b[0m\u001b[0;34m)\u001b[0m\u001b[0;34m\u001b[0m\u001b[0;34m\u001b[0m\u001b[0m\n\u001b[0m\u001b[1;32m   3538\u001b[0m \u001b[0;34m\u001b[0m\u001b[0m\n\u001b[1;32m   3539\u001b[0m             \u001b[0;32mif\u001b[0m \u001b[0misinstance\u001b[0m\u001b[0;34m(\u001b[0m\u001b[0mloc\u001b[0m\u001b[0;34m,\u001b[0m \u001b[0mnp\u001b[0m\u001b[0;34m.\u001b[0m\u001b[0mndarray\u001b[0m\u001b[0;34m)\u001b[0m\u001b[0;34m:\u001b[0m\u001b[0;34m\u001b[0m\u001b[0;34m\u001b[0m\u001b[0m\n",
      "\u001b[0;32m~/anaconda3/lib/python3.7/site-packages/pandas/core/indexes/range.py\u001b[0m in \u001b[0;36mget_loc\u001b[0;34m(self, key, method, tolerance)\u001b[0m\n\u001b[1;32m    350\u001b[0m                 \u001b[0;32mreturn\u001b[0m \u001b[0mself\u001b[0m\u001b[0;34m.\u001b[0m\u001b[0m_range\u001b[0m\u001b[0;34m.\u001b[0m\u001b[0mindex\u001b[0m\u001b[0;34m(\u001b[0m\u001b[0mnew_key\u001b[0m\u001b[0;34m)\u001b[0m\u001b[0;34m\u001b[0m\u001b[0;34m\u001b[0m\u001b[0m\n\u001b[1;32m    351\u001b[0m             \u001b[0;32mexcept\u001b[0m \u001b[0mValueError\u001b[0m\u001b[0;34m:\u001b[0m\u001b[0;34m\u001b[0m\u001b[0;34m\u001b[0m\u001b[0m\n\u001b[0;32m--> 352\u001b[0;31m                 \u001b[0;32mraise\u001b[0m \u001b[0mKeyError\u001b[0m\u001b[0;34m(\u001b[0m\u001b[0mkey\u001b[0m\u001b[0;34m)\u001b[0m\u001b[0;34m\u001b[0m\u001b[0;34m\u001b[0m\u001b[0m\n\u001b[0m\u001b[1;32m    353\u001b[0m         \u001b[0;32mreturn\u001b[0m \u001b[0msuper\u001b[0m\u001b[0;34m(\u001b[0m\u001b[0;34m)\u001b[0m\u001b[0;34m.\u001b[0m\u001b[0mget_loc\u001b[0m\u001b[0;34m(\u001b[0m\u001b[0mkey\u001b[0m\u001b[0;34m,\u001b[0m \u001b[0mmethod\u001b[0m\u001b[0;34m=\u001b[0m\u001b[0mmethod\u001b[0m\u001b[0;34m,\u001b[0m \u001b[0mtolerance\u001b[0m\u001b[0;34m=\u001b[0m\u001b[0mtolerance\u001b[0m\u001b[0;34m)\u001b[0m\u001b[0;34m\u001b[0m\u001b[0;34m\u001b[0m\u001b[0m\n\u001b[1;32m    354\u001b[0m \u001b[0;34m\u001b[0m\u001b[0m\n",
      "\u001b[0;31mKeyError\u001b[0m: 0"
     ]
    }
   ],
   "source": [
    "#Leer un archivo por pedazos\n",
    "for chunk in pd.read_csv(\"./RMS-res_3SLH_B-3SLH_D.txt\", chunksize=4, iterator=True, sep=\"\\s+\", names=['PosPDB1','Aa1',':','PosPDB2','Aa2','texto','RMSD']):\n",
    "    print(chunk[\"Aa1\"].loc[0]) #Con .loc accedemos al valor por row de la columna 'Aa1' en este caso\n",
    "    print(chunk)"
   ]
  },
  {
   "cell_type": "markdown",
   "metadata": {},
   "source": [
    "Mas informacion:\n",
    "\n",
    "https://pandas.pydata.org/pandas-docs/stable/generated/pandas.read_csv.html\n",
    "\n",
    "https://pandas.pydata.org/pandas-docs/stable/generated/pandas.read_table.html\n",
    "\n",
    "http://sdsawtelle.github.io/blog/output/large-data-files-pandas-sqlite.html\n",
    "\n",
    "https://pandas.pydata.org/pandas-docs/stable/generated/pandas.DataFrame.iloc.html\n",
    "\n",
    "https://stackoverflow.com/questions/31593201/pandas-iloc-vs-ix-vs-loc-explanation"
   ]
  },
  {
   "cell_type": "markdown",
   "metadata": {},
   "source": [
    "**Podemos quitar las columnas que no sirven:**"
   ]
  },
  {
   "cell_type": "code",
   "execution_count": 45,
   "metadata": {},
   "outputs": [],
   "source": [
    "del tabla[':']"
   ]
  },
  {
   "cell_type": "code",
   "execution_count": 46,
   "metadata": {},
   "outputs": [
    {
     "data": {
      "text/html": [
       "<div>\n",
       "<style scoped>\n",
       "    .dataframe tbody tr th:only-of-type {\n",
       "        vertical-align: middle;\n",
       "    }\n",
       "\n",
       "    .dataframe tbody tr th {\n",
       "        vertical-align: top;\n",
       "    }\n",
       "\n",
       "    .dataframe thead th {\n",
       "        text-align: right;\n",
       "    }\n",
       "</style>\n",
       "<table border=\"1\" class=\"dataframe\">\n",
       "  <thead>\n",
       "    <tr style=\"text-align: right;\">\n",
       "      <th></th>\n",
       "      <th>PosPDB1</th>\n",
       "      <th>Aa1</th>\n",
       "      <th>PosPDB2</th>\n",
       "      <th>Aa2</th>\n",
       "      <th>texto</th>\n",
       "      <th>RMSD</th>\n",
       "    </tr>\n",
       "  </thead>\n",
       "  <tbody>\n",
       "    <tr>\n",
       "      <th>0</th>\n",
       "      <td>B0</td>\n",
       "      <td>ALA</td>\n",
       "      <td>D0</td>\n",
       "      <td>ALA</td>\n",
       "      <td>RMS:</td>\n",
       "      <td>0.700</td>\n",
       "    </tr>\n",
       "    <tr>\n",
       "      <th>1</th>\n",
       "      <td>B1</td>\n",
       "      <td>MET</td>\n",
       "      <td>D1</td>\n",
       "      <td>MET</td>\n",
       "      <td>RMS:</td>\n",
       "      <td>0.373</td>\n",
       "    </tr>\n",
       "  </tbody>\n",
       "</table>\n",
       "</div>"
      ],
      "text/plain": [
       "  PosPDB1  Aa1 PosPDB2  Aa2 texto   RMSD\n",
       "0      B0  ALA      D0  ALA  RMS:  0.700\n",
       "1      B1  MET      D1  MET  RMS:  0.373"
      ]
     },
     "execution_count": 46,
     "metadata": {},
     "output_type": "execute_result"
    }
   ],
   "source": [
    "#Fijense que podemos especificar el numero de row que deseamos qu enos muestre simplemente agregando el numero entre parentesis\n",
    "#Por default siempre nos muestra el header y 5 rows\n",
    "tabla.head(2)"
   ]
  },
  {
   "cell_type": "code",
   "execution_count": 47,
   "metadata": {},
   "outputs": [],
   "source": [
    "del tabla['texto']"
   ]
  },
  {
   "cell_type": "code",
   "execution_count": 48,
   "metadata": {},
   "outputs": [
    {
     "data": {
      "text/html": [
       "<div>\n",
       "<style scoped>\n",
       "    .dataframe tbody tr th:only-of-type {\n",
       "        vertical-align: middle;\n",
       "    }\n",
       "\n",
       "    .dataframe tbody tr th {\n",
       "        vertical-align: top;\n",
       "    }\n",
       "\n",
       "    .dataframe thead th {\n",
       "        text-align: right;\n",
       "    }\n",
       "</style>\n",
       "<table border=\"1\" class=\"dataframe\">\n",
       "  <thead>\n",
       "    <tr style=\"text-align: right;\">\n",
       "      <th></th>\n",
       "      <th>PosPDB1</th>\n",
       "      <th>Aa1</th>\n",
       "      <th>PosPDB2</th>\n",
       "      <th>Aa2</th>\n",
       "      <th>RMSD</th>\n",
       "    </tr>\n",
       "  </thead>\n",
       "  <tbody>\n",
       "    <tr>\n",
       "      <th>0</th>\n",
       "      <td>B0</td>\n",
       "      <td>ALA</td>\n",
       "      <td>D0</td>\n",
       "      <td>ALA</td>\n",
       "      <td>0.700</td>\n",
       "    </tr>\n",
       "    <tr>\n",
       "      <th>1</th>\n",
       "      <td>B1</td>\n",
       "      <td>MET</td>\n",
       "      <td>D1</td>\n",
       "      <td>MET</td>\n",
       "      <td>0.373</td>\n",
       "    </tr>\n",
       "    <tr>\n",
       "      <th>2</th>\n",
       "      <td>B2</td>\n",
       "      <td>ASP</td>\n",
       "      <td>D2</td>\n",
       "      <td>ASP</td>\n",
       "      <td>0.475</td>\n",
       "    </tr>\n",
       "    <tr>\n",
       "      <th>3</th>\n",
       "      <td>B3</td>\n",
       "      <td>TYR</td>\n",
       "      <td>D3</td>\n",
       "      <td>TYR</td>\n",
       "      <td>0.390</td>\n",
       "    </tr>\n",
       "  </tbody>\n",
       "</table>\n",
       "</div>"
      ],
      "text/plain": [
       "  PosPDB1  Aa1 PosPDB2  Aa2   RMSD\n",
       "0      B0  ALA      D0  ALA  0.700\n",
       "1      B1  MET      D1  MET  0.373\n",
       "2      B2  ASP      D2  ASP  0.475\n",
       "3      B3  TYR      D3  TYR  0.390"
      ]
     },
     "execution_count": 48,
     "metadata": {},
     "output_type": "execute_result"
    }
   ],
   "source": [
    "tabla.head(4)"
   ]
  },
  {
   "cell_type": "markdown",
   "metadata": {
    "collapsed": true
   },
   "source": [
    "**Podriamos por ejemplo tomar ciertos intervalos de caracteres en el texto para deteriminar las columnas:**"
   ]
  },
  {
   "cell_type": "code",
   "execution_count": 49,
   "metadata": {},
   "outputs": [
    {
     "data": {
      "text/html": [
       "<div>\n",
       "<style scoped>\n",
       "    .dataframe tbody tr th:only-of-type {\n",
       "        vertical-align: middle;\n",
       "    }\n",
       "\n",
       "    .dataframe tbody tr th {\n",
       "        vertical-align: top;\n",
       "    }\n",
       "\n",
       "    .dataframe thead th {\n",
       "        text-align: right;\n",
       "    }\n",
       "</style>\n",
       "<table border=\"1\" class=\"dataframe\">\n",
       "  <thead>\n",
       "    <tr style=\"text-align: right;\">\n",
       "      <th></th>\n",
       "      <th>PosPDB1</th>\n",
       "      <th>Aa1</th>\n",
       "      <th>PosPDB2</th>\n",
       "      <th>Aa2</th>\n",
       "      <th>RMSD</th>\n",
       "    </tr>\n",
       "  </thead>\n",
       "  <tbody>\n",
       "    <tr>\n",
       "      <th>0</th>\n",
       "      <td>B0</td>\n",
       "      <td>ALA</td>\n",
       "      <td>D0</td>\n",
       "      <td>ALA</td>\n",
       "      <td>0.700</td>\n",
       "    </tr>\n",
       "    <tr>\n",
       "      <th>1</th>\n",
       "      <td>B1</td>\n",
       "      <td>MET</td>\n",
       "      <td>D1</td>\n",
       "      <td>MET</td>\n",
       "      <td>0.373</td>\n",
       "    </tr>\n",
       "    <tr>\n",
       "      <th>2</th>\n",
       "      <td>B2</td>\n",
       "      <td>ASP</td>\n",
       "      <td>D2</td>\n",
       "      <td>ASP</td>\n",
       "      <td>0.475</td>\n",
       "    </tr>\n",
       "    <tr>\n",
       "      <th>3</th>\n",
       "      <td>B3</td>\n",
       "      <td>TYR</td>\n",
       "      <td>D3</td>\n",
       "      <td>TYR</td>\n",
       "      <td>0.390</td>\n",
       "    </tr>\n",
       "    <tr>\n",
       "      <th>4</th>\n",
       "      <td>B4</td>\n",
       "      <td>GLN</td>\n",
       "      <td>D4</td>\n",
       "      <td>GLN</td>\n",
       "      <td>0.446</td>\n",
       "    </tr>\n",
       "  </tbody>\n",
       "</table>\n",
       "</div>"
      ],
      "text/plain": [
       "  PosPDB1  Aa1 PosPDB2  Aa2   RMSD\n",
       "0      B0  ALA      D0  ALA  0.700\n",
       "1      B1  MET      D1  MET  0.373\n",
       "2      B2  ASP      D2  ASP  0.475\n",
       "3      B3  TYR      D3  TYR  0.390\n",
       "4      B4  GLN      D4  GLN  0.446"
      ]
     },
     "execution_count": 49,
     "metadata": {},
     "output_type": "execute_result"
    }
   ],
   "source": [
    "import pandas as pd\n",
    "tabla = pd.read_fwf(\"./RMS-res_3SLH_B-3SLH_D.txt\", colspecs=[(3,9),(9,12),(19,25),(25,28),(38,44)], names=['PosPDB1','Aa1','PosPDB2','Aa2','RMSD'])\n",
    "tabla.head()"
   ]
  },
  {
   "cell_type": "markdown",
   "metadata": {},
   "source": [
    "**Operando con las columnas**\n",
    "\n",
    "+ Accedemos a cada columna haciendo df['nombre de la columna'] (donde df es el nombre génerico para designar DataFrame, en nuestro caso por ejemplo hacemos:\n",
    "``` python\n",
    "tabla['nombre de la columna']\n",
    "```\n",
    "**¿Podés imprimir la columna de los RMSD de nuestra tabla?**"
   ]
  },
  {
   "cell_type": "code",
   "execution_count": 51,
   "metadata": {},
   "outputs": [
    {
     "data": {
      "text/plain": [
       "0      0.700\n",
       "1      0.373\n",
       "2      0.475\n",
       "3      0.390\n",
       "4      0.446\n",
       "       ...  \n",
       "430    0.483\n",
       "431    0.563\n",
       "432    0.445\n",
       "433    0.224\n",
       "434    0.018\n",
       "Name: RMSD, Length: 435, dtype: float64"
      ]
     },
     "execution_count": 51,
     "metadata": {},
     "output_type": "execute_result"
    }
   ],
   "source": [
    "tabla['RMSD']"
   ]
  },
  {
   "cell_type": "markdown",
   "metadata": {},
   "source": [
    "+ Cada columna de un DataFrame es una serie de datos al que podemos acceder como una lista:\n",
    "``` python\n",
    "df['columna'].tolist()\n",
    "```\n",
    "**Extrae la columna de los residuos de la estructura 1 como una lista y guardala en una variable denominada 'residuos':**"
   ]
  },
  {
   "cell_type": "code",
   "execution_count": 52,
   "metadata": {},
   "outputs": [],
   "source": [
    "residuos = tabla['Aa1'].tolist()"
   ]
  },
  {
   "cell_type": "markdown",
   "metadata": {},
   "source": [
    "+ Podemos conocer la longitud de nuestro DataFrame utiizando la misma función len() que hemos visto para listas y strings:\n",
    "``` python\n",
    "len(df)\n",
    "```\n",
    "**¿Cuál es la longitud de las secuencias?**"
   ]
  },
  {
   "cell_type": "code",
   "execution_count": 53,
   "metadata": {},
   "outputs": [
    {
     "data": {
      "text/plain": [
       "435"
      ]
     },
     "execution_count": 53,
     "metadata": {},
     "output_type": "execute_result"
    }
   ],
   "source": [
    "len(residuos)"
   ]
  },
  {
   "cell_type": "markdown",
   "metadata": {},
   "source": [
    "+ Podemos operar con las columnas con los mismo operadores relacionales y matemáticos que ya hemos visto:\n",
    "``` python\n",
    "df['columna'] * 2\n",
    "df['columna'] + 2\n",
    "df['columna'] > 2  \n",
    "```          \n",
    "**¿Qué nos dá en el último caso?**"
   ]
  },
  {
   "cell_type": "code",
   "execution_count": 56,
   "metadata": {},
   "outputs": [
    {
     "data": {
      "text/plain": [
       "'GLY'"
      ]
     },
     "execution_count": 56,
     "metadata": {},
     "output_type": "execute_result"
    }
   ],
   "source": [
    "residuos[-1]"
   ]
  },
  {
   "cell_type": "markdown",
   "metadata": {},
   "source": [
    "+ Podemos crear una nueva columna tomando una lista de datos del mismo tamño que nuestro dataFrame o una columna modificada:\n",
    "``` python\n",
    "df['columna nueva'] = df['columna'] * 2\n",
    "```\n",
    "**¿Podrías generar una columna cuyo valor sea el doble del valor del RMSD?**"
   ]
  },
  {
   "cell_type": "code",
   "execution_count": 58,
   "metadata": {},
   "outputs": [
    {
     "name": "stdout",
     "output_type": "stream",
     "text": [
      "0      1.400\n",
      "1      0.746\n",
      "2      0.950\n",
      "3      0.780\n",
      "4      0.892\n",
      "       ...  \n",
      "430    0.966\n",
      "431    1.126\n",
      "432    0.890\n",
      "433    0.448\n",
      "434    0.036\n",
      "Name: RMSD*2, Length: 435, dtype: float64\n"
     ]
    }
   ],
   "source": [
    "tabla['RMSD*2'] = tabla['RMSD'] * 2\n",
    "print(tabla['RMSD*2'])"
   ]
  },
  {
   "cell_type": "markdown",
   "metadata": {},
   "source": [
    "+ Los operadores tambien nos sirven para filtrar nuestro dataFrame:\n",
    "``` python\n",
    "df[df['columna'] > 0.2 ]\n",
    "```          \n",
    "**¿Podrías mostrar solo las lineas que corresponden a LYS?**"
   ]
  },
  {
   "cell_type": "code",
   "execution_count": 59,
   "metadata": {},
   "outputs": [
    {
     "name": "stdout",
     "output_type": "stream",
     "text": [
      "    PosPDB1  Aa1 PosPDB2  Aa2   RMSD  RMSD*2\n",
      "21      B21  LYS     D21  LYS  0.237   0.474\n",
      "126    B126  LYS    D126  LYS  0.184   0.368\n",
      "138    B138  LYS    D138  LYS  0.402   0.804\n",
      "149    B149  LYS    D149  LYS  0.345   0.690\n",
      "171    B171  LYS    D171  LYS  0.174   0.348\n",
      "184    B184  LYS    D184  LYS  0.456   0.912\n",
      "202    B202  LYS    D202  LYS  0.488   0.976\n",
      "210    B210  LYS    D210  LYS  0.671   1.342\n",
      "212    B212  LYS    D212  LYS  0.708   1.416\n",
      "221    B222  LYS    D222  LYS  0.414   0.828\n",
      "223    B224  LYS    D224  LYS  0.386   0.772\n",
      "270    B271  LYS    D271  LYS  0.358   0.716\n",
      "284    B285  LYS    D286  ASN  0.579   1.158\n",
      "299    B301  LYS    D301  LYS  0.339   0.678\n",
      "328    B330  LYS    D330  LYS  0.105   0.210\n",
      "340    B342  LYS    D342  LYS  0.241   0.482\n",
      "354    B356  LYS    D356  LYS  0.319   0.638\n",
      "398    B400  LYS    D400  LYS  0.567   1.134\n",
      "410    B412  LYS    D412  LYS  0.382   0.764\n",
      "428    B430  LYS    D430  LYS  0.612   1.224\n"
     ]
    }
   ],
   "source": [
    "print(tabla[tabla['Aa1'] == 'LYS'])"
   ]
  },
  {
   "cell_type": "markdown",
   "metadata": {},
   "source": [
    "+ Como ya vimos podemos acceder al valor de una celda haciendo:\n",
    "``` python\n",
    "df['nombre de la columna'].loc[0]\n",
    "```                \n",
    "**¿Podrías ahora mostrar los valores de RMSD de las lineas correspondientes al filtro aplicado anteriormente?**"
   ]
  },
  {
   "cell_type": "code",
   "execution_count": 101,
   "metadata": {},
   "outputs": [
    {
     "data": {
      "text/plain": [
       "21     0.237\n",
       "126    0.184\n",
       "138    0.402\n",
       "149    0.345\n",
       "171    0.174\n",
       "184    0.456\n",
       "202    0.488\n",
       "210    1.671\n",
       "212    2.708\n",
       "221    0.414\n",
       "223    0.386\n",
       "270    0.358\n",
       "284    0.579\n",
       "299    0.339\n",
       "328    0.105\n",
       "340    0.241\n",
       "354    0.319\n",
       "398    0.567\n",
       "410    0.382\n",
       "428    0.612\n",
       "Name: RMSD, dtype: float64"
      ]
     },
     "execution_count": 101,
     "metadata": {},
     "output_type": "execute_result"
    }
   ],
   "source": [
    "filtro1 = tabla[tabla['Aa1'] == 'LYS']\n",
    "filtro1['RMSD'].loc[0]"
   ]
  },
  {
   "cell_type": "markdown",
   "metadata": {},
   "source": [
    "+ Podemos concatenar dataFrames haciendo:\n",
    "\n",
    "``` python\n",
    " nuevo_df = pd.concat([df1,df2])\n",
    "```\n",
    "**¿Podrías generar un dataFrame que solo contenga la información de la tabla para las posiciones correspondientes a LYS y ARG?**"
   ]
  },
  {
   "cell_type": "code",
   "execution_count": 69,
   "metadata": {},
   "outputs": [
    {
     "data": {
      "text/html": [
       "<div>\n",
       "<style scoped>\n",
       "    .dataframe tbody tr th:only-of-type {\n",
       "        vertical-align: middle;\n",
       "    }\n",
       "\n",
       "    .dataframe tbody tr th {\n",
       "        vertical-align: top;\n",
       "    }\n",
       "\n",
       "    .dataframe thead th {\n",
       "        text-align: right;\n",
       "    }\n",
       "</style>\n",
       "<table border=\"1\" class=\"dataframe\">\n",
       "  <thead>\n",
       "    <tr style=\"text-align: right;\">\n",
       "      <th></th>\n",
       "      <th>PosPDB1</th>\n",
       "      <th>Aa1</th>\n",
       "      <th>PosPDB2</th>\n",
       "      <th>Aa2</th>\n",
       "      <th>RMSD</th>\n",
       "      <th>RMSD*2</th>\n",
       "    </tr>\n",
       "  </thead>\n",
       "  <tbody>\n",
       "    <tr>\n",
       "      <th>21</th>\n",
       "      <td>B21</td>\n",
       "      <td>LYS</td>\n",
       "      <td>D21</td>\n",
       "      <td>LYS</td>\n",
       "      <td>0.237</td>\n",
       "      <td>0.474</td>\n",
       "    </tr>\n",
       "    <tr>\n",
       "      <th>126</th>\n",
       "      <td>B126</td>\n",
       "      <td>LYS</td>\n",
       "      <td>D126</td>\n",
       "      <td>LYS</td>\n",
       "      <td>0.184</td>\n",
       "      <td>0.368</td>\n",
       "    </tr>\n",
       "    <tr>\n",
       "      <th>138</th>\n",
       "      <td>B138</td>\n",
       "      <td>LYS</td>\n",
       "      <td>D138</td>\n",
       "      <td>LYS</td>\n",
       "      <td>0.402</td>\n",
       "      <td>0.804</td>\n",
       "    </tr>\n",
       "    <tr>\n",
       "      <th>149</th>\n",
       "      <td>B149</td>\n",
       "      <td>LYS</td>\n",
       "      <td>D149</td>\n",
       "      <td>LYS</td>\n",
       "      <td>0.345</td>\n",
       "      <td>0.690</td>\n",
       "    </tr>\n",
       "    <tr>\n",
       "      <th>171</th>\n",
       "      <td>B171</td>\n",
       "      <td>LYS</td>\n",
       "      <td>D171</td>\n",
       "      <td>LYS</td>\n",
       "      <td>0.174</td>\n",
       "      <td>0.348</td>\n",
       "    </tr>\n",
       "    <tr>\n",
       "      <th>184</th>\n",
       "      <td>B184</td>\n",
       "      <td>LYS</td>\n",
       "      <td>D184</td>\n",
       "      <td>LYS</td>\n",
       "      <td>0.456</td>\n",
       "      <td>0.912</td>\n",
       "    </tr>\n",
       "    <tr>\n",
       "      <th>202</th>\n",
       "      <td>B202</td>\n",
       "      <td>LYS</td>\n",
       "      <td>D202</td>\n",
       "      <td>LYS</td>\n",
       "      <td>0.488</td>\n",
       "      <td>0.976</td>\n",
       "    </tr>\n",
       "    <tr>\n",
       "      <th>210</th>\n",
       "      <td>B210</td>\n",
       "      <td>LYS</td>\n",
       "      <td>D210</td>\n",
       "      <td>LYS</td>\n",
       "      <td>0.671</td>\n",
       "      <td>1.342</td>\n",
       "    </tr>\n",
       "    <tr>\n",
       "      <th>212</th>\n",
       "      <td>B212</td>\n",
       "      <td>LYS</td>\n",
       "      <td>D212</td>\n",
       "      <td>LYS</td>\n",
       "      <td>0.708</td>\n",
       "      <td>1.416</td>\n",
       "    </tr>\n",
       "    <tr>\n",
       "      <th>221</th>\n",
       "      <td>B222</td>\n",
       "      <td>LYS</td>\n",
       "      <td>D222</td>\n",
       "      <td>LYS</td>\n",
       "      <td>0.414</td>\n",
       "      <td>0.828</td>\n",
       "    </tr>\n",
       "    <tr>\n",
       "      <th>223</th>\n",
       "      <td>B224</td>\n",
       "      <td>LYS</td>\n",
       "      <td>D224</td>\n",
       "      <td>LYS</td>\n",
       "      <td>0.386</td>\n",
       "      <td>0.772</td>\n",
       "    </tr>\n",
       "    <tr>\n",
       "      <th>270</th>\n",
       "      <td>B271</td>\n",
       "      <td>LYS</td>\n",
       "      <td>D271</td>\n",
       "      <td>LYS</td>\n",
       "      <td>0.358</td>\n",
       "      <td>0.716</td>\n",
       "    </tr>\n",
       "    <tr>\n",
       "      <th>284</th>\n",
       "      <td>B285</td>\n",
       "      <td>LYS</td>\n",
       "      <td>D286</td>\n",
       "      <td>ASN</td>\n",
       "      <td>0.579</td>\n",
       "      <td>1.158</td>\n",
       "    </tr>\n",
       "    <tr>\n",
       "      <th>299</th>\n",
       "      <td>B301</td>\n",
       "      <td>LYS</td>\n",
       "      <td>D301</td>\n",
       "      <td>LYS</td>\n",
       "      <td>0.339</td>\n",
       "      <td>0.678</td>\n",
       "    </tr>\n",
       "    <tr>\n",
       "      <th>328</th>\n",
       "      <td>B330</td>\n",
       "      <td>LYS</td>\n",
       "      <td>D330</td>\n",
       "      <td>LYS</td>\n",
       "      <td>0.105</td>\n",
       "      <td>0.210</td>\n",
       "    </tr>\n",
       "    <tr>\n",
       "      <th>340</th>\n",
       "      <td>B342</td>\n",
       "      <td>LYS</td>\n",
       "      <td>D342</td>\n",
       "      <td>LYS</td>\n",
       "      <td>0.241</td>\n",
       "      <td>0.482</td>\n",
       "    </tr>\n",
       "    <tr>\n",
       "      <th>354</th>\n",
       "      <td>B356</td>\n",
       "      <td>LYS</td>\n",
       "      <td>D356</td>\n",
       "      <td>LYS</td>\n",
       "      <td>0.319</td>\n",
       "      <td>0.638</td>\n",
       "    </tr>\n",
       "    <tr>\n",
       "      <th>398</th>\n",
       "      <td>B400</td>\n",
       "      <td>LYS</td>\n",
       "      <td>D400</td>\n",
       "      <td>LYS</td>\n",
       "      <td>0.567</td>\n",
       "      <td>1.134</td>\n",
       "    </tr>\n",
       "    <tr>\n",
       "      <th>410</th>\n",
       "      <td>B412</td>\n",
       "      <td>LYS</td>\n",
       "      <td>D412</td>\n",
       "      <td>LYS</td>\n",
       "      <td>0.382</td>\n",
       "      <td>0.764</td>\n",
       "    </tr>\n",
       "    <tr>\n",
       "      <th>428</th>\n",
       "      <td>B430</td>\n",
       "      <td>LYS</td>\n",
       "      <td>D430</td>\n",
       "      <td>LYS</td>\n",
       "      <td>0.612</td>\n",
       "      <td>1.224</td>\n",
       "    </tr>\n",
       "    <tr>\n",
       "      <th>26</th>\n",
       "      <td>B26</td>\n",
       "      <td>ARG</td>\n",
       "      <td>D26</td>\n",
       "      <td>ARG</td>\n",
       "      <td>0.136</td>\n",
       "      <td>0.272</td>\n",
       "    </tr>\n",
       "    <tr>\n",
       "      <th>99</th>\n",
       "      <td>B99</td>\n",
       "      <td>ARG</td>\n",
       "      <td>D99</td>\n",
       "      <td>ARG</td>\n",
       "      <td>0.107</td>\n",
       "      <td>0.214</td>\n",
       "    </tr>\n",
       "    <tr>\n",
       "      <th>122</th>\n",
       "      <td>B122</td>\n",
       "      <td>ARG</td>\n",
       "      <td>D122</td>\n",
       "      <td>ARG</td>\n",
       "      <td>0.082</td>\n",
       "      <td>0.164</td>\n",
       "    </tr>\n",
       "    <tr>\n",
       "      <th>123</th>\n",
       "      <td>B123</td>\n",
       "      <td>ARG</td>\n",
       "      <td>D123</td>\n",
       "      <td>ARG</td>\n",
       "      <td>0.026</td>\n",
       "      <td>0.052</td>\n",
       "    </tr>\n",
       "    <tr>\n",
       "      <th>127</th>\n",
       "      <td>B127</td>\n",
       "      <td>ARG</td>\n",
       "      <td>D127</td>\n",
       "      <td>ARG</td>\n",
       "      <td>0.098</td>\n",
       "      <td>0.196</td>\n",
       "    </tr>\n",
       "    <tr>\n",
       "      <th>155</th>\n",
       "      <td>B155</td>\n",
       "      <td>ARG</td>\n",
       "      <td>D155</td>\n",
       "      <td>ARG</td>\n",
       "      <td>0.438</td>\n",
       "      <td>0.876</td>\n",
       "    </tr>\n",
       "    <tr>\n",
       "      <th>182</th>\n",
       "      <td>B182</td>\n",
       "      <td>ARG</td>\n",
       "      <td>D182</td>\n",
       "      <td>ARG</td>\n",
       "      <td>0.520</td>\n",
       "      <td>1.040</td>\n",
       "    </tr>\n",
       "    <tr>\n",
       "      <th>194</th>\n",
       "      <td>B194</td>\n",
       "      <td>ARG</td>\n",
       "      <td>D194</td>\n",
       "      <td>ARG</td>\n",
       "      <td>0.131</td>\n",
       "      <td>0.262</td>\n",
       "    </tr>\n",
       "    <tr>\n",
       "      <th>199</th>\n",
       "      <td>B199</td>\n",
       "      <td>ARG</td>\n",
       "      <td>D199</td>\n",
       "      <td>ARG</td>\n",
       "      <td>0.218</td>\n",
       "      <td>0.436</td>\n",
       "    </tr>\n",
       "    <tr>\n",
       "      <th>252</th>\n",
       "      <td>B253</td>\n",
       "      <td>ARG</td>\n",
       "      <td>D253</td>\n",
       "      <td>ARG</td>\n",
       "      <td>0.418</td>\n",
       "      <td>0.836</td>\n",
       "    </tr>\n",
       "    <tr>\n",
       "      <th>255</th>\n",
       "      <td>B256</td>\n",
       "      <td>ARG</td>\n",
       "      <td>D256</td>\n",
       "      <td>ARG</td>\n",
       "      <td>0.396</td>\n",
       "      <td>0.792</td>\n",
       "    </tr>\n",
       "    <tr>\n",
       "      <th>262</th>\n",
       "      <td>B263</td>\n",
       "      <td>ARG</td>\n",
       "      <td>D263</td>\n",
       "      <td>ARG</td>\n",
       "      <td>0.161</td>\n",
       "      <td>0.322</td>\n",
       "    </tr>\n",
       "    <tr>\n",
       "      <th>294</th>\n",
       "      <td>B296</td>\n",
       "      <td>ARG</td>\n",
       "      <td>D296</td>\n",
       "      <td>ARG</td>\n",
       "      <td>0.433</td>\n",
       "      <td>0.866</td>\n",
       "    </tr>\n",
       "    <tr>\n",
       "      <th>297</th>\n",
       "      <td>B299</td>\n",
       "      <td>ARG</td>\n",
       "      <td>D299</td>\n",
       "      <td>ARG</td>\n",
       "      <td>0.399</td>\n",
       "      <td>0.798</td>\n",
       "    </tr>\n",
       "    <tr>\n",
       "      <th>332</th>\n",
       "      <td>B334</td>\n",
       "      <td>ARG</td>\n",
       "      <td>D334</td>\n",
       "      <td>ARG</td>\n",
       "      <td>0.436</td>\n",
       "      <td>0.872</td>\n",
       "    </tr>\n",
       "    <tr>\n",
       "      <th>338</th>\n",
       "      <td>B340</td>\n",
       "      <td>ARG</td>\n",
       "      <td>D340</td>\n",
       "      <td>ARG</td>\n",
       "      <td>0.328</td>\n",
       "      <td>0.656</td>\n",
       "    </tr>\n",
       "    <tr>\n",
       "      <th>344</th>\n",
       "      <td>B346</td>\n",
       "      <td>ARG</td>\n",
       "      <td>D346</td>\n",
       "      <td>ARG</td>\n",
       "      <td>0.240</td>\n",
       "      <td>0.480</td>\n",
       "    </tr>\n",
       "    <tr>\n",
       "      <th>385</th>\n",
       "      <td>B387</td>\n",
       "      <td>ARG</td>\n",
       "      <td>D387</td>\n",
       "      <td>ARG</td>\n",
       "      <td>0.204</td>\n",
       "      <td>0.408</td>\n",
       "    </tr>\n",
       "    <tr>\n",
       "      <th>402</th>\n",
       "      <td>B404</td>\n",
       "      <td>ARG</td>\n",
       "      <td>D404</td>\n",
       "      <td>ARG</td>\n",
       "      <td>0.428</td>\n",
       "      <td>0.856</td>\n",
       "    </tr>\n",
       "    <tr>\n",
       "      <th>404</th>\n",
       "      <td>B406</td>\n",
       "      <td>ARG</td>\n",
       "      <td>D406</td>\n",
       "      <td>ARG</td>\n",
       "      <td>0.497</td>\n",
       "      <td>0.994</td>\n",
       "    </tr>\n",
       "    <tr>\n",
       "      <th>431</th>\n",
       "      <td>B433</td>\n",
       "      <td>ARG</td>\n",
       "      <td>D433</td>\n",
       "      <td>ARG</td>\n",
       "      <td>0.563</td>\n",
       "      <td>1.126</td>\n",
       "    </tr>\n",
       "    <tr>\n",
       "      <th>433</th>\n",
       "      <td>B435</td>\n",
       "      <td>ARG</td>\n",
       "      <td>D435</td>\n",
       "      <td>ARG</td>\n",
       "      <td>0.224</td>\n",
       "      <td>0.448</td>\n",
       "    </tr>\n",
       "  </tbody>\n",
       "</table>\n",
       "</div>"
      ],
      "text/plain": [
       "    PosPDB1  Aa1 PosPDB2  Aa2   RMSD  RMSD*2\n",
       "21      B21  LYS     D21  LYS  0.237   0.474\n",
       "126    B126  LYS    D126  LYS  0.184   0.368\n",
       "138    B138  LYS    D138  LYS  0.402   0.804\n",
       "149    B149  LYS    D149  LYS  0.345   0.690\n",
       "171    B171  LYS    D171  LYS  0.174   0.348\n",
       "184    B184  LYS    D184  LYS  0.456   0.912\n",
       "202    B202  LYS    D202  LYS  0.488   0.976\n",
       "210    B210  LYS    D210  LYS  0.671   1.342\n",
       "212    B212  LYS    D212  LYS  0.708   1.416\n",
       "221    B222  LYS    D222  LYS  0.414   0.828\n",
       "223    B224  LYS    D224  LYS  0.386   0.772\n",
       "270    B271  LYS    D271  LYS  0.358   0.716\n",
       "284    B285  LYS    D286  ASN  0.579   1.158\n",
       "299    B301  LYS    D301  LYS  0.339   0.678\n",
       "328    B330  LYS    D330  LYS  0.105   0.210\n",
       "340    B342  LYS    D342  LYS  0.241   0.482\n",
       "354    B356  LYS    D356  LYS  0.319   0.638\n",
       "398    B400  LYS    D400  LYS  0.567   1.134\n",
       "410    B412  LYS    D412  LYS  0.382   0.764\n",
       "428    B430  LYS    D430  LYS  0.612   1.224\n",
       "26      B26  ARG     D26  ARG  0.136   0.272\n",
       "99      B99  ARG     D99  ARG  0.107   0.214\n",
       "122    B122  ARG    D122  ARG  0.082   0.164\n",
       "123    B123  ARG    D123  ARG  0.026   0.052\n",
       "127    B127  ARG    D127  ARG  0.098   0.196\n",
       "155    B155  ARG    D155  ARG  0.438   0.876\n",
       "182    B182  ARG    D182  ARG  0.520   1.040\n",
       "194    B194  ARG    D194  ARG  0.131   0.262\n",
       "199    B199  ARG    D199  ARG  0.218   0.436\n",
       "252    B253  ARG    D253  ARG  0.418   0.836\n",
       "255    B256  ARG    D256  ARG  0.396   0.792\n",
       "262    B263  ARG    D263  ARG  0.161   0.322\n",
       "294    B296  ARG    D296  ARG  0.433   0.866\n",
       "297    B299  ARG    D299  ARG  0.399   0.798\n",
       "332    B334  ARG    D334  ARG  0.436   0.872\n",
       "338    B340  ARG    D340  ARG  0.328   0.656\n",
       "344    B346  ARG    D346  ARG  0.240   0.480\n",
       "385    B387  ARG    D387  ARG  0.204   0.408\n",
       "402    B404  ARG    D404  ARG  0.428   0.856\n",
       "404    B406  ARG    D406  ARG  0.497   0.994\n",
       "431    B433  ARG    D433  ARG  0.563   1.126\n",
       "433    B435  ARG    D435  ARG  0.224   0.448"
      ]
     },
     "execution_count": 69,
     "metadata": {},
     "output_type": "execute_result"
    }
   ],
   "source": [
    "pd.concat([tabla[tabla['Aa1'] == 'LYS'],tabla[tabla['Aa1'] == 'ARG']])"
   ]
  },
  {
   "cell_type": "markdown",
   "metadata": {},
   "source": [
    "+ Podemos, también, extraer las columnas que tiene un string dado:\n",
    "             \n",
    "\n",
    "``` python\n",
    "df[df['columna'].str.contains(\"string\")]         \n",
    "```\n",
    "**Filtra la tabla original para quedarte con la linea correspondiente a la posicion 301**                "
   ]
  },
  {
   "cell_type": "code",
   "execution_count": 72,
   "metadata": {},
   "outputs": [
    {
     "data": {
      "text/html": [
       "<div>\n",
       "<style scoped>\n",
       "    .dataframe tbody tr th:only-of-type {\n",
       "        vertical-align: middle;\n",
       "    }\n",
       "\n",
       "    .dataframe tbody tr th {\n",
       "        vertical-align: top;\n",
       "    }\n",
       "\n",
       "    .dataframe thead th {\n",
       "        text-align: right;\n",
       "    }\n",
       "</style>\n",
       "<table border=\"1\" class=\"dataframe\">\n",
       "  <thead>\n",
       "    <tr style=\"text-align: right;\">\n",
       "      <th></th>\n",
       "      <th>PosPDB1</th>\n",
       "      <th>Aa1</th>\n",
       "      <th>:</th>\n",
       "      <th>PosPDB2</th>\n",
       "      <th>Aa2</th>\n",
       "      <th>texto</th>\n",
       "      <th>RMSD</th>\n",
       "    </tr>\n",
       "  </thead>\n",
       "  <tbody>\n",
       "    <tr>\n",
       "      <th>299</th>\n",
       "      <td>B301</td>\n",
       "      <td>LYS</td>\n",
       "      <td>:</td>\n",
       "      <td>D301</td>\n",
       "      <td>LYS</td>\n",
       "      <td>RMS:</td>\n",
       "      <td>0.339</td>\n",
       "    </tr>\n",
       "  </tbody>\n",
       "</table>\n",
       "</div>"
      ],
      "text/plain": [
       "    PosPDB1  Aa1  : PosPDB2  Aa2 texto   RMSD\n",
       "299    B301  LYS  :    D301  LYS  RMS:  0.339"
      ]
     },
     "execution_count": 72,
     "metadata": {},
     "output_type": "execute_result"
    }
   ],
   "source": [
    "tabla[tabla['PosPDB1'].str.contains(\"B301\")]"
   ]
  },
  {
   "cell_type": "markdown",
   "metadata": {},
   "source": [
    "Pandas nos permite hacer una estadistica básica de nuestros dartos:"
   ]
  },
  {
   "cell_type": "code",
   "execution_count": 3,
   "metadata": {},
   "outputs": [
    {
     "data": {
      "text/html": [
       "<div>\n",
       "<table border=\"1\" class=\"dataframe\">\n",
       "  <thead>\n",
       "    <tr style=\"text-align: right;\">\n",
       "      <th></th>\n",
       "      <th>RMSD</th>\n",
       "    </tr>\n",
       "  </thead>\n",
       "  <tbody>\n",
       "    <tr>\n",
       "      <th>count</th>\n",
       "      <td>435.000000</td>\n",
       "    </tr>\n",
       "    <tr>\n",
       "      <th>mean</th>\n",
       "      <td>0.329632</td>\n",
       "    </tr>\n",
       "    <tr>\n",
       "      <th>std</th>\n",
       "      <td>0.171118</td>\n",
       "    </tr>\n",
       "    <tr>\n",
       "      <th>min</th>\n",
       "      <td>0.009000</td>\n",
       "    </tr>\n",
       "    <tr>\n",
       "      <th>25%</th>\n",
       "      <td>0.210000</td>\n",
       "    </tr>\n",
       "    <tr>\n",
       "      <th>50%</th>\n",
       "      <td>0.313000</td>\n",
       "    </tr>\n",
       "    <tr>\n",
       "      <th>75%</th>\n",
       "      <td>0.417500</td>\n",
       "    </tr>\n",
       "    <tr>\n",
       "      <th>max</th>\n",
       "      <td>0.969000</td>\n",
       "    </tr>\n",
       "  </tbody>\n",
       "</table>\n",
       "</div>"
      ],
      "text/plain": [
       "             RMSD\n",
       "count  435.000000\n",
       "mean     0.329632\n",
       "std      0.171118\n",
       "min      0.009000\n",
       "25%      0.210000\n",
       "50%      0.313000\n",
       "75%      0.417500\n",
       "max      0.969000"
      ]
     },
     "execution_count": 3,
     "metadata": {},
     "output_type": "execute_result"
    }
   ],
   "source": [
    "tabla.describe()"
   ]
  },
  {
   "cell_type": "code",
   "execution_count": 4,
   "metadata": {},
   "outputs": [
    {
     "data": {
      "text/plain": [
       "0.329632183908046"
      ]
     },
     "execution_count": 4,
     "metadata": {},
     "output_type": "execute_result"
    }
   ],
   "source": [
    "tabla['RMSD'].mean()"
   ]
  },
  {
   "cell_type": "code",
   "execution_count": 5,
   "metadata": {},
   "outputs": [
    {
     "data": {
      "text/plain": [
       "0.313"
      ]
     },
     "execution_count": 5,
     "metadata": {},
     "output_type": "execute_result"
    }
   ],
   "source": [
    "tabla['RMSD'].median()"
   ]
  },
  {
   "cell_type": "code",
   "execution_count": 6,
   "metadata": {},
   "outputs": [
    {
     "data": {
      "text/plain": [
       "0.96900000000000008"
      ]
     },
     "execution_count": 6,
     "metadata": {},
     "output_type": "execute_result"
    }
   ],
   "source": [
    "tabla['RMSD'].max()"
   ]
  },
  {
   "cell_type": "markdown",
   "metadata": {},
   "source": [
    "####EJERCICIO PRÁCTICO\n",
    "Agregar una columna nueva a la tabla que contenga el número de posición, extraído de la columna 'PosPDB1'."
   ]
  },
  {
   "cell_type": "markdown",
   "metadata": {},
   "source": [
    "**Solución Propuesta**\n",
    "``` python \n",
    "tabla['Position'] = tabla['PosPDB1'].str.replace('B','')\n",
    "tabla['Position'] = tabla['Position'].convert_objects(convert_numeric=True) \n",
    "```"
   ]
  },
  {
   "cell_type": "markdown",
   "metadata": {},
   "source": [
    "**Así mismo nos permite hacer algunos gráficos (no muy lindos). Por ejemplo podemos graficar la distribución de los RMSD:**"
   ]
  },
  {
   "cell_type": "code",
   "execution_count": 94,
   "metadata": {},
   "outputs": [
    {
     "name": "stdout",
     "output_type": "stream",
     "text": [
      "Populating the interactive namespace from numpy and matplotlib\n"
     ]
    },
    {
     "data": {
      "image/png": "[encoded data removed]",
      "text/plain": [
       "<Figure size 432x288 with 1 Axes>"
      ]
     },
     "metadata": {
      "needs_background": "light"
     },
     "output_type": "display_data"
    }
   ],
   "source": [
    "import matplotlib.pyplot as plt \n",
    "#Esto nos permite ver el grafico aqui mismo y no en una ventana extra\n",
    "%pylab inline\n",
    "plt.figure()\n",
    "tabla.boxplot('RMSD')\n",
    "plt.show()"
   ]
  },
  {
   "cell_type": "markdown",
   "metadata": {},
   "source": [
    "**Si quisieramos guardar el gráfico en un archivo debemos cambiar el plt.show() por:**\n",
    "\n",
    "``` python\n",
    "        plt.savefig('path_hacia_donde_lo_queremos/plot.png')\n",
    "```\n",
    "                \n",
    "                \n",
    "**Pandas nos permite agrupar los datos de nuestro dataFrame en base a los valores de una columna: por ejemplo si generamos una columna 'control' donde checkeamos si los residuos de esa posición son LYS o no, podemos saber la media de RMSD de las LYS respecto de las de los demas aminoácidos **"
   ]
  },
  {
   "cell_type": "code",
   "execution_count": 26,
   "metadata": {},
   "outputs": [
    {
     "data": {
      "text/html": [
       "<div>\n",
       "<table border=\"1\" class=\"dataframe\">\n",
       "  <thead>\n",
       "    <tr style=\"text-align: right;\">\n",
       "      <th></th>\n",
       "      <th>PosPDB1</th>\n",
       "      <th>Aa1</th>\n",
       "      <th>PosPDB2</th>\n",
       "      <th>Aa2</th>\n",
       "      <th>RMSD</th>\n",
       "      <th>control</th>\n",
       "    </tr>\n",
       "  </thead>\n",
       "  <tbody>\n",
       "    <tr>\n",
       "      <th>0</th>\n",
       "      <td>B0</td>\n",
       "      <td>ALA</td>\n",
       "      <td>D0</td>\n",
       "      <td>ALA</td>\n",
       "      <td>0.700</td>\n",
       "      <td>False</td>\n",
       "    </tr>\n",
       "    <tr>\n",
       "      <th>1</th>\n",
       "      <td>B1</td>\n",
       "      <td>MET</td>\n",
       "      <td>D1</td>\n",
       "      <td>MET</td>\n",
       "      <td>0.373</td>\n",
       "      <td>False</td>\n",
       "    </tr>\n",
       "  </tbody>\n",
       "</table>\n",
       "</div>"
      ],
      "text/plain": [
       "  PosPDB1  Aa1 PosPDB2  Aa2   RMSD control\n",
       "0      B0  ALA      D0  ALA  0.700   False\n",
       "1      B1  MET      D1  MET  0.373   False"
      ]
     },
     "execution_count": 26,
     "metadata": {},
     "output_type": "execute_result"
    }
   ],
   "source": [
    "tabla['control'] = tabla['Aa1'] == 'LYS'\n",
    "tabla.head(2)"
   ]
  },
  {
   "cell_type": "code",
   "execution_count": 27,
   "metadata": {},
   "outputs": [
    {
     "data": {
      "text/plain": [
       "control\n",
       "False    0.32632\n",
       "True     0.39835\n",
       "Name: RMSD, dtype: float64"
      ]
     },
     "execution_count": 27,
     "metadata": {},
     "output_type": "execute_result"
    }
   ],
   "source": [
    "tabla['RMSD'].groupby([tabla['control']]).mean()"
   ]
  },
  {
   "cell_type": "markdown",
   "metadata": {},
   "source": [
    "##Si hay pobreza, que no se note! /Trabajando con faltante de datos\n",
    "Cuando nustras tablas tienen faltantes de datos Pandas nos permite trabajar facilmente con ello. Salgamos un poco de nuestro ejemplo concreto y usemo un ejemplo genérico:"
   ]
  },
  {
   "cell_type": "code",
   "execution_count": 75,
   "metadata": {},
   "outputs": [],
   "source": [
    "import numpy as np\n",
    "#Creamos una tabla con valores numéricos al azar, con 5 rows (a,c,e,f y h) y 3 columnas (one, two, three)\n",
    "df = pd.DataFrame(np.random.randn(5, 3), index=['a', 'c', 'e', 'f', 'h'],columns=['one', 'two', 'three'])"
   ]
  },
  {
   "cell_type": "code",
   "execution_count": 76,
   "metadata": {},
   "outputs": [
    {
     "data": {
      "text/html": [
       "<div>\n",
       "<style scoped>\n",
       "    .dataframe tbody tr th:only-of-type {\n",
       "        vertical-align: middle;\n",
       "    }\n",
       "\n",
       "    .dataframe tbody tr th {\n",
       "        vertical-align: top;\n",
       "    }\n",
       "\n",
       "    .dataframe thead th {\n",
       "        text-align: right;\n",
       "    }\n",
       "</style>\n",
       "<table border=\"1\" class=\"dataframe\">\n",
       "  <thead>\n",
       "    <tr style=\"text-align: right;\">\n",
       "      <th></th>\n",
       "      <th>one</th>\n",
       "      <th>two</th>\n",
       "      <th>three</th>\n",
       "    </tr>\n",
       "  </thead>\n",
       "  <tbody>\n",
       "    <tr>\n",
       "      <th>a</th>\n",
       "      <td>-0.616628</td>\n",
       "      <td>1.033614</td>\n",
       "      <td>0.308103</td>\n",
       "    </tr>\n",
       "    <tr>\n",
       "      <th>b</th>\n",
       "      <td>NaN</td>\n",
       "      <td>NaN</td>\n",
       "      <td>NaN</td>\n",
       "    </tr>\n",
       "    <tr>\n",
       "      <th>c</th>\n",
       "      <td>0.323318</td>\n",
       "      <td>1.825656</td>\n",
       "      <td>0.604183</td>\n",
       "    </tr>\n",
       "    <tr>\n",
       "      <th>d</th>\n",
       "      <td>NaN</td>\n",
       "      <td>NaN</td>\n",
       "      <td>NaN</td>\n",
       "    </tr>\n",
       "    <tr>\n",
       "      <th>e</th>\n",
       "      <td>0.956066</td>\n",
       "      <td>0.205512</td>\n",
       "      <td>-0.586294</td>\n",
       "    </tr>\n",
       "    <tr>\n",
       "      <th>f</th>\n",
       "      <td>0.271318</td>\n",
       "      <td>-0.893078</td>\n",
       "      <td>-1.157576</td>\n",
       "    </tr>\n",
       "    <tr>\n",
       "      <th>g</th>\n",
       "      <td>NaN</td>\n",
       "      <td>NaN</td>\n",
       "      <td>NaN</td>\n",
       "    </tr>\n",
       "    <tr>\n",
       "      <th>h</th>\n",
       "      <td>-1.518784</td>\n",
       "      <td>-0.762902</td>\n",
       "      <td>-0.635687</td>\n",
       "    </tr>\n",
       "  </tbody>\n",
       "</table>\n",
       "</div>"
      ],
      "text/plain": [
       "        one       two     three\n",
       "a -0.616628  1.033614  0.308103\n",
       "b       NaN       NaN       NaN\n",
       "c  0.323318  1.825656  0.604183\n",
       "d       NaN       NaN       NaN\n",
       "e  0.956066  0.205512 -0.586294\n",
       "f  0.271318 -0.893078 -1.157576\n",
       "g       NaN       NaN       NaN\n",
       "h -1.518784 -0.762902 -0.635687"
      ]
     },
     "execution_count": 76,
     "metadata": {},
     "output_type": "execute_result"
    }
   ],
   "source": [
    "#Aqui reindexamos la tabla de modo que ahora nos quedan datos faltantes\n",
    "df2 = df.reindex(['a', 'b', 'c', 'd', 'e', 'f', 'g', 'h'])\n",
    "df2"
   ]
  },
  {
   "cell_type": "markdown",
   "metadata": {},
   "source": [
    "Como vemos los datos faltantes Pandas los muestra como 'NaN'. Debemos tener en cuenta que:\n",
    "        - Al sumar datos, los valores NA (faltantes) se tratarán como cero\n",
    "        - Si los datos son todos NA, el resultado será NA\n",
    "        - Los métodos como cumsum y cumprod ignoran los valores de NA, pero los preservan en las matrices resultantes\n",
    "        - Al agrupar sobre un DataFrame que contiene valores NA (con GroupBy), estos se excluyen automáticamente\n",
    "        \n",
    "**¿Cuál es el valor promedio de los valores de la columna 'one'?**"
   ]
  },
  {
   "cell_type": "code",
   "execution_count": 88,
   "metadata": {},
   "outputs": [
    {
     "data": {
      "text/plain": [
       "-0.11694215683714156"
      ]
     },
     "execution_count": 88,
     "metadata": {},
     "output_type": "execute_result"
    }
   ],
   "source": [
    "df['one'].cumsum()[-1]/len(df)"
   ]
  },
  {
   "cell_type": "markdown",
   "metadata": {},
   "source": [
    "De todos modos Pandas cuenta con una función qu enos permite rellenar los valores missing con lo que deseemos (puede ser un int como 0 o un string como 'ND'). Por ejemplo podemos rellenar con ceros las celdas faltantes:\n",
    "\n",
    "``` python\n",
    "        df2.fillna(0)\n",
    "```\n",
    "\n",
    "**Rellená los valores missing con ND y filtrá el DataFrame de modo que solo se vean las lineas con datos**"
   ]
  },
  {
   "cell_type": "code",
   "execution_count": 92,
   "metadata": {},
   "outputs": [
    {
     "data": {
      "text/html": [
       "<div>\n",
       "<style scoped>\n",
       "    .dataframe tbody tr th:only-of-type {\n",
       "        vertical-align: middle;\n",
       "    }\n",
       "\n",
       "    .dataframe tbody tr th {\n",
       "        vertical-align: top;\n",
       "    }\n",
       "\n",
       "    .dataframe thead th {\n",
       "        text-align: right;\n",
       "    }\n",
       "</style>\n",
       "<table border=\"1\" class=\"dataframe\">\n",
       "  <thead>\n",
       "    <tr style=\"text-align: right;\">\n",
       "      <th></th>\n",
       "      <th>one</th>\n",
       "      <th>two</th>\n",
       "      <th>three</th>\n",
       "    </tr>\n",
       "  </thead>\n",
       "  <tbody>\n",
       "    <tr>\n",
       "      <th>a</th>\n",
       "      <td>-0.616628</td>\n",
       "      <td>1.03361</td>\n",
       "      <td>0.308103</td>\n",
       "    </tr>\n",
       "    <tr>\n",
       "      <th>c</th>\n",
       "      <td>0.323318</td>\n",
       "      <td>1.82566</td>\n",
       "      <td>0.604183</td>\n",
       "    </tr>\n",
       "    <tr>\n",
       "      <th>e</th>\n",
       "      <td>0.956066</td>\n",
       "      <td>0.205512</td>\n",
       "      <td>-0.586294</td>\n",
       "    </tr>\n",
       "    <tr>\n",
       "      <th>f</th>\n",
       "      <td>0.271318</td>\n",
       "      <td>-0.893078</td>\n",
       "      <td>-1.15758</td>\n",
       "    </tr>\n",
       "    <tr>\n",
       "      <th>h</th>\n",
       "      <td>-1.51878</td>\n",
       "      <td>-0.762902</td>\n",
       "      <td>-0.635687</td>\n",
       "    </tr>\n",
       "  </tbody>\n",
       "</table>\n",
       "</div>"
      ],
      "text/plain": [
       "        one       two     three\n",
       "a -0.616628   1.03361  0.308103\n",
       "c  0.323318   1.82566  0.604183\n",
       "e  0.956066  0.205512 -0.586294\n",
       "f  0.271318 -0.893078  -1.15758\n",
       "h  -1.51878 -0.762902 -0.635687"
      ]
     },
     "execution_count": 92,
     "metadata": {},
     "output_type": "execute_result"
    }
   ],
   "source": [
    "df3 = df2.fillna('ND')\n",
    "df3[df3['one'] != 'ND']"
   ]
  },
  {
   "cell_type": "markdown",
   "metadata": {},
   "source": [
    "##Graficos bien cool!"
   ]
  },
  {
   "cell_type": "markdown",
   "metadata": {},
   "source": [
    "Seaborn es una librería que nos permite hacer todo tipo de gráficos, muy pero muy lindos. Lo mejor de todo es que se complementa con Pandas y nos permite graficar nuestro DataFrame sin reestructuración previa de los datos."
   ]
  },
  {
   "cell_type": "code",
   "execution_count": 1,
   "metadata": {},
   "outputs": [
    {
     "name": "stdout",
     "output_type": "stream",
     "text": [
      "Populating the interactive namespace from numpy and matplotlib\n"
     ]
    }
   ],
   "source": [
    "import seaborn as sns\n",
    "import matplotlib.pyplot as plt\n",
    "%pylab inline\n",
    "matplotlib.style.use('ggplot')"
   ]
  },
  {
   "cell_type": "code",
   "execution_count": 95,
   "metadata": {},
   "outputs": [
    {
     "data": {
      "text/plain": [
       "<matplotlib.axes._subplots.AxesSubplot at 0x7feb17cad8d0>"
      ]
     },
     "execution_count": 95,
     "metadata": {},
     "output_type": "execute_result"
    },
    {
     "data": {
      "image/png": "[encoded data removed]",
      "text/plain": [
       "<Figure size 432x288 with 1 Axes>"
      ]
     },
     "metadata": {},
     "output_type": "display_data"
    }
   ],
   "source": [
    "#Con set podemos elegir el estilo del grafico y las paletas\n",
    "sns.set(style=\"whitegrid\", palette=\"Paired\")\n",
    "sns.boxplot(tabla[\"RMSD\"])"
   ]
  },
  {
   "cell_type": "markdown",
   "metadata": {},
   "source": [
    "**Seaborn posee estilos o temas predeterminados, así como paletas de colores. De todos modos los colores de matplot pueden ser utilizados.**\n",
    "\n",
    "Codigos de colores: https://matplotlib.org/examples/color/named_colors.html\n",
    "\n",
    "Paletas de seaborn: https://seaborn.pydata.org/tutorial/color_palettes.html\n",
    "\n",
    "Estilos de seaborn: https://seaborn.pydata.org/tutorial/aesthetics.html"
   ]
  },
  {
   "cell_type": "code",
   "execution_count": 20,
   "metadata": {},
   "outputs": [
    {
     "data": {
      "text/plain": [
       "<matplotlib.text.Text at 0x7f0b1c292910>"
      ]
     },
     "execution_count": 20,
     "metadata": {},
     "output_type": "execute_result"
    },
    {
     "data": {
      "image/png": "[encoded data removed]",
      "text/plain": [
       "<matplotlib.figure.Figure at 0x7f0b1c22de10>"
      ]
     },
     "metadata": {},
     "output_type": "display_data"
    }
   ],
   "source": [
    "sns.despine(left=True) \n",
    "#Seteamos la paleta de colores y el estilo\n",
    "sns.set(style=\"darkgrid\")\n",
    "ax = sns.swarmplot(x=\"RMSD\", data=tabla, color=\".25\")\n",
    "#Podemos setear el tamaño de letra de \n",
    "ax.set_xlabel('RMSD', fontsize=12)"
   ]
  },
  {
   "cell_type": "code",
   "execution_count": 23,
   "metadata": {},
   "outputs": [
    {
     "data": {
      "text/plain": [
       "<matplotlib.text.Text at 0x7f0b1c066c10>"
      ]
     },
     "execution_count": 23,
     "metadata": {},
     "output_type": "execute_result"
    },
    {
     "data": {
      "image/png": "[encoded data removed]",
      "text/plain": [
       "<matplotlib.figure.Figure at 0x7f0b1bff7850>"
      ]
     },
     "metadata": {},
     "output_type": "display_data"
    }
   ],
   "source": [
    "sns.despine(left=True) \n",
    "sns.set(style=\"whitegrid\", palette=\"husl\")\n",
    "ax = sns.boxplot(x=\"RMSD\", data=tabla)\n",
    "ax = sns.swarmplot(x=\"RMSD\", data=tabla, color=\".25\")\n",
    "#Podemos setear el tamaño de letra de \n",
    "ax.set_xlabel('RMSD', fontsize=12)"
   ]
  },
  {
   "cell_type": "code",
   "execution_count": 14,
   "metadata": {},
   "outputs": [
    {
     "data": {
      "text/plain": [
       "<matplotlib.text.Text at 0x7f0b1c747ed0>"
      ]
     },
     "execution_count": 14,
     "metadata": {},
     "output_type": "execute_result"
    },
    {
     "data": {
      "image/png": "[encoded data removed]",
      "text/plain": [
       "<matplotlib.figure.Figure at 0x7f0b1c66f1d0>"
      ]
     },
     "metadata": {},
     "output_type": "display_data"
    }
   ],
   "source": [
    "sns.despine(left=True) \n",
    "sns.set(style=\"ticks\", palette=\"Set2\")\n",
    "ax = sns.distplot(tabla[\"RMSD\"])\n",
    "#Podemos setear el tamaño de letra de \n",
    "ax.set_xlabel('RMSD', fontsize=12)"
   ]
  },
  {
   "cell_type": "code",
   "execution_count": 9,
   "metadata": {},
   "outputs": [
    {
     "data": {
      "text/plain": [
       "<matplotlib.text.Text at 0x7f0b1d313d10>"
      ]
     },
     "execution_count": 9,
     "metadata": {},
     "output_type": "execute_result"
    },
    {
     "data": {
      "image/png": "[encoded data removed]",
      "text/plain": [
       "<matplotlib.figure.Figure at 0x7f0b1d360750>"
      ]
     },
     "metadata": {},
     "output_type": "display_data"
    }
   ],
   "source": [
    "sns.despine(left=True) \n",
    "sns.set(style=\"ticks\", palette=\"deep\")\n",
    "ax = sns.distplot(tabla.RMSD, rug=True, hist=False)\n",
    "#Podemos setear el tamaño de letra de \n",
    "ax.set_xlabel('RMSD', fontsize=12)"
   ]
  },
  {
   "cell_type": "markdown",
   "metadata": {},
   "source": [
    "**¿Te animás aseparar el dataFrame en dos 'LYS' y el resto y graficar  estas dos poblaciones?**"
   ]
  },
  {
   "cell_type": "code",
   "execution_count": 100,
   "metadata": {},
   "outputs": [
    {
     "name": "stdout",
     "output_type": "stream",
     "text": [
      "20\n"
     ]
    },
    {
     "data": {
      "image/png": "[encoded data removed]",
      "text/plain": [
       "<Figure size 432x288 with 1 Axes>"
      ]
     },
     "metadata": {},
     "output_type": "display_data"
    }
   ],
   "source": [
    "lys = tabla[tabla['Aa1'] == 'LYS']\n",
    "notlis = tabla[tabla['Aa1'] != 'LYS']\n",
    "\n",
    "objects = ('lys', 'notlys')\n",
    "y_pos = np.arange(len(objects))\n",
    "performance = [len(lys),len(notlis)]\n",
    "\n",
    "plt.bar(y_pos, performance, align='center', alpha=0.5)\n",
    "plt.xticks(y_pos, objects)\n",
    "plt.ylabel('cantidad')\n",
    "plt.title('Dos poblaciones')\n",
    "\n",
    "plt.show()"
   ]
  },
  {
   "cell_type": "code",
   "execution_count": null,
   "metadata": {},
   "outputs": [],
   "source": []
  }
 ],
 "metadata": {
  "kernelspec": {
   "display_name": "Python 3",
   "language": "python",
   "name": "python3"
  },
  "language_info": {
   "codemirror_mode": {
    "name": "ipython",
    "version": 3
   },
   "file_extension": ".py",
   "mimetype": "text/x-python",
   "name": "python",
   "nbconvert_exporter": "python",
   "pygments_lexer": "ipython3",
   "version": "3.7.6"
  }
 },
 "nbformat": 4,
 "nbformat_minor": 1
}
